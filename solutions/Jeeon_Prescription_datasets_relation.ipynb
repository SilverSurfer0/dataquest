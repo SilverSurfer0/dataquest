{
 "cells": [
  {
   "cell_type": "markdown",
   "metadata": {},
   "source": [
    "This notebook defines prescription_corpus_full and prescription_corpus_survey datasets relation."
   ]
  },
  {
   "cell_type": "code",
   "execution_count": 1,
   "metadata": {
    "collapsed": true
   },
   "outputs": [],
   "source": [
    "import pandas as pd"
   ]
  },
  {
   "cell_type": "markdown",
   "metadata": {},
   "source": [
    "Load both datasets: full and survey"
   ]
  },
  {
   "cell_type": "code",
   "execution_count": 24,
   "metadata": {
    "collapsed": true
   },
   "outputs": [],
   "source": [
    "prescr_corpus_full = pd.read_json('prescription-corpus-full-2012-12-08.json', encoding= 'utf-8')\n",
    "prescr_corpus_surv = pd.read_json('prescription-corpus-survey-2012-12-08.json', encoding= 'utf-8')"
   ]
  },
  {
   "cell_type": "markdown",
   "metadata": {},
   "source": [
    "Display shapes"
   ]
  },
  {
   "cell_type": "code",
   "execution_count": 34,
   "metadata": {},
   "outputs": [
    {
     "data": {
      "text/plain": [
       "(4974, 8)"
      ]
     },
     "execution_count": 34,
     "metadata": {},
     "output_type": "execute_result"
    }
   ],
   "source": [
    "prescr_corpus_full.shape"
   ]
  },
  {
   "cell_type": "code",
   "execution_count": 33,
   "metadata": {},
   "outputs": [
    {
     "data": {
      "text/plain": [
       "(1951, 8)"
      ]
     },
     "execution_count": 33,
     "metadata": {},
     "output_type": "execute_result"
    }
   ],
   "source": [
    "prescr_corpus_surv.shape"
   ]
  },
  {
   "cell_type": "markdown",
   "metadata": {},
   "source": [
    "Function to extract ids from _id column"
   ]
  },
  {
   "cell_type": "code",
   "execution_count": 28,
   "metadata": {
    "collapsed": true
   },
   "outputs": [],
   "source": [
    "def extract_ids(this_dict):\n",
    "    id = list(this_dict.values())[0]\n",
    "    return id"
   ]
  },
  {
   "cell_type": "markdown",
   "metadata": {},
   "source": [
    "Extract id for both datasets"
   ]
  },
  {
   "cell_type": "code",
   "execution_count": 30,
   "metadata": {},
   "outputs": [],
   "source": [
    "prescr_corpus_full['id'] = prescr_corpus_full['_id'].apply(extract_ids)\n",
    "prescr_corpus_surv['id'] = prescr_corpus_surv['_id'].apply(extract_ids)"
   ]
  },
  {
   "cell_type": "code",
   "execution_count": 31,
   "metadata": {},
   "outputs": [
    {
     "data": {
      "text/html": [
       "<div>\n",
       "<style>\n",
       "    .dataframe thead tr:only-child th {\n",
       "        text-align: right;\n",
       "    }\n",
       "\n",
       "    .dataframe thead th {\n",
       "        text-align: left;\n",
       "    }\n",
       "\n",
       "    .dataframe tbody tr th {\n",
       "        vertical-align: top;\n",
       "    }\n",
       "</style>\n",
       "<table border=\"1\" class=\"dataframe\">\n",
       "  <thead>\n",
       "    <tr style=\"text-align: right;\">\n",
       "      <th></th>\n",
       "      <th>_id</th>\n",
       "      <th>appointment</th>\n",
       "      <th>doctor</th>\n",
       "      <th>feedback</th>\n",
       "      <th>patient</th>\n",
       "      <th>prescription</th>\n",
       "      <th>rmp</th>\n",
       "      <th>id</th>\n",
       "    </tr>\n",
       "  </thead>\n",
       "  <tbody>\n",
       "    <tr>\n",
       "      <th>0</th>\n",
       "      <td>{'$oid': '5a2b637cb22475e2ae32bc5c'}</td>\n",
       "      <td>{'id': {'$oid': '5a1e57d413743a00148a3a1a'}, '...</td>\n",
       "      <td>{'id': {'$oid': '58564b22fc2fc90011811cdc'}, '...</td>\n",
       "      <td>{'id': {'$oid': '5a1e57d413743a00148a3a1a'}, '...</td>\n",
       "      <td>{'id': {'$oid': '59c3735befd219001236ed70'}, '...</td>\n",
       "      <td>{'id': {'$oid': '5a1e74106bbe5e0014c27651'}, '...</td>\n",
       "      <td>{'id': {'$oid': '58399633cc32be0011fe8957'}, '...</td>\n",
       "      <td>5a2b637cb22475e2ae32bc5c</td>\n",
       "    </tr>\n",
       "    <tr>\n",
       "      <th>1</th>\n",
       "      <td>{'$oid': '5a2b637cb22475e2ae32bc5d'}</td>\n",
       "      <td>{'id': {'$oid': '5a1e57d413743a00148a39a7'}, '...</td>\n",
       "      <td>{'id': {'$oid': '58564b22fc2fc90011811cdc'}, '...</td>\n",
       "      <td>{'id': {'$oid': '5a1e57d413743a00148a39a7'}, '...</td>\n",
       "      <td>{'id': {'$oid': '59c371ffefd219001236ea5c'}, '...</td>\n",
       "      <td>{'id': {'$oid': '5a1e6d1413743a00148a3dab'}, '...</td>\n",
       "      <td>{'id': {'$oid': '5808745eb9f4f70011ca4dac'}, '...</td>\n",
       "      <td>5a2b637cb22475e2ae32bc5d</td>\n",
       "    </tr>\n",
       "  </tbody>\n",
       "</table>\n",
       "</div>"
      ],
      "text/plain": [
       "                                    _id  \\\n",
       "0  {'$oid': '5a2b637cb22475e2ae32bc5c'}   \n",
       "1  {'$oid': '5a2b637cb22475e2ae32bc5d'}   \n",
       "\n",
       "                                         appointment  \\\n",
       "0  {'id': {'$oid': '5a1e57d413743a00148a3a1a'}, '...   \n",
       "1  {'id': {'$oid': '5a1e57d413743a00148a39a7'}, '...   \n",
       "\n",
       "                                              doctor  \\\n",
       "0  {'id': {'$oid': '58564b22fc2fc90011811cdc'}, '...   \n",
       "1  {'id': {'$oid': '58564b22fc2fc90011811cdc'}, '...   \n",
       "\n",
       "                                            feedback  \\\n",
       "0  {'id': {'$oid': '5a1e57d413743a00148a3a1a'}, '...   \n",
       "1  {'id': {'$oid': '5a1e57d413743a00148a39a7'}, '...   \n",
       "\n",
       "                                             patient  \\\n",
       "0  {'id': {'$oid': '59c3735befd219001236ed70'}, '...   \n",
       "1  {'id': {'$oid': '59c371ffefd219001236ea5c'}, '...   \n",
       "\n",
       "                                        prescription  \\\n",
       "0  {'id': {'$oid': '5a1e74106bbe5e0014c27651'}, '...   \n",
       "1  {'id': {'$oid': '5a1e6d1413743a00148a3dab'}, '...   \n",
       "\n",
       "                                                 rmp                        id  \n",
       "0  {'id': {'$oid': '58399633cc32be0011fe8957'}, '...  5a2b637cb22475e2ae32bc5c  \n",
       "1  {'id': {'$oid': '5808745eb9f4f70011ca4dac'}, '...  5a2b637cb22475e2ae32bc5d  "
      ]
     },
     "execution_count": 31,
     "metadata": {},
     "output_type": "execute_result"
    }
   ],
   "source": [
    "# Check how it looks\n",
    "prescr_corpus_full.head(2)"
   ]
  },
  {
   "cell_type": "markdown",
   "metadata": {},
   "source": [
    "A quick way to ensure id columns are compatible is to perform inner merge. The resulting dataset should have same num of rows as the surv."
   ]
  },
  {
   "cell_type": "code",
   "execution_count": null,
   "metadata": {
    "collapsed": true
   },
   "outputs": [],
   "source": [
    "merged_dataset = prescr_corpus_surv.merge(prescr_corpus_full,left_on='id', right_on='id')"
   ]
  },
  {
   "cell_type": "code",
   "execution_count": 48,
   "metadata": {},
   "outputs": [
    {
     "data": {
      "text/html": [
       "<div>\n",
       "<style>\n",
       "    .dataframe thead tr:only-child th {\n",
       "        text-align: right;\n",
       "    }\n",
       "\n",
       "    .dataframe thead th {\n",
       "        text-align: left;\n",
       "    }\n",
       "\n",
       "    .dataframe tbody tr th {\n",
       "        vertical-align: top;\n",
       "    }\n",
       "</style>\n",
       "<table border=\"1\" class=\"dataframe\">\n",
       "  <thead>\n",
       "    <tr style=\"text-align: right;\">\n",
       "      <th></th>\n",
       "      <th>_id_x</th>\n",
       "      <th>appointment_x</th>\n",
       "      <th>doctor_x</th>\n",
       "      <th>feedback_x</th>\n",
       "      <th>patient_x</th>\n",
       "      <th>prescription_x</th>\n",
       "      <th>rmp_x</th>\n",
       "      <th>id</th>\n",
       "      <th>_id_y</th>\n",
       "      <th>appointment_y</th>\n",
       "      <th>doctor_y</th>\n",
       "      <th>feedback_y</th>\n",
       "      <th>patient_y</th>\n",
       "      <th>prescription_y</th>\n",
       "      <th>rmp_y</th>\n",
       "    </tr>\n",
       "  </thead>\n",
       "  <tbody>\n",
       "    <tr>\n",
       "      <th>0</th>\n",
       "      <td>{'$oid': '5a2b637cb22475e2ae32bc63'}</td>\n",
       "      <td>{'id': {'$oid': '5a1d021d4f7188001487be51'}, '...</td>\n",
       "      <td>{'id': {'$oid': '57fa1b99a8746b001155cb98'}, '...</td>\n",
       "      <td>{'id': {'$oid': '5a1d021d4f7188001487be51'}, '...</td>\n",
       "      <td>{'id': {'$oid': '57f37fb9fca422001186a448'}, '...</td>\n",
       "      <td>{'id': {'$oid': '5a1d3ec013743a00148a378e'}, '...</td>\n",
       "      <td>{'id': {'$oid': '5805e6d5995bb80011fba444'}, '...</td>\n",
       "      <td>5a2b637cb22475e2ae32bc63</td>\n",
       "      <td>{'$oid': '5a2b637cb22475e2ae32bc63'}</td>\n",
       "      <td>{'id': {'$oid': '5a1d021d4f7188001487be51'}, '...</td>\n",
       "      <td>{'id': {'$oid': '57fa1b99a8746b001155cb98'}, '...</td>\n",
       "      <td>{'id': {'$oid': '5a1d021d4f7188001487be51'}, '...</td>\n",
       "      <td>{'id': {'$oid': '57f37fb9fca422001186a448'}, '...</td>\n",
       "      <td>{'id': {'$oid': '5a1d3ec013743a00148a378e'}, '...</td>\n",
       "      <td>{'id': {'$oid': '5805e6d5995bb80011fba444'}, '...</td>\n",
       "    </tr>\n",
       "    <tr>\n",
       "      <th>1</th>\n",
       "      <td>{'$oid': '5a2b637cb22475e2ae32bc76'}</td>\n",
       "      <td>{'id': {'$oid': '5a1baa677580fb00144e103d'}, '...</td>\n",
       "      <td>{'id': {'$oid': '57f3597ddc989900118223a4'}, '...</td>\n",
       "      <td>{'id': {'$oid': '5a1baa677580fb00144e103d'}, '...</td>\n",
       "      <td>{'id': {'$oid': '59c371feefd219001236dcfa'}, '...</td>\n",
       "      <td>{'id': {'$oid': '5a1bbc007580fb00144e12c4'}, '...</td>\n",
       "      <td>{'id': {'$oid': '58399633cc32be0011fe8957'}, '...</td>\n",
       "      <td>5a2b637cb22475e2ae32bc76</td>\n",
       "      <td>{'$oid': '5a2b637cb22475e2ae32bc76'}</td>\n",
       "      <td>{'id': {'$oid': '5a1baa677580fb00144e103d'}, '...</td>\n",
       "      <td>{'id': {'$oid': '57f3597ddc989900118223a4'}, '...</td>\n",
       "      <td>{'id': {'$oid': '5a1baa677580fb00144e103d'}, '...</td>\n",
       "      <td>{'id': {'$oid': '59c371feefd219001236dcfa'}, '...</td>\n",
       "      <td>{'id': {'$oid': '5a1bbc007580fb00144e12c4'}, '...</td>\n",
       "      <td>{'id': {'$oid': '58399633cc32be0011fe8957'}, '...</td>\n",
       "    </tr>\n",
       "    <tr>\n",
       "      <th>2</th>\n",
       "      <td>{'$oid': '5a2b637cb22475e2ae32bc79'}</td>\n",
       "      <td>{'id': {'$oid': '5a1a34d61c28630014305c22'}, '...</td>\n",
       "      <td>{'id': {'$oid': '588053b87b1cbd001196761b'}, '...</td>\n",
       "      <td>{'id': {'$oid': '5a1a34d61c28630014305c22'}, '...</td>\n",
       "      <td>{'id': {'$oid': '59c371fdefd219001236db60'}, '...</td>\n",
       "      <td>{'id': {'$oid': '5a1bac027580fb00144e12b1'}, '...</td>\n",
       "      <td>{'id': {'$oid': '59c0d1279e0ff9219b86d666'}, '...</td>\n",
       "      <td>5a2b637cb22475e2ae32bc79</td>\n",
       "      <td>{'$oid': '5a2b637cb22475e2ae32bc79'}</td>\n",
       "      <td>{'id': {'$oid': '5a1a34d61c28630014305c22'}, '...</td>\n",
       "      <td>{'id': {'$oid': '588053b87b1cbd001196761b'}, '...</td>\n",
       "      <td>{'id': {'$oid': '5a1a34d61c28630014305c22'}, '...</td>\n",
       "      <td>{'id': {'$oid': '59c371fdefd219001236db60'}, '...</td>\n",
       "      <td>{'id': {'$oid': '5a1bac027580fb00144e12b1'}, '...</td>\n",
       "      <td>{'id': {'$oid': '59c0d1279e0ff9219b86d666'}, '...</td>\n",
       "    </tr>\n",
       "  </tbody>\n",
       "</table>\n",
       "</div>"
      ],
      "text/plain": [
       "                                  _id_x  \\\n",
       "0  {'$oid': '5a2b637cb22475e2ae32bc63'}   \n",
       "1  {'$oid': '5a2b637cb22475e2ae32bc76'}   \n",
       "2  {'$oid': '5a2b637cb22475e2ae32bc79'}   \n",
       "\n",
       "                                       appointment_x  \\\n",
       "0  {'id': {'$oid': '5a1d021d4f7188001487be51'}, '...   \n",
       "1  {'id': {'$oid': '5a1baa677580fb00144e103d'}, '...   \n",
       "2  {'id': {'$oid': '5a1a34d61c28630014305c22'}, '...   \n",
       "\n",
       "                                            doctor_x  \\\n",
       "0  {'id': {'$oid': '57fa1b99a8746b001155cb98'}, '...   \n",
       "1  {'id': {'$oid': '57f3597ddc989900118223a4'}, '...   \n",
       "2  {'id': {'$oid': '588053b87b1cbd001196761b'}, '...   \n",
       "\n",
       "                                          feedback_x  \\\n",
       "0  {'id': {'$oid': '5a1d021d4f7188001487be51'}, '...   \n",
       "1  {'id': {'$oid': '5a1baa677580fb00144e103d'}, '...   \n",
       "2  {'id': {'$oid': '5a1a34d61c28630014305c22'}, '...   \n",
       "\n",
       "                                           patient_x  \\\n",
       "0  {'id': {'$oid': '57f37fb9fca422001186a448'}, '...   \n",
       "1  {'id': {'$oid': '59c371feefd219001236dcfa'}, '...   \n",
       "2  {'id': {'$oid': '59c371fdefd219001236db60'}, '...   \n",
       "\n",
       "                                      prescription_x  \\\n",
       "0  {'id': {'$oid': '5a1d3ec013743a00148a378e'}, '...   \n",
       "1  {'id': {'$oid': '5a1bbc007580fb00144e12c4'}, '...   \n",
       "2  {'id': {'$oid': '5a1bac027580fb00144e12b1'}, '...   \n",
       "\n",
       "                                               rmp_x  \\\n",
       "0  {'id': {'$oid': '5805e6d5995bb80011fba444'}, '...   \n",
       "1  {'id': {'$oid': '58399633cc32be0011fe8957'}, '...   \n",
       "2  {'id': {'$oid': '59c0d1279e0ff9219b86d666'}, '...   \n",
       "\n",
       "                         id                                 _id_y  \\\n",
       "0  5a2b637cb22475e2ae32bc63  {'$oid': '5a2b637cb22475e2ae32bc63'}   \n",
       "1  5a2b637cb22475e2ae32bc76  {'$oid': '5a2b637cb22475e2ae32bc76'}   \n",
       "2  5a2b637cb22475e2ae32bc79  {'$oid': '5a2b637cb22475e2ae32bc79'}   \n",
       "\n",
       "                                       appointment_y  \\\n",
       "0  {'id': {'$oid': '5a1d021d4f7188001487be51'}, '...   \n",
       "1  {'id': {'$oid': '5a1baa677580fb00144e103d'}, '...   \n",
       "2  {'id': {'$oid': '5a1a34d61c28630014305c22'}, '...   \n",
       "\n",
       "                                            doctor_y  \\\n",
       "0  {'id': {'$oid': '57fa1b99a8746b001155cb98'}, '...   \n",
       "1  {'id': {'$oid': '57f3597ddc989900118223a4'}, '...   \n",
       "2  {'id': {'$oid': '588053b87b1cbd001196761b'}, '...   \n",
       "\n",
       "                                          feedback_y  \\\n",
       "0  {'id': {'$oid': '5a1d021d4f7188001487be51'}, '...   \n",
       "1  {'id': {'$oid': '5a1baa677580fb00144e103d'}, '...   \n",
       "2  {'id': {'$oid': '5a1a34d61c28630014305c22'}, '...   \n",
       "\n",
       "                                           patient_y  \\\n",
       "0  {'id': {'$oid': '57f37fb9fca422001186a448'}, '...   \n",
       "1  {'id': {'$oid': '59c371feefd219001236dcfa'}, '...   \n",
       "2  {'id': {'$oid': '59c371fdefd219001236db60'}, '...   \n",
       "\n",
       "                                      prescription_y  \\\n",
       "0  {'id': {'$oid': '5a1d3ec013743a00148a378e'}, '...   \n",
       "1  {'id': {'$oid': '5a1bbc007580fb00144e12c4'}, '...   \n",
       "2  {'id': {'$oid': '5a1bac027580fb00144e12b1'}, '...   \n",
       "\n",
       "                                               rmp_y  \n",
       "0  {'id': {'$oid': '5805e6d5995bb80011fba444'}, '...  \n",
       "1  {'id': {'$oid': '58399633cc32be0011fe8957'}, '...  \n",
       "2  {'id': {'$oid': '59c0d1279e0ff9219b86d666'}, '...  "
      ]
     },
     "execution_count": 48,
     "metadata": {},
     "output_type": "execute_result"
    }
   ],
   "source": [
    "merged_dataset.head(3)"
   ]
  },
  {
   "cell_type": "code",
   "execution_count": 46,
   "metadata": {},
   "outputs": [
    {
     "data": {
      "text/plain": [
       "(1951, 15)"
      ]
     },
     "execution_count": 46,
     "metadata": {},
     "output_type": "execute_result"
    }
   ],
   "source": [
    "merged_dataset.shape"
   ]
  },
  {
   "cell_type": "markdown",
   "metadata": {},
   "source": [
    "The datasets a perfectly compatible (1951 rows, just like in surv dataset). Datasets relate by id."
   ]
  }
 ],
 "metadata": {
  "kernelspec": {
   "display_name": "Python 3",
   "language": "python",
   "name": "python3"
  },
  "language_info": {
   "codemirror_mode": {
    "name": "ipython",
    "version": 3
   },
   "file_extension": ".py",
   "mimetype": "text/x-python",
   "name": "python",
   "nbconvert_exporter": "python",
   "pygments_lexer": "ipython3",
   "version": "3.6.1"
  }
 },
 "nbformat": 4,
 "nbformat_minor": 2
}
