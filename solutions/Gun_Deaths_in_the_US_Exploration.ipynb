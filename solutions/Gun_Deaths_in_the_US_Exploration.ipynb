{
 "cells": [
  {
   "cell_type": "code",
   "execution_count": 59,
   "metadata": {},
   "outputs": [
    {
     "name": "stdout",
     "output_type": "stream",
     "text": [
      "[['1', '2012', '01', 'Suicide', '0', 'M', '34', 'Asian/Pacific Islander', '100', 'Home', '4'], ['2', '2012', '01', 'Suicide', '0', 'F', '21', 'White', '100', 'Street', '3'], ['3', '2012', '01', 'Suicide', '0', 'M', '60', 'White', '100', 'Other specified', '4'], ['4', '2012', '02', 'Suicide', '0', 'M', '64', 'White', '100', 'Home', '4'], ['5', '2012', '02', 'Suicide', '0', 'M', '31', 'White', '100', 'Other specified', '2']]\n"
     ]
    }
   ],
   "source": [
    "import csv\n",
    "\n",
    "f = open('guns.csv')\n",
    "data = list(csv.reader(f))\n",
    "\n",
    "headers=data.pop(0)\n",
    "print(data[:5])"
   ]
  },
  {
   "cell_type": "code",
   "execution_count": 2,
   "metadata": {},
   "outputs": [
    {
     "name": "stdout",
     "output_type": "stream",
     "text": [
      "{'2012': 33563, '2013': 33636, '2014': 33599}\n"
     ]
    }
   ],
   "source": [
    "year_counts={}\n",
    "for row in data:\n",
    "    if row[1] in year_counts:\n",
    "        year_counts[row[1]]+=1\n",
    "    else: year_counts[row[1]]=1\n",
    "\n",
    "print(year_counts)"
   ]
  },
  {
   "cell_type": "code",
   "execution_count": 3,
   "metadata": {},
   "outputs": [
    {
     "name": "stdout",
     "output_type": "stream",
     "text": [
      "[['1', '2012', '01', 'Suicide', '0', 'M', '34', 'Asian/Pacific Islander', '100', 'Home', '4'], ['2', '2012', '01', 'Suicide', '0', 'F', '21', 'White', '100', 'Street', '3'], ['3', '2012', '01', 'Suicide', '0', 'M', '60', 'White', '100', 'Other specified', '4'], ['4', '2012', '02', 'Suicide', '0', 'M', '64', 'White', '100', 'Home', '4'], ['5', '2012', '02', 'Suicide', '0', 'M', '31', 'White', '100', 'Other specified', '2']]\n"
     ]
    }
   ],
   "source": [
    "print(data[:5])"
   ]
  },
  {
   "cell_type": "code",
   "execution_count": 4,
   "metadata": {},
   "outputs": [
    {
     "name": "stdout",
     "output_type": "stream",
     "text": [
      "{datetime.datetime(2012, 1, 1, 0, 0): 2758, datetime.datetime(2012, 2, 1, 0, 0): 2357, datetime.datetime(2012, 3, 1, 0, 0): 2743, datetime.datetime(2012, 4, 1, 0, 0): 2795, datetime.datetime(2012, 5, 1, 0, 0): 2999, datetime.datetime(2012, 6, 1, 0, 0): 2826, datetime.datetime(2012, 7, 1, 0, 0): 3026, datetime.datetime(2012, 8, 1, 0, 0): 2954, datetime.datetime(2012, 9, 1, 0, 0): 2852, datetime.datetime(2012, 10, 1, 0, 0): 2733, datetime.datetime(2012, 11, 1, 0, 0): 2729, datetime.datetime(2012, 12, 1, 0, 0): 2791, datetime.datetime(2013, 1, 1, 0, 0): 2864, datetime.datetime(2013, 2, 1, 0, 0): 2375, datetime.datetime(2013, 3, 1, 0, 0): 2862, datetime.datetime(2013, 4, 1, 0, 0): 2798, datetime.datetime(2013, 5, 1, 0, 0): 2806, datetime.datetime(2013, 6, 1, 0, 0): 2920, datetime.datetime(2013, 7, 1, 0, 0): 3079, datetime.datetime(2013, 8, 1, 0, 0): 2859, datetime.datetime(2013, 9, 1, 0, 0): 2742, datetime.datetime(2013, 10, 1, 0, 0): 2808, datetime.datetime(2013, 11, 1, 0, 0): 2758, datetime.datetime(2013, 12, 1, 0, 0): 2765, datetime.datetime(2014, 1, 1, 0, 0): 2651, datetime.datetime(2014, 2, 1, 0, 0): 2361, datetime.datetime(2014, 3, 1, 0, 0): 2684, datetime.datetime(2014, 4, 1, 0, 0): 2862, datetime.datetime(2014, 5, 1, 0, 0): 2864, datetime.datetime(2014, 6, 1, 0, 0): 2931, datetime.datetime(2014, 7, 1, 0, 0): 2884, datetime.datetime(2014, 8, 1, 0, 0): 2970, datetime.datetime(2014, 9, 1, 0, 0): 2914, datetime.datetime(2014, 10, 1, 0, 0): 2865, datetime.datetime(2014, 11, 1, 0, 0): 2756, datetime.datetime(2014, 12, 1, 0, 0): 2857}\n"
     ]
    }
   ],
   "source": [
    "import datetime\n",
    "\n",
    "dates = [datetime.datetime(year=int(row[1]),month=int(row[2]),day=1) for row in data]\n",
    "\n",
    "date_counts={}\n",
    "for idx,row in enumerate(data):\n",
    "    if dates[idx] in date_counts:\n",
    "        date_counts[dates[idx]]+=1\n",
    "    else: date_counts[dates[idx]]=1\n",
    "\n",
    "print(date_counts)"
   ]
  },
  {
   "cell_type": "code",
   "execution_count": 18,
   "metadata": {},
   "outputs": [
    {
     "name": "stdout",
     "output_type": "stream",
     "text": [
      "{'F': 14449, 'M': 86349}\n",
      "{'Hispanic': 9022, 'Native American/Native Alaskan': 917, 'Asian/Pacific Islander': 1326, 'White': 66237, 'Black': 23296}\n"
     ]
    }
   ],
   "source": [
    "gender_counts={}\n",
    "race_counts={}\n",
    "for row in data:\n",
    "    if row[5] in gender_counts:\n",
    "        gender_counts[row[5]]+=1\n",
    "    else: gender_counts[row[5]]=1\n",
    "        \n",
    "    if row[7] in race_counts:\n",
    "        race_counts[row[7]]+=1\n",
    "    else: race_counts[row[7]]=1\n",
    "\n",
    "print(gender_counts)\n",
    "print(race_counts)"
   ]
  },
  {
   "cell_type": "code",
   "execution_count": 21,
   "metadata": {
    "collapsed": true
   },
   "outputs": [],
   "source": [
    "### An evident data is that Males are more involved that Females\n",
    "#Also we can see that 'White' race prevails in the dataset\n",
    "\n",
    "#Additionally a place of event could be explored.\n",
    "#Intent of the perpetrator.\n",
    "#The origin of the victim."
   ]
  },
  {
   "cell_type": "code",
   "execution_count": 23,
   "metadata": {},
   "outputs": [
    {
     "name": "stdout",
     "output_type": "stream",
     "text": [
      "[['Id', 'Year', 'Id', 'Sex', 'Id', 'Hispanic Origin', 'Id', 'Id2', 'Geography', 'Total', 'Race Alone - White', 'Race Alone - Hispanic', 'Race Alone - Black or African American', 'Race Alone - American Indian and Alaska Native', 'Race Alone - Asian', 'Race Alone - Native Hawaiian and Other Pacific Islander', 'Two or More Races'], ['cen42010', 'April 1, 2010 Census', 'totsex', 'Both Sexes', 'tothisp', 'Total', '0100000US', '', 'United States', '308745538', '197318956', '44618105', '40250635', '3739506', '15159516', '674625', '6984195']]\n"
     ]
    }
   ],
   "source": [
    "f = open('census.csv')\n",
    "census = list(csv.reader(f))\n",
    "print(census)"
   ]
  },
  {
   "cell_type": "code",
   "execution_count": 45,
   "metadata": {
    "scrolled": true
   },
   "outputs": [
    {
     "name": "stdout",
     "output_type": "stream",
     "text": [
      "racename in race_counts is: Asian/Pacific Islander\n",
      "value in census is: Race Alone - Asian\n",
      "value in census is: Race Alone - Native Hawaiian and Other Pacific Islander\n",
      "racename in race_counts is: Black\n",
      "value in census is: Race Alone - Black or African American\n",
      "racename in race_counts is: Hispanic\n",
      "value in census is: Race Alone - Hispanic\n",
      "racename in race_counts is: Native American/Native Alaskan\n",
      "value in census is: Race Alone - American Indian and Alaska Native\n",
      "racename in race_counts is: White\n",
      "value in census is: Race Alone - White\n",
      "{'White': 33.56849303419181, 'Asian/Pacific Islander': 8.374309664161762, 'Native American/Native Alaskan': 24.521955573811088, 'Black': 57.8773477735196, 'Hispanic': 20.220491210910907}\n"
     ]
    }
   ],
   "source": [
    "import re\n",
    "\n",
    "def map_races(race_counts):\n",
    "    mapping={}\n",
    "    searchkey_list = ['Asian|Pacific','Black','(Hispanic)(?! Origin)','Alaska','White']\n",
    "    for searchkey in searchkey_list:\n",
    "        for racename in race_counts:\n",
    "            if re.search(searchkey,racename) is not None:\n",
    "                print('racename in race_counts is: '+racename)\n",
    "                for idx,value in enumerate(census[0]):\n",
    "                    if re.search(searchkey,value) is not None:\n",
    "                        print('value in census is: '+value)\n",
    "                        if racename in mapping:\n",
    "                            mapping[racename]+=int(census[1][idx])\n",
    "                        else:\n",
    "                            mapping[racename]=int(census[1][idx])\n",
    "    return mapping\n",
    "\n",
    "mapping = map_races(race_counts)\n",
    "\n",
    "race_per_hundredk={}\n",
    "for racename in race_counts:\n",
    "    race_per_hundredk[racename] = race_counts[racename]/mapping[racename]*100000\n",
    "\n",
    "print(race_per_hundredk)"
   ]
  },
  {
   "cell_type": "code",
   "execution_count": 47,
   "metadata": {
    "collapsed": true
   },
   "outputs": [],
   "source": [
    "race_counts={}\n",
    "\n",
    "for row in data:\n",
    "    if row[3]=='Homicide':\n",
    "        if row[7] in race_counts:\n",
    "            race_counts[row[7]]+=1\n",
    "        else: race_counts[row[7]]=1"
   ]
  },
  {
   "cell_type": "code",
   "execution_count": 51,
   "metadata": {},
   "outputs": [
    {
     "name": "stdout",
     "output_type": "stream",
     "text": [
      "racename in race_counts is: Asian/Pacific Islander\n",
      "value in census is: Race Alone - Asian\n",
      "value in census is: Race Alone - Native Hawaiian and Other Pacific Islander\n",
      "racename in race_counts is: Black\n",
      "value in census is: Race Alone - Black or African American\n",
      "racename in race_counts is: Hispanic\n",
      "value in census is: Race Alone - Hispanic\n",
      "racename in race_counts is: Native American/Native Alaskan\n",
      "value in census is: Race Alone - American Indian and Alaska Native\n",
      "racename in race_counts is: White\n",
      "value in census is: Race Alone - White\n",
      "{'Black': 48.471284987180944, 'Asian/Pacific Islander': 3.530346230970155, 'White': 4.6356417981453335, 'Native American/Native Alaskan': 8.717729026240365, 'Hispanic': 12.627161104219914}\n"
     ]
    }
   ],
   "source": [
    "intents = [row[3] for row in data]\n",
    "races = [row[7] for row in data]\n",
    "\n",
    "homicide_race_counts={}\n",
    "for i,intent in enumerate(intents):\n",
    "    if intent=='Homicide':\n",
    "        if races[i] not in homicide_race_counts:\n",
    "            homicide_race_counts[races[i]]=1\n",
    "        else: homicide_race_counts[races[i]]+=1\n",
    "\n",
    "mapping = map_races(homicide_race_counts)\n",
    "\n",
    "homicide_race_per_hundredk={}\n",
    "for racename in homicide_race_counts:\n",
    "    homicide_race_per_hundredk[racename] = homicide_race_counts[racename]/mapping[racename]*100000\n",
    "\n",
    "print(homicide_race_per_hundredk)"
   ]
  },
  {
   "cell_type": "code",
   "execution_count": null,
   "metadata": {
    "collapsed": true
   },
   "outputs": [],
   "source": [
    "#I'm quite surprised to find out about such grouping by intention and race.\n",
    "#Now I suspect what top intent would for the White race - probably worth to prove.\n"
   ]
  },
  {
   "cell_type": "code",
   "execution_count": 15,
   "metadata": {
    "collapsed": true
   },
   "outputs": [],
   "source": [
    "#Feeding in the data\n",
    "import csv\n",
    "f = open('guns.csv')\n",
    "data = list(csv.reader(f))\n",
    "headers=data.pop(0)"
   ]
  },
  {
   "cell_type": "code",
   "execution_count": 16,
   "metadata": {
    "collapsed": true
   },
   "outputs": [],
   "source": [
    "#Finding a link if any between month and homicide rate"
   ]
  },
  {
   "cell_type": "code",
   "execution_count": 19,
   "metadata": {},
   "outputs": [
    {
     "name": "stdout",
     "output_type": "stream",
     "text": [
      "[('July', 3269), ('December', 3191), ('June', 3130), ('August', 3125), ('May', 2976), ('October', 2968), ('September', 2966), ('November', 2919), ('April', 2845), ('January', 2829), ('March', 2780), ('February', 2178)]\n"
     ]
    }
   ],
   "source": [
    "dates = [ datetime.datetime(year=int(row[1]), month=int(row[2]), day=1) for row in data ]\n",
    "\n",
    "homicide_per_month={}\n",
    "\n",
    "for idx,row in enumerate(data):\n",
    "    if row[3] == 'Homicide':\n",
    "        if dates[idx].strftime('%B') in homicide_per_month:\n",
    "            homicide_per_month[dates[idx].strftime('%B')]+=1\n",
    "        else:\n",
    "            homicide_per_month[dates[idx].strftime('%B')]=1\n",
    "\n",
    "#print(homicide_per_month)\n",
    "\n",
    "#put dictionary data in descending order based on value\n",
    "sorted_dict = sorted(homicide_per_month.items(), key = lambda kv: kv[1], reverse=True)\n",
    "print(sorted_dict)"
   ]
  },
  {
   "cell_type": "code",
   "execution_count": null,
   "metadata": {
    "collapsed": true
   },
   "outputs": [],
   "source": [
    "#Finding relationships between gender and homicide"
   ]
  },
  {
   "cell_type": "code",
   "execution_count": 21,
   "metadata": {},
   "outputs": [
    {
     "name": "stdout",
     "output_type": "stream",
     "text": [
      "{'M': 29803, 'F': 5373}\n"
     ]
    }
   ],
   "source": [
    "homicide_per_gender_count={}\n",
    "\n",
    "for idx, row in enumerate(data):\n",
    "    if row[3] == 'Homicide':\n",
    "        if row[5] in homicide_per_gender_count:\n",
    "            homicide_per_gender_count[row[5]]+=1\n",
    "        else:\n",
    "            homicide_per_gender_count[row[5]]=1\n",
    "\n",
    "print(homicide_per_gender_count)"
   ]
  },
  {
   "cell_type": "code",
   "execution_count": 27,
   "metadata": {},
   "outputs": [
    {
     "name": "stdout",
     "output_type": "stream",
     "text": [
      "{'White': {'M': 968, 'Both Sexes': 1132, 'F': 164}, 'Black': {'M': 294, 'Both Sexes': 328, 'F': 34}, 'Hispanic': {'F': 15, 'Both Sexes': 145, 'M': 130}, 'Asian/Pacific Islander': {'M': 9, 'Both Sexes': 12, 'F': 3}, 'Native American/Native Alaskan': {'M': 20, 'Both Sexes': 22, 'F': 2}}\n"
     ]
    }
   ],
   "source": [
    "#Exploring Accidental-causal events by gender and race in absolute values\n",
    "homicide_per_race_and_gender={}  #Should have a form: {race:{'F':441,'M':827, Both Sexes:1268}}\n",
    "\n",
    "for row in data:\n",
    "    if row[3]=='Accidental':\n",
    "        if row[7] not in homicide_per_race_and_gender:\n",
    "            homicide_per_race_and_gender[row[7]] = {}\n",
    "            homicide_per_race_and_gender[row[7]][row[5]]=1\n",
    "            homicide_per_race_and_gender[row[7]]['Both Sexes']=1\n",
    "        elif row[5] not in homicide_per_race_and_gender[row[7]]:\n",
    "            homicide_per_race_and_gender[row[7]][row[5]] = 1\n",
    "            if 'Both Sexes' not in homicide_per_race_and_gender[row[7]]:\n",
    "                homicide_per_race_and_gender[row[7]]['Both Sexes'] = 1\n",
    "            else:\n",
    "                homicide_per_race_and_gender[row[7]]['Both Sexes'] += 1\n",
    "        else:\n",
    "            homicide_per_race_and_gender[row[7]][row[5]] += 1\n",
    "            homicide_per_race_and_gender[row[7]]['Both Sexes'] += 1\n",
    "\n",
    "print(homicide_per_race_and_gender)\n",
    "\n"
   ]
  },
  {
   "cell_type": "code",
   "execution_count": 54,
   "metadata": {
    "scrolled": false
   },
   "outputs": [
    {
     "name": "stdout",
     "output_type": "stream",
     "text": [
      "Unsorted data per 100k\n",
      "('White', {'M': 968, 'Both Sexes': 1132, 'F': 164, 'Both Sexes per 100k': '0.57'})\n",
      "('Black', {'M': 294, 'Both Sexes': 328, 'F': 34, 'Both Sexes per 100k': '0.81'})\n",
      "('Hispanic', {'F': 15, 'Both Sexes': 145, 'M': 130, 'Both Sexes per 100k': '0.32'})\n",
      "('Asian/Pacific Islander', {'M': 9, 'Both Sexes': 12, 'F': 3, 'Both Sexes per 100k': '1.78'})\n",
      "('Native American/Native Alaskan', {'M': 20, 'Both Sexes': 22, 'F': 2, 'Both Sexes per 100k': '0.59'})\n"
     ]
    }
   ],
   "source": [
    "import re\n",
    "\n",
    "f = open('census.csv')\n",
    "census = list(csv.reader(f))\n",
    "\n",
    "#Exploring Accidental-causal events by gender and race per 100k population\n",
    "searchkey_list = ['Asian|Pacific','Black','(Hispanic)(?! Origin)','Alaska','White']\n",
    "\n",
    "homicide_per_race_and_gender_per100k = homicide_per_race_and_gender\n",
    "\n",
    "for racename in homicide_per_race_and_gender_per100k:\n",
    "    for searchkey_racename in searchkey_list:\n",
    "        if re.search(searchkey_racename,racename) is not None:\n",
    "            for idx,racename_census in enumerate(census[0]):\n",
    "                if re.search(searchkey_racename,racename_census) is not None:\n",
    "                    homicide_per_race_and_gender_per100k[racename]['Both Sexes per 100k'] = '{:.2f}'.format(int(homicide_per_race_and_gender_per100k[racename]['Both Sexes'])/int(census[1][idx])*100000)\n",
    "\n",
    "\n",
    "print('Unsorted data per 100k')\n",
    "for item in homicide_per_race_and_gender_per100k.items():\n",
    "    print(item)"
   ]
  },
  {
   "cell_type": "code",
   "execution_count": 56,
   "metadata": {},
   "outputs": [
    {
     "name": "stdout",
     "output_type": "stream",
     "text": [
      "Sorted data per 100k in descending order\n",
      "('Asian/Pacific Islander', {'M': 9, 'Both Sexes': 12, 'F': 3, 'Both Sexes per 100k': '1.78'})\n",
      "('Black', {'M': 294, 'Both Sexes': 328, 'F': 34, 'Both Sexes per 100k': '0.81'})\n",
      "('Native American/Native Alaskan', {'M': 20, 'Both Sexes': 22, 'F': 2, 'Both Sexes per 100k': '0.59'})\n",
      "('White', {'M': 968, 'Both Sexes': 1132, 'F': 164, 'Both Sexes per 100k': '0.57'})\n",
      "('Hispanic', {'F': 15, 'Both Sexes': 145, 'M': 130, 'Both Sexes per 100k': '0.32'})\n"
     ]
    }
   ],
   "source": [
    "#Sort Accident-causal events by occurrence per 100k\n",
    "\n",
    "print('Sorted data per 100k in descending order')\n",
    "homicide_per_race_and_gender_per100k = sorted(homicide_per_race_and_gender.items(), key = lambda kv: kv[1]['Both Sexes per 100k'], reverse=True)\n",
    "for row in homicide_per_race_and_gender_per100k:\n",
    "    print(row)\n",
    "    \n",
    "#Asians have higher accident-causal occurrence compared to other races."
   ]
  },
  {
   "cell_type": "code",
   "execution_count": 68,
   "metadata": {},
   "outputs": [
    {
     "name": "stdout",
     "output_type": "stream",
     "text": [
      "['', 'year', 'month', 'intent', 'police', 'sex', 'age', 'race', 'hispanic', 'place', 'education']\n",
      "{'Home': 60486, 'Street': 11151, 'Other specified': 13751, 'NA': 1384, 'Other unspecified': 8867, 'Trade/service area': 3439, 'Farm': 470, 'Industrial/construction': 248, 'School/instiution': 671, 'Sports': 128, 'Residential institution': 203}\n",
      "[('Home', 60486), ('Other specified', 13751), ('Street', 11151), ('Other unspecified', 8867), ('Trade/service area', 3439), ('NA', 1384), ('School/instiution', 671), ('Farm', 470), ('Industrial/construction', 248), ('Residential institution', 203), ('Sports', 128)]\n"
     ]
    }
   ],
   "source": [
    "#Finding out correclation of gun deaths to location\n",
    "causal_count_per_place = {}\n",
    "for row in data:\n",
    "    if row[9] not in causal_count_per_place:\n",
    "        causal_count_per_place[row[9]]=1\n",
    "    else:\n",
    "        causal_count_per_place[row[9]]+=1\n",
    "\n",
    "print(headers)\n",
    "print(causal_count_per_place)\n",
    "causal_count_per_place_sorted = sorted(causal_count_per_place.items(),key = lambda kv: kv[1], reverse=True)\n",
    "print(causal_count_per_place_sorted)\n"
   ]
  },
  {
   "cell_type": "code",
   "execution_count": 82,
   "metadata": {},
   "outputs": [
    {
     "name": "stdout",
     "output_type": "stream",
     "text": [
      "['', 'year', 'month', 'intent', 'police', 'sex', 'age', 'race', 'hispanic', 'place', 'education']\n",
      "\n",
      "Unsorted data\n",
      "{'At least graduated from College': 12946, 'Some College': 21680, 'Graduated from High School or equivalent': 42927, 'Less than High School': 21823, 'Not available': 1422}\n",
      "\n",
      "Sorted by value in descending order\n",
      "[('Graduated from High School or equivalent', 42927), ('Less than High School', 21823), ('Some College', 21680), ('At least graduated from College', 12946), ('Not available', 1422)]\n"
     ]
    }
   ],
   "source": [
    "#Finding out correclation of gun deaths to Education\n",
    "\n",
    "education_type_dict={'1':'Less than High School',\n",
    "                     '2':'Graduated from High School or equivalent',\n",
    "                     '3':'Some College',\n",
    "                     '4':'At least graduated from College',\n",
    "                     '5':'Not available'}\n",
    "\n",
    "causal_count_per_education = {}\n",
    "\n",
    "for row in data:\n",
    "    education_type = row[10]\n",
    "    try:\n",
    "        education_type_name = education_type_dict[education_type]\n",
    "    except Exception:\n",
    "        education_type_name = education_type_dict['5']\n",
    "    if education_type_name not in causal_count_per_education:\n",
    "        causal_count_per_education[education_type_name]=1\n",
    "    else:\n",
    "        causal_count_per_education[education_type_name]+=1\n",
    "\n",
    "print(headers)\n",
    "print('\\nUnsorted data')\n",
    "print(causal_count_per_education)\n",
    "\n",
    "causal_count_per_education_sorted = sorted(causal_count_per_education.items(),key = lambda kv: kv[1], reverse=True)\n",
    "print('\\nSorted by value in descending order')\n",
    "print(causal_count_per_education_sorted)\n",
    "\n",
    "# There is and evident correlation between Education level and gun deaths rate\n",
    "# High Schools graduates have the highest gun deaths rate\n",
    "# Those graduated from College have least death rate."
   ]
  }
 ],
 "metadata": {
  "kernelspec": {
   "display_name": "Python 3",
   "language": "python",
   "name": "python3"
  },
  "language_info": {
   "codemirror_mode": {
    "name": "ipython",
    "version": 3
   },
   "file_extension": ".py",
   "mimetype": "text/x-python",
   "name": "python",
   "nbconvert_exporter": "python",
   "pygments_lexer": "ipython3",
   "version": "3.6.1"
  }
 },
 "nbformat": 4,
 "nbformat_minor": 1
}
