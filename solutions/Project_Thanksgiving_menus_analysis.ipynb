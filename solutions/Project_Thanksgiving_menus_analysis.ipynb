{
 "cells": [
  {
   "cell_type": "code",
   "execution_count": 1,
   "metadata": {
    "collapsed": false
   },
   "outputs": [
    {
     "data": {
      "text/html": [
       "<div>\n",
       "<table border=\"1\" class=\"dataframe\">\n",
       "  <thead>\n",
       "    <tr style=\"text-align: right;\">\n",
       "      <th></th>\n",
       "      <th>RespondentID</th>\n",
       "      <th>Do you celebrate Thanksgiving?</th>\n",
       "      <th>What is typically the main dish at your Thanksgiving dinner?</th>\n",
       "      <th>What is typically the main dish at your Thanksgiving dinner? - Other (please specify)</th>\n",
       "      <th>How is the main dish typically cooked?</th>\n",
       "      <th>How is the main dish typically cooked? - Other (please specify)</th>\n",
       "      <th>What kind of stuffing/dressing do you typically have?</th>\n",
       "      <th>What kind of stuffing/dressing do you typically have? - Other (please specify)</th>\n",
       "      <th>What type of cranberry saucedo you typically have?</th>\n",
       "      <th>What type of cranberry saucedo you typically have? - Other (please specify)</th>\n",
       "      <th>...</th>\n",
       "      <th>Have you ever tried to meet up with hometown friends on Thanksgiving night?</th>\n",
       "      <th>Have you ever attended a \"Friendsgiving?\"</th>\n",
       "      <th>Will you shop any Black Friday sales on Thanksgiving Day?</th>\n",
       "      <th>Do you work in retail?</th>\n",
       "      <th>Will you employer make you work on Black Friday?</th>\n",
       "      <th>How would you describe where you live?</th>\n",
       "      <th>Age</th>\n",
       "      <th>What is your gender?</th>\n",
       "      <th>How much total combined money did all members of your HOUSEHOLD earn last year?</th>\n",
       "      <th>US Region</th>\n",
       "    </tr>\n",
       "  </thead>\n",
       "  <tbody>\n",
       "    <tr>\n",
       "      <th>0</th>\n",
       "      <td>4337954960</td>\n",
       "      <td>Yes</td>\n",
       "      <td>Turkey</td>\n",
       "      <td>NaN</td>\n",
       "      <td>Baked</td>\n",
       "      <td>NaN</td>\n",
       "      <td>Bread-based</td>\n",
       "      <td>NaN</td>\n",
       "      <td>None</td>\n",
       "      <td>NaN</td>\n",
       "      <td>...</td>\n",
       "      <td>Yes</td>\n",
       "      <td>No</td>\n",
       "      <td>No</td>\n",
       "      <td>No</td>\n",
       "      <td>NaN</td>\n",
       "      <td>Suburban</td>\n",
       "      <td>18 - 29</td>\n",
       "      <td>Male</td>\n",
       "      <td>$75,000 to $99,999</td>\n",
       "      <td>Middle Atlantic</td>\n",
       "    </tr>\n",
       "    <tr>\n",
       "      <th>1</th>\n",
       "      <td>4337951949</td>\n",
       "      <td>Yes</td>\n",
       "      <td>Turkey</td>\n",
       "      <td>NaN</td>\n",
       "      <td>Baked</td>\n",
       "      <td>NaN</td>\n",
       "      <td>Bread-based</td>\n",
       "      <td>NaN</td>\n",
       "      <td>Other (please specify)</td>\n",
       "      <td>Homemade cranberry gelatin ring</td>\n",
       "      <td>...</td>\n",
       "      <td>No</td>\n",
       "      <td>No</td>\n",
       "      <td>Yes</td>\n",
       "      <td>No</td>\n",
       "      <td>NaN</td>\n",
       "      <td>Rural</td>\n",
       "      <td>18 - 29</td>\n",
       "      <td>Female</td>\n",
       "      <td>$50,000 to $74,999</td>\n",
       "      <td>East South Central</td>\n",
       "    </tr>\n",
       "    <tr>\n",
       "      <th>2</th>\n",
       "      <td>4337935621</td>\n",
       "      <td>Yes</td>\n",
       "      <td>Turkey</td>\n",
       "      <td>NaN</td>\n",
       "      <td>Roasted</td>\n",
       "      <td>NaN</td>\n",
       "      <td>Rice-based</td>\n",
       "      <td>NaN</td>\n",
       "      <td>Homemade</td>\n",
       "      <td>NaN</td>\n",
       "      <td>...</td>\n",
       "      <td>Yes</td>\n",
       "      <td>Yes</td>\n",
       "      <td>Yes</td>\n",
       "      <td>No</td>\n",
       "      <td>NaN</td>\n",
       "      <td>Suburban</td>\n",
       "      <td>18 - 29</td>\n",
       "      <td>Male</td>\n",
       "      <td>$0 to $9,999</td>\n",
       "      <td>Mountain</td>\n",
       "    </tr>\n",
       "    <tr>\n",
       "      <th>3</th>\n",
       "      <td>4337933040</td>\n",
       "      <td>Yes</td>\n",
       "      <td>Turkey</td>\n",
       "      <td>NaN</td>\n",
       "      <td>Baked</td>\n",
       "      <td>NaN</td>\n",
       "      <td>Bread-based</td>\n",
       "      <td>NaN</td>\n",
       "      <td>Homemade</td>\n",
       "      <td>NaN</td>\n",
       "      <td>...</td>\n",
       "      <td>Yes</td>\n",
       "      <td>No</td>\n",
       "      <td>No</td>\n",
       "      <td>No</td>\n",
       "      <td>NaN</td>\n",
       "      <td>Urban</td>\n",
       "      <td>30 - 44</td>\n",
       "      <td>Male</td>\n",
       "      <td>$200,000 and up</td>\n",
       "      <td>Pacific</td>\n",
       "    </tr>\n",
       "    <tr>\n",
       "      <th>4</th>\n",
       "      <td>4337931983</td>\n",
       "      <td>Yes</td>\n",
       "      <td>Tofurkey</td>\n",
       "      <td>NaN</td>\n",
       "      <td>Baked</td>\n",
       "      <td>NaN</td>\n",
       "      <td>Bread-based</td>\n",
       "      <td>NaN</td>\n",
       "      <td>Canned</td>\n",
       "      <td>NaN</td>\n",
       "      <td>...</td>\n",
       "      <td>Yes</td>\n",
       "      <td>No</td>\n",
       "      <td>No</td>\n",
       "      <td>No</td>\n",
       "      <td>NaN</td>\n",
       "      <td>Urban</td>\n",
       "      <td>30 - 44</td>\n",
       "      <td>Male</td>\n",
       "      <td>$100,000 to $124,999</td>\n",
       "      <td>Pacific</td>\n",
       "    </tr>\n",
       "  </tbody>\n",
       "</table>\n",
       "<p>5 rows × 65 columns</p>\n",
       "</div>"
      ],
      "text/plain": [
       "   RespondentID Do you celebrate Thanksgiving?  \\\n",
       "0    4337954960                            Yes   \n",
       "1    4337951949                            Yes   \n",
       "2    4337935621                            Yes   \n",
       "3    4337933040                            Yes   \n",
       "4    4337931983                            Yes   \n",
       "\n",
       "  What is typically the main dish at your Thanksgiving dinner?  \\\n",
       "0                                             Turkey             \n",
       "1                                             Turkey             \n",
       "2                                             Turkey             \n",
       "3                                             Turkey             \n",
       "4                                           Tofurkey             \n",
       "\n",
       "  What is typically the main dish at your Thanksgiving dinner? - Other (please specify)  \\\n",
       "0                                                NaN                                      \n",
       "1                                                NaN                                      \n",
       "2                                                NaN                                      \n",
       "3                                                NaN                                      \n",
       "4                                                NaN                                      \n",
       "\n",
       "  How is the main dish typically cooked?  \\\n",
       "0                                  Baked   \n",
       "1                                  Baked   \n",
       "2                                Roasted   \n",
       "3                                  Baked   \n",
       "4                                  Baked   \n",
       "\n",
       "  How is the main dish typically cooked? - Other (please specify)  \\\n",
       "0                                                NaN                \n",
       "1                                                NaN                \n",
       "2                                                NaN                \n",
       "3                                                NaN                \n",
       "4                                                NaN                \n",
       "\n",
       "  What kind of stuffing/dressing do you typically have?  \\\n",
       "0                                        Bread-based      \n",
       "1                                        Bread-based      \n",
       "2                                         Rice-based      \n",
       "3                                        Bread-based      \n",
       "4                                        Bread-based      \n",
       "\n",
       "  What kind of stuffing/dressing do you typically have? - Other (please specify)  \\\n",
       "0                                                NaN                               \n",
       "1                                                NaN                               \n",
       "2                                                NaN                               \n",
       "3                                                NaN                               \n",
       "4                                                NaN                               \n",
       "\n",
       "  What type of cranberry saucedo you typically have?  \\\n",
       "0                                               None   \n",
       "1                             Other (please specify)   \n",
       "2                                           Homemade   \n",
       "3                                           Homemade   \n",
       "4                                             Canned   \n",
       "\n",
       "  What type of cranberry saucedo you typically have? - Other (please specify)  \\\n",
       "0                                                NaN                            \n",
       "1                    Homemade cranberry gelatin ring                            \n",
       "2                                                NaN                            \n",
       "3                                                NaN                            \n",
       "4                                                NaN                            \n",
       "\n",
       "          ...          \\\n",
       "0         ...           \n",
       "1         ...           \n",
       "2         ...           \n",
       "3         ...           \n",
       "4         ...           \n",
       "\n",
       "  Have you ever tried to meet up with hometown friends on Thanksgiving night?  \\\n",
       "0                                                Yes                            \n",
       "1                                                 No                            \n",
       "2                                                Yes                            \n",
       "3                                                Yes                            \n",
       "4                                                Yes                            \n",
       "\n",
       "  Have you ever attended a \"Friendsgiving?\"  \\\n",
       "0                                        No   \n",
       "1                                        No   \n",
       "2                                       Yes   \n",
       "3                                        No   \n",
       "4                                        No   \n",
       "\n",
       "  Will you shop any Black Friday sales on Thanksgiving Day?  \\\n",
       "0                                                 No          \n",
       "1                                                Yes          \n",
       "2                                                Yes          \n",
       "3                                                 No          \n",
       "4                                                 No          \n",
       "\n",
       "  Do you work in retail? Will you employer make you work on Black Friday?  \\\n",
       "0                     No                                              NaN   \n",
       "1                     No                                              NaN   \n",
       "2                     No                                              NaN   \n",
       "3                     No                                              NaN   \n",
       "4                     No                                              NaN   \n",
       "\n",
       "  How would you describe where you live?      Age What is your gender?  \\\n",
       "0                               Suburban  18 - 29                 Male   \n",
       "1                                  Rural  18 - 29               Female   \n",
       "2                               Suburban  18 - 29                 Male   \n",
       "3                                  Urban  30 - 44                 Male   \n",
       "4                                  Urban  30 - 44                 Male   \n",
       "\n",
       "  How much total combined money did all members of your HOUSEHOLD earn last year?  \\\n",
       "0                                 $75,000 to $99,999                                \n",
       "1                                 $50,000 to $74,999                                \n",
       "2                                       $0 to $9,999                                \n",
       "3                                    $200,000 and up                                \n",
       "4                               $100,000 to $124,999                                \n",
       "\n",
       "            US Region  \n",
       "0     Middle Atlantic  \n",
       "1  East South Central  \n",
       "2            Mountain  \n",
       "3             Pacific  \n",
       "4             Pacific  \n",
       "\n",
       "[5 rows x 65 columns]"
      ]
     },
     "execution_count": 1,
     "metadata": {},
     "output_type": "execute_result"
    }
   ],
   "source": [
    "import pandas as pd\n",
    "\n",
    "data = pd.read_csv('thanksgiving.csv', encoding='Latin-1')\n",
    "data.head()"
   ]
  },
  {
   "cell_type": "code",
   "execution_count": 12,
   "metadata": {
    "collapsed": false
   },
   "outputs": [
    {
     "data": {
      "text/plain": [
       "array(['RespondentID', 'Do you celebrate Thanksgiving?',\n",
       "       'What is typically the main dish at your Thanksgiving dinner?',\n",
       "       'What is typically the main dish at your Thanksgiving dinner? - Other (please specify)',\n",
       "       'How is the main dish typically cooked?',\n",
       "       'How is the main dish typically cooked? - Other (please specify)',\n",
       "       'What kind of stuffing/dressing do you typically have?',\n",
       "       'What kind of stuffing/dressing do you typically have? - Other (please specify)',\n",
       "       'What type of cranberry saucedo you typically have?',\n",
       "       'What type of cranberry saucedo you typically have? - Other (please specify)',\n",
       "       'Do you typically have gravy?',\n",
       "       'Which of these side dishes aretypically served at your Thanksgiving dinner? Please select all that apply. - Brussel sprouts',\n",
       "       'Which of these side dishes aretypically served at your Thanksgiving dinner? Please select all that apply. - Carrots',\n",
       "       'Which of these side dishes aretypically served at your Thanksgiving dinner? Please select all that apply. - Cauliflower',\n",
       "       'Which of these side dishes aretypically served at your Thanksgiving dinner? Please select all that apply. - Corn',\n",
       "       'Which of these side dishes aretypically served at your Thanksgiving dinner? Please select all that apply. - Cornbread',\n",
       "       'Which of these side dishes aretypically served at your Thanksgiving dinner? Please select all that apply. - Fruit salad',\n",
       "       'Which of these side dishes aretypically served at your Thanksgiving dinner? Please select all that apply. - Green beans/green bean casserole',\n",
       "       'Which of these side dishes aretypically served at your Thanksgiving dinner? Please select all that apply. - Macaroni and cheese',\n",
       "       'Which of these side dishes aretypically served at your Thanksgiving dinner? Please select all that apply. - Mashed potatoes',\n",
       "       'Which of these side dishes aretypically served at your Thanksgiving dinner? Please select all that apply. - Rolls/biscuits',\n",
       "       'Which of these side dishes aretypically served at your Thanksgiving dinner? Please select all that apply. - Squash',\n",
       "       'Which of these side dishes aretypically served at your Thanksgiving dinner? Please select all that apply. - Vegetable salad',\n",
       "       'Which of these side dishes aretypically served at your Thanksgiving dinner? Please select all that apply. - Yams/sweet potato casserole',\n",
       "       'Which of these side dishes aretypically served at your Thanksgiving dinner? Please select all that apply. - Other (please specify)',\n",
       "       'Which of these side dishes aretypically served at your Thanksgiving dinner? Please select all that apply. - Other (please specify).1',\n",
       "       'Which type of pie is typically served at your Thanksgiving dinner? Please select all that apply. - Apple',\n",
       "       'Which type of pie is typically served at your Thanksgiving dinner? Please select all that apply. - Buttermilk',\n",
       "       'Which type of pie is typically served at your Thanksgiving dinner? Please select all that apply. - Cherry',\n",
       "       'Which type of pie is typically served at your Thanksgiving dinner? Please select all that apply. - Chocolate',\n",
       "       'Which type of pie is typically served at your Thanksgiving dinner? Please select all that apply. - Coconut cream',\n",
       "       'Which type of pie is typically served at your Thanksgiving dinner? Please select all that apply. - Key lime',\n",
       "       'Which type of pie is typically served at your Thanksgiving dinner? Please select all that apply. - Peach',\n",
       "       'Which type of pie is typically served at your Thanksgiving dinner? Please select all that apply. - Pecan',\n",
       "       'Which type of pie is typically served at your Thanksgiving dinner? Please select all that apply. - Pumpkin',\n",
       "       'Which type of pie is typically served at your Thanksgiving dinner? Please select all that apply. - Sweet Potato',\n",
       "       'Which type of pie is typically served at your Thanksgiving dinner? Please select all that apply. - None',\n",
       "       'Which type of pie is typically served at your Thanksgiving dinner? Please select all that apply. - Other (please specify)',\n",
       "       'Which type of pie is typically served at your Thanksgiving dinner? Please select all that apply. - Other (please specify).1',\n",
       "       'Which of these desserts do you typically have at Thanksgiving dinner? Please select all that apply.   - Apple cobbler',\n",
       "       'Which of these desserts do you typically have at Thanksgiving dinner? Please select all that apply.   - Blondies',\n",
       "       'Which of these desserts do you typically have at Thanksgiving dinner? Please select all that apply.   - Brownies',\n",
       "       'Which of these desserts do you typically have at Thanksgiving dinner? Please select all that apply.   - Carrot cake',\n",
       "       'Which of these desserts do you typically have at Thanksgiving dinner? Please select all that apply.   - Cheesecake',\n",
       "       'Which of these desserts do you typically have at Thanksgiving dinner? Please select all that apply.   - Cookies',\n",
       "       'Which of these desserts do you typically have at Thanksgiving dinner? Please select all that apply.   - Fudge',\n",
       "       'Which of these desserts do you typically have at Thanksgiving dinner? Please select all that apply.   - Ice cream',\n",
       "       'Which of these desserts do you typically have at Thanksgiving dinner? Please select all that apply.   - Peach cobbler',\n",
       "       'Which of these desserts do you typically have at Thanksgiving dinner? Please select all that apply.   - None',\n",
       "       'Which of these desserts do you typically have at Thanksgiving dinner? Please select all that apply.   - Other (please specify)',\n",
       "       'Which of these desserts do you typically have at Thanksgiving dinner? Please select all that apply.   - Other (please specify).1',\n",
       "       'Do you typically pray before or after the Thanksgiving meal?',\n",
       "       'How far will you travel for Thanksgiving?',\n",
       "       \"Will you watch any of the following programs on Thanksgiving? Please select all that apply. - Macy's Parade\",\n",
       "       'What\\'s the age cutoff at your \"kids\\' table\" at Thanksgiving?',\n",
       "       'Have you ever tried to meet up with hometown friends on Thanksgiving night?',\n",
       "       'Have you ever attended a \"Friendsgiving?\"',\n",
       "       'Will you shop any Black Friday sales on Thanksgiving Day?',\n",
       "       'Do you work in retail?',\n",
       "       'Will you employer make you work on Black Friday?',\n",
       "       'How would you describe where you live?', 'Age',\n",
       "       'What is your gender?',\n",
       "       'How much total combined money did all members of your HOUSEHOLD earn last year?',\n",
       "       'US Region'], dtype=object)"
      ]
     },
     "execution_count": 12,
     "metadata": {},
     "output_type": "execute_result"
    }
   ],
   "source": [
    "data.columns.values"
   ]
  },
  {
   "cell_type": "code",
   "execution_count": 13,
   "metadata": {
    "collapsed": false
   },
   "outputs": [
    {
     "name": "stdout",
     "output_type": "stream",
     "text": [
      "celebrate 980, dont celebrate 78\n"
     ]
    }
   ],
   "source": [
    "celebrate = len(data[data['Do you celebrate Thanksgiving?']=='Yes'])\n",
    "dont_celebrate = len(data[data['Do you celebrate Thanksgiving?']=='No'])\n",
    "print('celebrate {}, dont celebrate {}'.format(celebrate, dont_celebrate))"
   ]
  },
  {
   "cell_type": "code",
   "execution_count": 15,
   "metadata": {
    "collapsed": false,
    "scrolled": true
   },
   "outputs": [
    {
     "data": {
      "text/plain": [
       "Yes    980\n",
       "Name: Do you celebrate Thanksgiving?, dtype: int64"
      ]
     },
     "execution_count": 15,
     "metadata": {},
     "output_type": "execute_result"
    }
   ],
   "source": [
    "data['Do you celebrate Thanksgiving?'].value_counts()"
   ]
  },
  {
   "cell_type": "code",
   "execution_count": 14,
   "metadata": {
    "collapsed": false
   },
   "outputs": [
    {
     "data": {
      "text/plain": [
       "980"
      ]
     },
     "execution_count": 14,
     "metadata": {},
     "output_type": "execute_result"
    }
   ],
   "source": [
    "data = data[data['Do you celebrate Thanksgiving?']=='Yes']\n",
    "len(data)"
   ]
  },
  {
   "cell_type": "code",
   "execution_count": 16,
   "metadata": {
    "collapsed": false
   },
   "outputs": [
    {
     "data": {
      "text/plain": [
       "Turkey                    859\n",
       "Other (please specify)     35\n",
       "Ham/Pork                   29\n",
       "Tofurkey                   20\n",
       "Chicken                    12\n",
       "Roast beef                 11\n",
       "I don't know                5\n",
       "Turducken                   3\n",
       "Name: What is typically the main dish at your Thanksgiving dinner?, dtype: int64"
      ]
     },
     "execution_count": 16,
     "metadata": {},
     "output_type": "execute_result"
    }
   ],
   "source": [
    "data['What is typically the main dish at your Thanksgiving dinner?'].value_counts()"
   ]
  },
  {
   "cell_type": "code",
   "execution_count": 17,
   "metadata": {
    "collapsed": false
   },
   "outputs": [
    {
     "data": {
      "text/plain": [
       "4      Yes\n",
       "33     Yes\n",
       "69      No\n",
       "72      No\n",
       "77     Yes\n",
       "145    Yes\n",
       "175    Yes\n",
       "218     No\n",
       "243    Yes\n",
       "275     No\n",
       "393    Yes\n",
       "399    Yes\n",
       "571    Yes\n",
       "594    Yes\n",
       "628     No\n",
       "774     No\n",
       "820     No\n",
       "837    Yes\n",
       "860     No\n",
       "953    Yes\n",
       "Name: Do you typically have gravy?, dtype: object"
      ]
     },
     "execution_count": 17,
     "metadata": {},
     "output_type": "execute_result"
    }
   ],
   "source": [
    "df_tofurkey = data[data['What is typically the main dish at your Thanksgiving dinner?']=='Tofurkey']\n",
    "df_tofurkey['Do you typically have gravy?']"
   ]
  },
  {
   "cell_type": "code",
   "execution_count": 20,
   "metadata": {
    "collapsed": false
   },
   "outputs": [
    {
     "data": {
      "text/plain": [
       "False    876\n",
       "True     182\n",
       "dtype: int64"
      ]
     },
     "execution_count": 20,
     "metadata": {},
     "output_type": "execute_result"
    }
   ],
   "source": [
    "apple_isnull = pd.isnull(data['Which type of pie is typically served at your Thanksgiving dinner? Please select all that apply. - Apple'])\n",
    "pumpkin_isnull = pd.isnull(data['Which type of pie is typically served at your Thanksgiving dinner? Please select all that apply. - Pumpkin'])\n",
    "pecan_isnull = pd.isnull(data['Which type of pie is typically served at your Thanksgiving dinner? Please select all that apply. - Pecan'])\n",
    "\n",
    "ate_pies = apple_isnull & pumpkin_isnull & pecan_isnull\n",
    "ate_pies.value_counts()"
   ]
  },
  {
   "cell_type": "code",
   "execution_count": 11,
   "metadata": {
    "collapsed": false
   },
   "outputs": [
    {
     "data": {
      "text/plain": [
       "45 - 59    286\n",
       "60+        264\n",
       "30 - 44    259\n",
       "18 - 29    216\n",
       "Name: Age, dtype: int64"
      ]
     },
     "execution_count": 11,
     "metadata": {},
     "output_type": "execute_result"
    }
   ],
   "source": [
    "data['Age'].value_counts()"
   ]
  },
  {
   "cell_type": "code",
   "execution_count": 16,
   "metadata": {
    "collapsed": false
   },
   "outputs": [
    {
     "data": {
      "text/plain": [
       "count    1025.000000\n",
       "mean       39.383415\n",
       "std        15.398493\n",
       "min        18.000000\n",
       "25%        30.000000\n",
       "50%        45.000000\n",
       "75%        60.000000\n",
       "max        60.000000\n",
       "Name: int_age, dtype: float64"
      ]
     },
     "execution_count": 16,
     "metadata": {},
     "output_type": "execute_result"
    }
   ],
   "source": [
    "import re\n",
    "\n",
    "def convert_vals_to_int(age_str):\n",
    "    if pd.isnull(age_str):\n",
    "        return None\n",
    "    age_str = re.split('\\W+',age_str)[0]\n",
    "    age_str = int(age_str)\n",
    "    return age_str\n",
    "\n",
    "data['int_age'] = data['Age'].apply(convert_vals_to_int)\n",
    "data['int_age'].describe()\n",
    "#data['int_age'].value_counts()"
   ]
  },
  {
   "cell_type": "code",
   "execution_count": 23,
   "metadata": {
    "collapsed": false
   },
   "outputs": [
    {
     "data": {
      "text/plain": [
       "count       889.000000\n",
       "mean      74077.615298\n",
       "std       59360.742902\n",
       "min           0.000000\n",
       "25%       25000.000000\n",
       "50%       50000.000000\n",
       "75%      100000.000000\n",
       "max      200000.000000\n",
       "Name: int_income, dtype: float64"
      ]
     },
     "execution_count": 23,
     "metadata": {},
     "output_type": "execute_result"
    }
   ],
   "source": [
    "def convert_income_to_int(income_str):\n",
    "    if pd.isnull(income_str):\n",
    "        return None\n",
    "    income_str = income_str.split(' ')[0]\n",
    "    if income_str == 'Prefer':\n",
    "        return None\n",
    "    income_str = re.sub('[\\$\\,]','',income_str)\n",
    "    return int(income_str)\n",
    "\n",
    "data['int_income'] = data['How much total combined money did all members of your HOUSEHOLD earn last year?'].apply(convert_income_to_int)\n",
    "data['int_income'].describe()"
   ]
  },
  {
   "cell_type": "code",
   "execution_count": null,
   "metadata": {
    "collapsed": true
   },
   "outputs": [],
   "source": [
    "#It is important to take the size of the household into account.\n",
    "#Without the latter, the depiction of incomes is not true."
   ]
  },
  {
   "cell_type": "code",
   "execution_count": 26,
   "metadata": {
    "collapsed": false
   },
   "outputs": [
    {
     "data": {
      "text/plain": [
       "Thanksgiving is happening at my home--I won't travel at all                         281\n",
       "Thanksgiving is local--it will take place in the town I live in                     203\n",
       "Thanksgiving is out of town but not too far--it's a drive of a few hours or less    150\n",
       "Thanksgiving is out of town and far away--I have to drive several hours or fly       55\n",
       "Name: How far will you travel for Thanksgiving?, dtype: int64"
      ]
     },
     "execution_count": 26,
     "metadata": {},
     "output_type": "execute_result"
    }
   ],
   "source": [
    "#How far people earning under 150000 will travel\n",
    "df_less_than_150k = data[data['int_income']<150000]\n",
    "col_how_far = df_less_than_150k['How far will you travel for Thanksgiving?']\n",
    "col_how_far.value_counts()"
   ]
  },
  {
   "cell_type": "code",
   "execution_count": 27,
   "metadata": {
    "collapsed": false
   },
   "outputs": [
    {
     "data": {
      "text/plain": [
       "Thanksgiving is happening at my home--I won't travel at all                         49\n",
       "Thanksgiving is local--it will take place in the town I live in                     25\n",
       "Thanksgiving is out of town but not too far--it's a drive of a few hours or less    16\n",
       "Thanksgiving is out of town and far away--I have to drive several hours or fly      12\n",
       "Name: How far will you travel for Thanksgiving?, dtype: int64"
      ]
     },
     "execution_count": 27,
     "metadata": {},
     "output_type": "execute_result"
    }
   ],
   "source": [
    "#How far people earning over 150000 will travel\n",
    "df_more_than_150k = data[data['int_income']>150000]\n",
    "col_how_far = df_more_than_150k['How far will you travel for Thanksgiving?']\n",
    "col_how_far.value_counts()"
   ]
  },
  {
   "cell_type": "code",
   "execution_count": null,
   "metadata": {
    "collapsed": true
   },
   "outputs": [],
   "source": [
    "#Not much correlation for income level and the distance travelled for the celebration."
   ]
  },
  {
   "cell_type": "code",
   "execution_count": 29,
   "metadata": {
    "collapsed": true
   },
   "outputs": [],
   "source": [
    "### Pivotting"
   ]
  },
  {
   "cell_type": "code",
   "execution_count": 31,
   "metadata": {
    "collapsed": false,
    "scrolled": true
   },
   "outputs": [
    {
     "data": {
      "text/html": [
       "<div>\n",
       "<table border=\"1\" class=\"dataframe\">\n",
       "  <thead>\n",
       "    <tr style=\"text-align: right;\">\n",
       "      <th>Have you ever attended a \"Friendsgiving?\"</th>\n",
       "      <th>No</th>\n",
       "      <th>Yes</th>\n",
       "    </tr>\n",
       "    <tr>\n",
       "      <th>Have you ever tried to meet up with hometown friends on Thanksgiving night?</th>\n",
       "      <th></th>\n",
       "      <th></th>\n",
       "    </tr>\n",
       "  </thead>\n",
       "  <tbody>\n",
       "    <tr>\n",
       "      <th>No</th>\n",
       "      <td>42.283702</td>\n",
       "      <td>37.010526</td>\n",
       "    </tr>\n",
       "    <tr>\n",
       "      <th>Yes</th>\n",
       "      <td>41.475410</td>\n",
       "      <td>33.976744</td>\n",
       "    </tr>\n",
       "  </tbody>\n",
       "</table>\n",
       "</div>"
      ],
      "text/plain": [
       "Have you ever attended a \"Friendsgiving?\"                  No        Yes\n",
       "Have you ever tried to meet up with hometown fr...                      \n",
       "No                                                  42.283702  37.010526\n",
       "Yes                                                 41.475410  33.976744"
      ]
     },
     "execution_count": 31,
     "metadata": {},
     "output_type": "execute_result"
    }
   ],
   "source": [
    "#Finding correlation for age and meeting with friends\n",
    "data.pivot_table(index='Have you ever tried to meet up with hometown friends on Thanksgiving night?',\n",
    "                columns='Have you ever attended a \"Friendsgiving?\"',\n",
    "                values='int_age')"
   ]
  },
  {
   "cell_type": "code",
   "execution_count": 32,
   "metadata": {
    "collapsed": false
   },
   "outputs": [
    {
     "data": {
      "text/html": [
       "<div>\n",
       "<table border=\"1\" class=\"dataframe\">\n",
       "  <thead>\n",
       "    <tr style=\"text-align: right;\">\n",
       "      <th>Have you ever attended a \"Friendsgiving?\"</th>\n",
       "      <th>No</th>\n",
       "      <th>Yes</th>\n",
       "    </tr>\n",
       "    <tr>\n",
       "      <th>Have you ever tried to meet up with hometown friends on Thanksgiving night?</th>\n",
       "      <th></th>\n",
       "      <th></th>\n",
       "    </tr>\n",
       "  </thead>\n",
       "  <tbody>\n",
       "    <tr>\n",
       "      <th>No</th>\n",
       "      <td>78914.549654</td>\n",
       "      <td>72894.736842</td>\n",
       "    </tr>\n",
       "    <tr>\n",
       "      <th>Yes</th>\n",
       "      <td>78750.000000</td>\n",
       "      <td>66019.736842</td>\n",
       "    </tr>\n",
       "  </tbody>\n",
       "</table>\n",
       "</div>"
      ],
      "text/plain": [
       "Have you ever attended a \"Friendsgiving?\"                     No           Yes\n",
       "Have you ever tried to meet up with hometown fr...                            \n",
       "No                                                  78914.549654  72894.736842\n",
       "Yes                                                 78750.000000  66019.736842"
      ]
     },
     "execution_count": 32,
     "metadata": {},
     "output_type": "execute_result"
    }
   ],
   "source": [
    "#Finding correlation for age and meeting with friends\n",
    "data.pivot_table(index='Have you ever tried to meet up with hometown friends on Thanksgiving night?',\n",
    "                columns='Have you ever attended a \"Friendsgiving?\"',\n",
    "                values='int_income')"
   ]
  },
  {
   "cell_type": "code",
   "execution_count": null,
   "metadata": {
    "collapsed": true
   },
   "outputs": [],
   "source": [
    "#Younger people tend to link with friends more frequently.\n",
    "#Same picture is seen for the income correlation."
   ]
  },
  {
   "cell_type": "markdown",
   "metadata": {},
   "source": [
    "### Most common dessert people eat"
   ]
  },
  {
   "cell_type": "code",
   "execution_count": 51,
   "metadata": {
    "collapsed": false,
    "scrolled": true
   },
   "outputs": [],
   "source": [
    "#get a list of rows with 'dessert' word in it\n",
    "phrase_search = 'dessert'\n",
    "colnames_dessert = []\n",
    "for row in data.columns.values:\n",
    "    if phrase_search in row:\n",
    "        colnames_dessert.append(row)"
   ]
  },
  {
   "cell_type": "code",
   "execution_count": 52,
   "metadata": {
    "collapsed": false
   },
   "outputs": [],
   "source": [
    "#gathering all unique values and occurence count across all dessert types\n",
    "dessert_types = pd.Series(name='Dessert Types')\n",
    "for colname in colnames_dessert:\n",
    "    val_count_series = data[colname].value_counts()\n",
    "    dessert_types = dessert_types.append(val_count_series)"
   ]
  },
  {
   "cell_type": "code",
   "execution_count": 58,
   "metadata": {
    "collapsed": false
   },
   "outputs": [
    {
     "name": "stdout",
     "output_type": "stream",
     "text": [
      "Ice cream                                                      266\n",
      "Cookies                                                        204\n",
      "Cheesecake                                                     191\n",
      "Other (please specify)                                         134\n",
      "Brownies                                                       128\n",
      "Apple cobbler                                                  110\n",
      "Peach cobbler                                                  103\n",
      "Carrot cake                                                     72\n",
      "Fudge                                                           43\n",
      "Blondies                                                        16\n",
      "pie                                                             13\n",
      "Pie                                                             12\n",
      "pies                                                             6\n",
      "Pumpkin pie                                                      4\n",
      "pumpkin pie                                                      4\n",
      "chocolate cake                                                   3\n",
      "Pies                                                             3\n",
      "cake                                                             2\n",
      "Flan                                                             2\n",
      "Pumpkin Pie                                                      2\n",
      "Fruit salad                                                      1\n",
      "bread pudding                                                    1\n",
      "I don't know                                                     1\n",
      "German Chocolate cake                                            1\n",
      "chocolate cake or coconut cake                                   1\n",
      "Just pie                                                         1\n",
      "Homemade Pumpkin Pie  and Pecan Pie                              1\n",
      "banana pudding                                                   1\n",
      "pumpkin and pecan pies                                           1\n",
      "german chocolate cake                                            1\n",
      "                                                              ... \n",
      "Pound Cake                                                       1\n",
      "Triple Treat (butterscotch, cream cheese mix, and nut crust      1\n",
      "a variety of pies                                                1\n",
      "PUMPKIN PIE, OF COURSE                                           1\n",
      "Banana Pudding                                                   1\n",
      "Other bars                                                       1\n",
      "Pecan and pumpkin pie                                            1\n",
      "PIES                                                             1\n",
      "see above                                                        1\n",
      "ethnic desserts                                                  1\n",
      "cheesecake.                                                      1\n",
      "Sparkling Apple Cider                                            1\n",
      "Date balls                                                       1\n",
      "Pies will do                                                     1\n",
      "Berry cobbler                                                    1\n",
      "pine nut cake                                                    1\n",
      "Chocolate Oreo pudding cake                                      1\n",
      "Pumpkin and pecan pie                                            1\n",
      "Pumpkin roll                                                     1\n",
      "Sometimes other things too                                       1\n",
      "Green cake                                                       1\n",
      "whipped cream for pie                                            1\n",
      "just pie                                                         1\n",
      "Lefse                                                            1\n",
      "usually plus another non-pie desert                              1\n",
      "Pie, pumpkin                                                     1\n",
      "Pumpkin log                                                      1\n",
      "Pies as noted above                                              1\n",
      "choc. cake                                                       1\n",
      "pies: pumpkin with cie cream vanilla, apple, pecan               1\n",
      "dtype: int64\n"
     ]
    }
   ],
   "source": [
    "dessert_types_sorted = dessert_types.sort_values(ascending=False)\n",
    "dessert_types_sorted.drop('None', inplace=True)\n",
    "print(dessert_types_sorted)"
   ]
  },
  {
   "cell_type": "markdown",
   "metadata": {},
   "source": [
    "### Most common complete meal people eat"
   ]
  },
  {
   "cell_type": "code",
   "execution_count": 60,
   "metadata": {
    "collapsed": false
   },
   "outputs": [],
   "source": [
    "#get a list of rows with 'dessert' word in it\n",
    "phrase_search = 'What is typically the main dish'\n",
    "colnames_maindish = []\n",
    "for row in data.columns.values:\n",
    "    if phrase_search in row:\n",
    "        colnames_maindish.append(row)"
   ]
  },
  {
   "cell_type": "code",
   "execution_count": 61,
   "metadata": {
    "collapsed": true
   },
   "outputs": [],
   "source": [
    "#gathering all unique values and occurence count across all dessert types\n",
    "maindish_type = pd.Series(name='Main Dish')\n",
    "for colname in colnames_maindish:\n",
    "    val_count_series = data[colname].value_counts()\n",
    "    maindish_type = maindish_type.append(val_count_series)"
   ]
  },
  {
   "cell_type": "code",
   "execution_count": 62,
   "metadata": {
    "collapsed": false,
    "scrolled": true
   },
   "outputs": [
    {
     "name": "stdout",
     "output_type": "stream",
     "text": [
      "Turkey                                                                                   859\n",
      "Other (please specify)                                                                    35\n",
      "Ham/Pork                                                                                  29\n",
      "Tofurkey                                                                                  20\n",
      "Chicken                                                                                   12\n",
      "Roast beef                                                                                11\n",
      "I don't know                                                                               5\n",
      "Turducken                                                                                  3\n",
      "seafood                                                                                    2\n",
      "Turkey and Ham                                                                             2\n",
      "Prime Rib                                                                                  2\n",
      "Homemade vegan entree                                                                      1\n",
      "Turkey & Ham or Seafood Hotdish (a secret family recipe).                                  1\n",
      "changes every year                                                                         1\n",
      "always different                                                                           1\n",
      "Both turkey and a vegetarian nut loaf                                                      1\n",
      "It varies, ham or turkey or boston butt                                                    1\n",
      "Restaurant with various choices.                                                           1\n",
      "A wild game bird which changes every year.                                                 1\n",
      "salmon                                                                                     1\n",
      "fish                                                                                       1\n",
      "steak                                                                                      1\n",
      "Duck                                                                                       1\n",
      "No predictable main dish                                                                   1\n",
      "Varies                                                                                     1\n",
      "some kind of lentil or vegetable stew                                                      1\n",
      "head cheese                                                                                1\n",
      "Venison                                                                                    1\n",
      "turkey, ham. vegetarian for me.                                                            1\n",
      "Steak                                                                                      1\n",
      "Turkey and Vegetarian Turkey                                                               1\n",
      "Varies significantly by year as one group of people we tend to be with are vegetarian      1\n",
      "A turkey and a ham. Always.                                                                1\n",
      "Lentil Loaf                                                                                1\n",
      "This year we are having baked lasagna, diff every year                                     1\n",
      "prime rib                                                                                  1\n",
      "gumbo                                                                                      1\n",
      "goose                                                                                      1\n",
      "Chicken Dressing                                                                           1\n",
      "alternate turkey & ham                                                                     1\n",
      "dtype: int64\n"
     ]
    }
   ],
   "source": [
    "maindish_type_sorted = maindish_type.sort_values(ascending=False)\n",
    "print(maindish_type_sorted)"
   ]
  },
  {
   "cell_type": "markdown",
   "metadata": {},
   "source": [
    "### How many people work on Thanksgiving"
   ]
  },
  {
   "cell_type": "code",
   "execution_count": 68,
   "metadata": {
    "collapsed": false
   },
   "outputs": [
    {
     "name": "stdout",
     "output_type": "stream",
     "text": [
      "RespondentID\n",
      "Do you celebrate Thanksgiving?\n",
      "What is typically the main dish at your Thanksgiving dinner?\n",
      "What is typically the main dish at your Thanksgiving dinner? - Other (please specify)\n",
      "How is the main dish typically cooked?\n",
      "How is the main dish typically cooked? - Other (please specify)\n",
      "What kind of stuffing/dressing do you typically have?\n",
      "What kind of stuffing/dressing do you typically have? - Other (please specify)\n",
      "What type of cranberry saucedo you typically have?\n",
      "What type of cranberry saucedo you typically have? - Other (please specify)\n",
      "Do you typically have gravy?\n",
      "Which of these side dishes aretypically served at your Thanksgiving dinner? Please select all that apply. - Brussel sprouts\n",
      "Which of these side dishes aretypically served at your Thanksgiving dinner? Please select all that apply. - Carrots\n",
      "Which of these side dishes aretypically served at your Thanksgiving dinner? Please select all that apply. - Cauliflower\n",
      "Which of these side dishes aretypically served at your Thanksgiving dinner? Please select all that apply. - Corn\n",
      "Which of these side dishes aretypically served at your Thanksgiving dinner? Please select all that apply. - Cornbread\n",
      "Which of these side dishes aretypically served at your Thanksgiving dinner? Please select all that apply. - Fruit salad\n",
      "Which of these side dishes aretypically served at your Thanksgiving dinner? Please select all that apply. - Green beans/green bean casserole\n",
      "Which of these side dishes aretypically served at your Thanksgiving dinner? Please select all that apply. - Macaroni and cheese\n",
      "Which of these side dishes aretypically served at your Thanksgiving dinner? Please select all that apply. - Mashed potatoes\n",
      "Which of these side dishes aretypically served at your Thanksgiving dinner? Please select all that apply. - Rolls/biscuits\n",
      "Which of these side dishes aretypically served at your Thanksgiving dinner? Please select all that apply. - Squash\n",
      "Which of these side dishes aretypically served at your Thanksgiving dinner? Please select all that apply. - Vegetable salad\n",
      "Which of these side dishes aretypically served at your Thanksgiving dinner? Please select all that apply. - Yams/sweet potato casserole\n",
      "Which of these side dishes aretypically served at your Thanksgiving dinner? Please select all that apply. - Other (please specify)\n",
      "Which of these side dishes aretypically served at your Thanksgiving dinner? Please select all that apply. - Other (please specify).1\n",
      "Which type of pie is typically served at your Thanksgiving dinner? Please select all that apply. - Apple\n",
      "Which type of pie is typically served at your Thanksgiving dinner? Please select all that apply. - Buttermilk\n",
      "Which type of pie is typically served at your Thanksgiving dinner? Please select all that apply. - Cherry\n",
      "Which type of pie is typically served at your Thanksgiving dinner? Please select all that apply. - Chocolate\n",
      "Which type of pie is typically served at your Thanksgiving dinner? Please select all that apply. - Coconut cream\n",
      "Which type of pie is typically served at your Thanksgiving dinner? Please select all that apply. - Key lime\n",
      "Which type of pie is typically served at your Thanksgiving dinner? Please select all that apply. - Peach\n",
      "Which type of pie is typically served at your Thanksgiving dinner? Please select all that apply. - Pecan\n",
      "Which type of pie is typically served at your Thanksgiving dinner? Please select all that apply. - Pumpkin\n",
      "Which type of pie is typically served at your Thanksgiving dinner? Please select all that apply. - Sweet Potato\n",
      "Which type of pie is typically served at your Thanksgiving dinner? Please select all that apply. - None\n",
      "Which type of pie is typically served at your Thanksgiving dinner? Please select all that apply. - Other (please specify)\n",
      "Which type of pie is typically served at your Thanksgiving dinner? Please select all that apply. - Other (please specify).1\n",
      "Which of these desserts do you typically have at Thanksgiving dinner? Please select all that apply.   - Apple cobbler\n",
      "Which of these desserts do you typically have at Thanksgiving dinner? Please select all that apply.   - Blondies\n",
      "Which of these desserts do you typically have at Thanksgiving dinner? Please select all that apply.   - Brownies\n",
      "Which of these desserts do you typically have at Thanksgiving dinner? Please select all that apply.   - Carrot cake\n",
      "Which of these desserts do you typically have at Thanksgiving dinner? Please select all that apply.   - Cheesecake\n",
      "Which of these desserts do you typically have at Thanksgiving dinner? Please select all that apply.   - Cookies\n",
      "Which of these desserts do you typically have at Thanksgiving dinner? Please select all that apply.   - Fudge\n",
      "Which of these desserts do you typically have at Thanksgiving dinner? Please select all that apply.   - Ice cream\n",
      "Which of these desserts do you typically have at Thanksgiving dinner? Please select all that apply.   - Peach cobbler\n",
      "Which of these desserts do you typically have at Thanksgiving dinner? Please select all that apply.   - None\n",
      "Which of these desserts do you typically have at Thanksgiving dinner? Please select all that apply.   - Other (please specify)\n",
      "Which of these desserts do you typically have at Thanksgiving dinner? Please select all that apply.   - Other (please specify).1\n",
      "Do you typically pray before or after the Thanksgiving meal?\n",
      "How far will you travel for Thanksgiving?\n",
      "Will you watch any of the following programs on Thanksgiving? Please select all that apply. - Macy's Parade\n",
      "What's the age cutoff at your \"kids' table\" at Thanksgiving?\n",
      "Have you ever tried to meet up with hometown friends on Thanksgiving night?\n",
      "Have you ever attended a \"Friendsgiving?\"\n",
      "Will you shop any Black Friday sales on Thanksgiving Day?\n",
      "Do you work in retail?\n",
      "Will you employer make you work on Black Friday?\n",
      "How would you describe where you live?\n",
      "Age\n",
      "What is your gender?\n",
      "How much total combined money did all members of your HOUSEHOLD earn last year?\n",
      "US Region\n"
     ]
    }
   ],
   "source": [
    "#print out all colnames to explore\n",
    "for row in data.columns.values:\n",
    "    print(row)"
   ]
  },
  {
   "cell_type": "code",
   "execution_count": 74,
   "metadata": {
    "collapsed": false
   },
   "outputs": [
    {
     "data": {
      "text/plain": [
       "Yes              43\n",
       "No               20\n",
       "Doesn't apply     7\n",
       "Name: Will you employer make you work on Black Friday?, dtype: int64"
      ]
     },
     "execution_count": 74,
     "metadata": {},
     "output_type": "execute_result"
    }
   ],
   "source": [
    "#People answered about work on the day of Thanksgiving\n",
    "data['Will you employer make you work on Black Friday?'].value_counts()"
   ]
  },
  {
   "cell_type": "markdown",
   "metadata": {},
   "source": [
    "#### Findings\n",
    "Only a few people answered the question, so we can not give an answer.\n",
    "Also can assume that (even though it can be a stretch) those who have to work on Thanksgiving, answered the question more frequently."
   ]
  },
  {
   "cell_type": "markdown",
   "metadata": {},
   "source": [
    "### Regional patterns in the dinner menus"
   ]
  },
  {
   "cell_type": "code",
   "execution_count": 83,
   "metadata": {
    "collapsed": false
   },
   "outputs": [],
   "source": [
    "# Function to create crosstab pattern\n",
    "\n",
    "def crosstab_pattern(colnames):\n",
    "    \n",
    "    # Function calculates crosstab pattern\n",
    "    # and sorts it by Turkey column in a descending order\n",
    "    \n",
    "    # Make a crosstab\n",
    "    df_per_dish_crosstab = pd.crosstab(data[colnames[0]],data[colnames[1]])\n",
    "    \n",
    "    # Calculate dish percentage per group\n",
    "    s_group_counts = data[colnames[0]].value_counts() # Returns Series with count of each value in a group\n",
    "    df_per_dish = df_per_dish_crosstab # Assign dataframe to a new variable\n",
    "    for groupname in s_group_counts.index.values:\n",
    "        df_per_dish.loc[groupname] = df_per_dish_crosstab.loc[groupname]/s_group_counts[groupname]*100\n",
    "    \n",
    "    # return Sorted dish by Turkey\n",
    "    return df_per_dish.sort_values(by='Turkey', ascending=False)"
   ]
  },
  {
   "cell_type": "code",
   "execution_count": 100,
   "metadata": {
    "collapsed": true
   },
   "outputs": [],
   "source": [
    "# Define Colnames\n",
    "colnames = ['US Region',\n",
    "    'What is typically the main dish at your Thanksgiving dinner?']\n",
    "\n",
    "# Get crosstab pattern\n",
    "df_pattern = crosstab_pattern(colnames)"
   ]
  },
  {
   "cell_type": "code",
   "execution_count": 101,
   "metadata": {
    "collapsed": false
   },
   "outputs": [
    {
     "data": {
      "text/html": [
       "<div>\n",
       "<table border=\"1\" class=\"dataframe\">\n",
       "  <thead>\n",
       "    <tr style=\"text-align: right;\">\n",
       "      <th>What is typically the main dish at your Thanksgiving dinner?</th>\n",
       "      <th>Chicken</th>\n",
       "      <th>Ham/Pork</th>\n",
       "      <th>I don't know</th>\n",
       "      <th>Other (please specify)</th>\n",
       "      <th>Roast beef</th>\n",
       "      <th>Tofurkey</th>\n",
       "      <th>Turducken</th>\n",
       "      <th>Turkey</th>\n",
       "    </tr>\n",
       "    <tr>\n",
       "      <th>US Region</th>\n",
       "      <th></th>\n",
       "      <th></th>\n",
       "      <th></th>\n",
       "      <th></th>\n",
       "      <th></th>\n",
       "      <th></th>\n",
       "      <th></th>\n",
       "      <th></th>\n",
       "    </tr>\n",
       "  </thead>\n",
       "  <tbody>\n",
       "    <tr>\n",
       "      <th>East North Central</th>\n",
       "      <td>0.000000</td>\n",
       "      <td>2.666667</td>\n",
       "      <td>0.000000</td>\n",
       "      <td>3.333333</td>\n",
       "      <td>0.000000</td>\n",
       "      <td>0.666667</td>\n",
       "      <td>0.000000</td>\n",
       "      <td>90.000000</td>\n",
       "    </tr>\n",
       "    <tr>\n",
       "      <th>New England</th>\n",
       "      <td>3.448276</td>\n",
       "      <td>0.000000</td>\n",
       "      <td>0.000000</td>\n",
       "      <td>1.724138</td>\n",
       "      <td>0.000000</td>\n",
       "      <td>1.724138</td>\n",
       "      <td>0.000000</td>\n",
       "      <td>87.931034</td>\n",
       "    </tr>\n",
       "    <tr>\n",
       "      <th>West South Central</th>\n",
       "      <td>1.098901</td>\n",
       "      <td>2.197802</td>\n",
       "      <td>0.000000</td>\n",
       "      <td>3.296703</td>\n",
       "      <td>0.000000</td>\n",
       "      <td>2.197802</td>\n",
       "      <td>0.000000</td>\n",
       "      <td>84.615385</td>\n",
       "    </tr>\n",
       "    <tr>\n",
       "      <th>South Atlantic</th>\n",
       "      <td>1.401869</td>\n",
       "      <td>3.271028</td>\n",
       "      <td>0.000000</td>\n",
       "      <td>2.803738</td>\n",
       "      <td>1.401869</td>\n",
       "      <td>1.401869</td>\n",
       "      <td>0.000000</td>\n",
       "      <td>84.579439</td>\n",
       "    </tr>\n",
       "    <tr>\n",
       "      <th>East South Central</th>\n",
       "      <td>0.000000</td>\n",
       "      <td>1.666667</td>\n",
       "      <td>0.000000</td>\n",
       "      <td>6.666667</td>\n",
       "      <td>1.666667</td>\n",
       "      <td>0.000000</td>\n",
       "      <td>0.000000</td>\n",
       "      <td>83.333333</td>\n",
       "    </tr>\n",
       "    <tr>\n",
       "      <th>Middle Atlantic</th>\n",
       "      <td>0.628931</td>\n",
       "      <td>1.257862</td>\n",
       "      <td>0.000000</td>\n",
       "      <td>2.515723</td>\n",
       "      <td>1.257862</td>\n",
       "      <td>3.144654</td>\n",
       "      <td>0.628931</td>\n",
       "      <td>81.761006</td>\n",
       "    </tr>\n",
       "    <tr>\n",
       "      <th>West North Central</th>\n",
       "      <td>1.351351</td>\n",
       "      <td>5.405405</td>\n",
       "      <td>1.351351</td>\n",
       "      <td>4.054054</td>\n",
       "      <td>0.000000</td>\n",
       "      <td>2.702703</td>\n",
       "      <td>0.000000</td>\n",
       "      <td>81.081081</td>\n",
       "    </tr>\n",
       "    <tr>\n",
       "      <th>Mountain</th>\n",
       "      <td>2.127660</td>\n",
       "      <td>2.127660</td>\n",
       "      <td>0.000000</td>\n",
       "      <td>0.000000</td>\n",
       "      <td>0.000000</td>\n",
       "      <td>4.255319</td>\n",
       "      <td>0.000000</td>\n",
       "      <td>78.723404</td>\n",
       "    </tr>\n",
       "    <tr>\n",
       "      <th>Pacific</th>\n",
       "      <td>0.000000</td>\n",
       "      <td>4.109589</td>\n",
       "      <td>0.684932</td>\n",
       "      <td>6.164384</td>\n",
       "      <td>0.684932</td>\n",
       "      <td>2.739726</td>\n",
       "      <td>1.369863</td>\n",
       "      <td>73.287671</td>\n",
       "    </tr>\n",
       "  </tbody>\n",
       "</table>\n",
       "</div>"
      ],
      "text/plain": [
       "What is typically the main dish at your Thanksgiving dinner?   Chicken  \\\n",
       "US Region                                                                \n",
       "East North Central                                            0.000000   \n",
       "New England                                                   3.448276   \n",
       "West South Central                                            1.098901   \n",
       "South Atlantic                                                1.401869   \n",
       "East South Central                                            0.000000   \n",
       "Middle Atlantic                                               0.628931   \n",
       "West North Central                                            1.351351   \n",
       "Mountain                                                      2.127660   \n",
       "Pacific                                                       0.000000   \n",
       "\n",
       "What is typically the main dish at your Thanksgiving dinner?  Ham/Pork  \\\n",
       "US Region                                                                \n",
       "East North Central                                            2.666667   \n",
       "New England                                                   0.000000   \n",
       "West South Central                                            2.197802   \n",
       "South Atlantic                                                3.271028   \n",
       "East South Central                                            1.666667   \n",
       "Middle Atlantic                                               1.257862   \n",
       "West North Central                                            5.405405   \n",
       "Mountain                                                      2.127660   \n",
       "Pacific                                                       4.109589   \n",
       "\n",
       "What is typically the main dish at your Thanksgiving dinner?  I don't know  \\\n",
       "US Region                                                                    \n",
       "East North Central                                                0.000000   \n",
       "New England                                                       0.000000   \n",
       "West South Central                                                0.000000   \n",
       "South Atlantic                                                    0.000000   \n",
       "East South Central                                                0.000000   \n",
       "Middle Atlantic                                                   0.000000   \n",
       "West North Central                                                1.351351   \n",
       "Mountain                                                          0.000000   \n",
       "Pacific                                                           0.684932   \n",
       "\n",
       "What is typically the main dish at your Thanksgiving dinner?  Other (please specify)  \\\n",
       "US Region                                                                              \n",
       "East North Central                                                          3.333333   \n",
       "New England                                                                 1.724138   \n",
       "West South Central                                                          3.296703   \n",
       "South Atlantic                                                              2.803738   \n",
       "East South Central                                                          6.666667   \n",
       "Middle Atlantic                                                             2.515723   \n",
       "West North Central                                                          4.054054   \n",
       "Mountain                                                                    0.000000   \n",
       "Pacific                                                                     6.164384   \n",
       "\n",
       "What is typically the main dish at your Thanksgiving dinner?  Roast beef  \\\n",
       "US Region                                                                  \n",
       "East North Central                                              0.000000   \n",
       "New England                                                     0.000000   \n",
       "West South Central                                              0.000000   \n",
       "South Atlantic                                                  1.401869   \n",
       "East South Central                                              1.666667   \n",
       "Middle Atlantic                                                 1.257862   \n",
       "West North Central                                              0.000000   \n",
       "Mountain                                                        0.000000   \n",
       "Pacific                                                         0.684932   \n",
       "\n",
       "What is typically the main dish at your Thanksgiving dinner?  Tofurkey  \\\n",
       "US Region                                                                \n",
       "East North Central                                            0.666667   \n",
       "New England                                                   1.724138   \n",
       "West South Central                                            2.197802   \n",
       "South Atlantic                                                1.401869   \n",
       "East South Central                                            0.000000   \n",
       "Middle Atlantic                                               3.144654   \n",
       "West North Central                                            2.702703   \n",
       "Mountain                                                      4.255319   \n",
       "Pacific                                                       2.739726   \n",
       "\n",
       "What is typically the main dish at your Thanksgiving dinner?  Turducken  \\\n",
       "US Region                                                                 \n",
       "East North Central                                             0.000000   \n",
       "New England                                                    0.000000   \n",
       "West South Central                                             0.000000   \n",
       "South Atlantic                                                 0.000000   \n",
       "East South Central                                             0.000000   \n",
       "Middle Atlantic                                                0.628931   \n",
       "West North Central                                             0.000000   \n",
       "Mountain                                                       0.000000   \n",
       "Pacific                                                        1.369863   \n",
       "\n",
       "What is typically the main dish at your Thanksgiving dinner?     Turkey  \n",
       "US Region                                                                \n",
       "East North Central                                            90.000000  \n",
       "New England                                                   87.931034  \n",
       "West South Central                                            84.615385  \n",
       "South Atlantic                                                84.579439  \n",
       "East South Central                                            83.333333  \n",
       "Middle Atlantic                                               81.761006  \n",
       "West North Central                                            81.081081  \n",
       "Mountain                                                      78.723404  \n",
       "Pacific                                                       73.287671  "
      ]
     },
     "execution_count": 101,
     "metadata": {},
     "output_type": "execute_result"
    }
   ],
   "source": [
    "df_pattern"
   ]
  },
  {
   "cell_type": "markdown",
   "metadata": {},
   "source": [
    "#### Findings\n",
    "East North Centrals are more into Turkey than in any other Region.\n",
    "People in Mountain and Pacific Regions tend to have less Turkey and prefer variety of other options."
   ]
  },
  {
   "cell_type": "markdown",
   "metadata": {},
   "source": [
    "### Age, gender and income based patterns in dinner menus"
   ]
  },
  {
   "cell_type": "markdown",
   "metadata": {},
   "source": [
    "#### Age to Dish pattern"
   ]
  },
  {
   "cell_type": "code",
   "execution_count": 102,
   "metadata": {
    "collapsed": true
   },
   "outputs": [],
   "source": [
    "# Define Colnames\n",
    "colnames = ['Age',\n",
    "    'What is typically the main dish at your Thanksgiving dinner?']\n",
    "\n",
    "# Get crosstab pattern\n",
    "df_pattern = crosstab_pattern(colnames)"
   ]
  },
  {
   "cell_type": "code",
   "execution_count": 103,
   "metadata": {
    "collapsed": false
   },
   "outputs": [
    {
     "data": {
      "text/html": [
       "<div>\n",
       "<table border=\"1\" class=\"dataframe\">\n",
       "  <thead>\n",
       "    <tr style=\"text-align: right;\">\n",
       "      <th>What is typically the main dish at your Thanksgiving dinner?</th>\n",
       "      <th>Chicken</th>\n",
       "      <th>Ham/Pork</th>\n",
       "      <th>I don't know</th>\n",
       "      <th>Other (please specify)</th>\n",
       "      <th>Roast beef</th>\n",
       "      <th>Tofurkey</th>\n",
       "      <th>Turducken</th>\n",
       "      <th>Turkey</th>\n",
       "    </tr>\n",
       "    <tr>\n",
       "      <th>Age</th>\n",
       "      <th></th>\n",
       "      <th></th>\n",
       "      <th></th>\n",
       "      <th></th>\n",
       "      <th></th>\n",
       "      <th></th>\n",
       "      <th></th>\n",
       "      <th></th>\n",
       "    </tr>\n",
       "  </thead>\n",
       "  <tbody>\n",
       "    <tr>\n",
       "      <th>60+</th>\n",
       "      <td>1.515152</td>\n",
       "      <td>0.757576</td>\n",
       "      <td>0.000000</td>\n",
       "      <td>3.409091</td>\n",
       "      <td>1.136364</td>\n",
       "      <td>1.136364</td>\n",
       "      <td>0.378788</td>\n",
       "      <td>89.393939</td>\n",
       "    </tr>\n",
       "    <tr>\n",
       "      <th>45 - 59</th>\n",
       "      <td>0.699301</td>\n",
       "      <td>2.797203</td>\n",
       "      <td>0.000000</td>\n",
       "      <td>4.895105</td>\n",
       "      <td>1.048951</td>\n",
       "      <td>0.699301</td>\n",
       "      <td>0.000000</td>\n",
       "      <td>83.916084</td>\n",
       "    </tr>\n",
       "    <tr>\n",
       "      <th>30 - 44</th>\n",
       "      <td>1.158301</td>\n",
       "      <td>4.633205</td>\n",
       "      <td>0.386100</td>\n",
       "      <td>3.861004</td>\n",
       "      <td>0.386100</td>\n",
       "      <td>3.474903</td>\n",
       "      <td>0.772201</td>\n",
       "      <td>76.061776</td>\n",
       "    </tr>\n",
       "    <tr>\n",
       "      <th>18 - 29</th>\n",
       "      <td>1.388889</td>\n",
       "      <td>2.777778</td>\n",
       "      <td>1.388889</td>\n",
       "      <td>0.925926</td>\n",
       "      <td>1.388889</td>\n",
       "      <td>2.777778</td>\n",
       "      <td>0.000000</td>\n",
       "      <td>75.000000</td>\n",
       "    </tr>\n",
       "  </tbody>\n",
       "</table>\n",
       "</div>"
      ],
      "text/plain": [
       "What is typically the main dish at your Thanksgiving dinner?   Chicken  \\\n",
       "Age                                                                      \n",
       "60+                                                           1.515152   \n",
       "45 - 59                                                       0.699301   \n",
       "30 - 44                                                       1.158301   \n",
       "18 - 29                                                       1.388889   \n",
       "\n",
       "What is typically the main dish at your Thanksgiving dinner?  Ham/Pork  \\\n",
       "Age                                                                      \n",
       "60+                                                           0.757576   \n",
       "45 - 59                                                       2.797203   \n",
       "30 - 44                                                       4.633205   \n",
       "18 - 29                                                       2.777778   \n",
       "\n",
       "What is typically the main dish at your Thanksgiving dinner?  I don't know  \\\n",
       "Age                                                                          \n",
       "60+                                                               0.000000   \n",
       "45 - 59                                                           0.000000   \n",
       "30 - 44                                                           0.386100   \n",
       "18 - 29                                                           1.388889   \n",
       "\n",
       "What is typically the main dish at your Thanksgiving dinner?  Other (please specify)  \\\n",
       "Age                                                                                    \n",
       "60+                                                                         3.409091   \n",
       "45 - 59                                                                     4.895105   \n",
       "30 - 44                                                                     3.861004   \n",
       "18 - 29                                                                     0.925926   \n",
       "\n",
       "What is typically the main dish at your Thanksgiving dinner?  Roast beef  \\\n",
       "Age                                                                        \n",
       "60+                                                             1.136364   \n",
       "45 - 59                                                         1.048951   \n",
       "30 - 44                                                         0.386100   \n",
       "18 - 29                                                         1.388889   \n",
       "\n",
       "What is typically the main dish at your Thanksgiving dinner?  Tofurkey  \\\n",
       "Age                                                                      \n",
       "60+                                                           1.136364   \n",
       "45 - 59                                                       0.699301   \n",
       "30 - 44                                                       3.474903   \n",
       "18 - 29                                                       2.777778   \n",
       "\n",
       "What is typically the main dish at your Thanksgiving dinner?  Turducken  \\\n",
       "Age                                                                       \n",
       "60+                                                            0.378788   \n",
       "45 - 59                                                        0.000000   \n",
       "30 - 44                                                        0.772201   \n",
       "18 - 29                                                        0.000000   \n",
       "\n",
       "What is typically the main dish at your Thanksgiving dinner?     Turkey  \n",
       "Age                                                                      \n",
       "60+                                                           89.393939  \n",
       "45 - 59                                                       83.916084  \n",
       "30 - 44                                                       76.061776  \n",
       "18 - 29                                                       75.000000  "
      ]
     },
     "execution_count": 103,
     "metadata": {},
     "output_type": "execute_result"
    }
   ],
   "source": [
    "df_pattern"
   ]
  },
  {
   "cell_type": "markdown",
   "metadata": {},
   "source": [
    "#### Findings\n",
    "There is a linear tendency: the older the more traditional people are in their dinner preferences. Older people are more likely to have Turkey as their main dish.\n",
    "While younger people have higher variety. Also notably young people have higher percentage of a vegetarian option \"Tofurkey\" as their choice."
   ]
  },
  {
   "cell_type": "markdown",
   "metadata": {},
   "source": [
    "#### Gender to Dish pattern"
   ]
  },
  {
   "cell_type": "code",
   "execution_count": 104,
   "metadata": {
    "collapsed": true
   },
   "outputs": [],
   "source": [
    "# Define Colnames\n",
    "colnames = ['What is your gender?',\n",
    "    'What is typically the main dish at your Thanksgiving dinner?']\n",
    "\n",
    "# Get crosstab pattern\n",
    "df_pattern = crosstab_pattern(colnames)"
   ]
  },
  {
   "cell_type": "code",
   "execution_count": 105,
   "metadata": {
    "collapsed": false
   },
   "outputs": [
    {
     "data": {
      "text/html": [
       "<div>\n",
       "<table border=\"1\" class=\"dataframe\">\n",
       "  <thead>\n",
       "    <tr style=\"text-align: right;\">\n",
       "      <th>What is typically the main dish at your Thanksgiving dinner?</th>\n",
       "      <th>Chicken</th>\n",
       "      <th>Ham/Pork</th>\n",
       "      <th>I don't know</th>\n",
       "      <th>Other (please specify)</th>\n",
       "      <th>Roast beef</th>\n",
       "      <th>Tofurkey</th>\n",
       "      <th>Turducken</th>\n",
       "      <th>Turkey</th>\n",
       "    </tr>\n",
       "    <tr>\n",
       "      <th>What is your gender?</th>\n",
       "      <th></th>\n",
       "      <th></th>\n",
       "      <th></th>\n",
       "      <th></th>\n",
       "      <th></th>\n",
       "      <th></th>\n",
       "      <th></th>\n",
       "      <th></th>\n",
       "    </tr>\n",
       "  </thead>\n",
       "  <tbody>\n",
       "    <tr>\n",
       "      <th>Female</th>\n",
       "      <td>1.102941</td>\n",
       "      <td>2.757353</td>\n",
       "      <td>0.367647</td>\n",
       "      <td>4.044118</td>\n",
       "      <td>0.735294</td>\n",
       "      <td>2.389706</td>\n",
       "      <td>0.183824</td>\n",
       "      <td>83.088235</td>\n",
       "    </tr>\n",
       "    <tr>\n",
       "      <th>Male</th>\n",
       "      <td>1.247401</td>\n",
       "      <td>2.702703</td>\n",
       "      <td>0.415800</td>\n",
       "      <td>2.702703</td>\n",
       "      <td>1.247401</td>\n",
       "      <td>1.455301</td>\n",
       "      <td>0.415800</td>\n",
       "      <td>79.625780</td>\n",
       "    </tr>\n",
       "  </tbody>\n",
       "</table>\n",
       "</div>"
      ],
      "text/plain": [
       "What is typically the main dish at your Thanksgiving dinner?   Chicken  \\\n",
       "What is your gender?                                                     \n",
       "Female                                                        1.102941   \n",
       "Male                                                          1.247401   \n",
       "\n",
       "What is typically the main dish at your Thanksgiving dinner?  Ham/Pork  \\\n",
       "What is your gender?                                                     \n",
       "Female                                                        2.757353   \n",
       "Male                                                          2.702703   \n",
       "\n",
       "What is typically the main dish at your Thanksgiving dinner?  I don't know  \\\n",
       "What is your gender?                                                         \n",
       "Female                                                            0.367647   \n",
       "Male                                                              0.415800   \n",
       "\n",
       "What is typically the main dish at your Thanksgiving dinner?  Other (please specify)  \\\n",
       "What is your gender?                                                                   \n",
       "Female                                                                      4.044118   \n",
       "Male                                                                        2.702703   \n",
       "\n",
       "What is typically the main dish at your Thanksgiving dinner?  Roast beef  \\\n",
       "What is your gender?                                                       \n",
       "Female                                                          0.735294   \n",
       "Male                                                            1.247401   \n",
       "\n",
       "What is typically the main dish at your Thanksgiving dinner?  Tofurkey  \\\n",
       "What is your gender?                                                     \n",
       "Female                                                        2.389706   \n",
       "Male                                                          1.455301   \n",
       "\n",
       "What is typically the main dish at your Thanksgiving dinner?  Turducken  \\\n",
       "What is your gender?                                                      \n",
       "Female                                                         0.183824   \n",
       "Male                                                           0.415800   \n",
       "\n",
       "What is typically the main dish at your Thanksgiving dinner?     Turkey  \n",
       "What is your gender?                                                     \n",
       "Female                                                        83.088235  \n",
       "Male                                                          79.625780  "
      ]
     },
     "execution_count": 105,
     "metadata": {},
     "output_type": "execute_result"
    }
   ],
   "source": [
    "df_pattern"
   ]
  },
  {
   "cell_type": "markdown",
   "metadata": {},
   "source": [
    "#### Findings on Gender to Dish pattern\n",
    "The distribution is relatively similar both for Males as well as Females"
   ]
  },
  {
   "cell_type": "markdown",
   "metadata": {},
   "source": [
    "#### Income to Dish pattern"
   ]
  },
  {
   "cell_type": "code",
   "execution_count": 106,
   "metadata": {
    "collapsed": true
   },
   "outputs": [],
   "source": [
    "#Define colnames\n",
    "colnames = ['How much total combined money did all members of your HOUSEHOLD earn last year?',\n",
    "    'What is typically the main dish at your Thanksgiving dinner?']\n",
    "\n",
    "# Get income to main dish patterns as a crosstab\n",
    "df_pattern = crosstab_pattern(colnames)"
   ]
  },
  {
   "cell_type": "code",
   "execution_count": 107,
   "metadata": {
    "collapsed": false
   },
   "outputs": [
    {
     "data": {
      "text/html": [
       "<div>\n",
       "<table border=\"1\" class=\"dataframe\">\n",
       "  <thead>\n",
       "    <tr style=\"text-align: right;\">\n",
       "      <th>What is typically the main dish at your Thanksgiving dinner?</th>\n",
       "      <th>Chicken</th>\n",
       "      <th>Ham/Pork</th>\n",
       "      <th>I don't know</th>\n",
       "      <th>Other (please specify)</th>\n",
       "      <th>Roast beef</th>\n",
       "      <th>Tofurkey</th>\n",
       "      <th>Turducken</th>\n",
       "      <th>Turkey</th>\n",
       "    </tr>\n",
       "    <tr>\n",
       "      <th>How much total combined money did all members of your HOUSEHOLD earn last year?</th>\n",
       "      <th></th>\n",
       "      <th></th>\n",
       "      <th></th>\n",
       "      <th></th>\n",
       "      <th></th>\n",
       "      <th></th>\n",
       "      <th></th>\n",
       "      <th></th>\n",
       "    </tr>\n",
       "  </thead>\n",
       "  <tbody>\n",
       "    <tr>\n",
       "      <th>$100,000 to $124,999</th>\n",
       "      <td>0.900901</td>\n",
       "      <td>1.801802</td>\n",
       "      <td>0.000000</td>\n",
       "      <td>3.603604</td>\n",
       "      <td>0.000000</td>\n",
       "      <td>2.702703</td>\n",
       "      <td>0.000000</td>\n",
       "      <td>89.189189</td>\n",
       "    </tr>\n",
       "    <tr>\n",
       "      <th>$125,000 to $149,999</th>\n",
       "      <td>0.000000</td>\n",
       "      <td>2.040816</td>\n",
       "      <td>0.000000</td>\n",
       "      <td>4.081633</td>\n",
       "      <td>0.000000</td>\n",
       "      <td>4.081633</td>\n",
       "      <td>0.000000</td>\n",
       "      <td>87.755102</td>\n",
       "    </tr>\n",
       "    <tr>\n",
       "      <th>$50,000 to $74,999</th>\n",
       "      <td>0.000000</td>\n",
       "      <td>1.481481</td>\n",
       "      <td>0.740741</td>\n",
       "      <td>2.222222</td>\n",
       "      <td>1.481481</td>\n",
       "      <td>0.740741</td>\n",
       "      <td>0.000000</td>\n",
       "      <td>87.407407</td>\n",
       "    </tr>\n",
       "    <tr>\n",
       "      <th>$175,000 to $199,999</th>\n",
       "      <td>0.000000</td>\n",
       "      <td>0.000000</td>\n",
       "      <td>0.000000</td>\n",
       "      <td>7.407407</td>\n",
       "      <td>0.000000</td>\n",
       "      <td>3.703704</td>\n",
       "      <td>0.000000</td>\n",
       "      <td>85.185185</td>\n",
       "    </tr>\n",
       "    <tr>\n",
       "      <th>$150,000 to $174,999</th>\n",
       "      <td>0.000000</td>\n",
       "      <td>2.500000</td>\n",
       "      <td>0.000000</td>\n",
       "      <td>5.000000</td>\n",
       "      <td>2.500000</td>\n",
       "      <td>0.000000</td>\n",
       "      <td>0.000000</td>\n",
       "      <td>85.000000</td>\n",
       "    </tr>\n",
       "    <tr>\n",
       "      <th>$200,000 and up</th>\n",
       "      <td>1.250000</td>\n",
       "      <td>2.500000</td>\n",
       "      <td>0.000000</td>\n",
       "      <td>2.500000</td>\n",
       "      <td>0.000000</td>\n",
       "      <td>1.250000</td>\n",
       "      <td>2.500000</td>\n",
       "      <td>85.000000</td>\n",
       "    </tr>\n",
       "    <tr>\n",
       "      <th>$75,000 to $99,999</th>\n",
       "      <td>0.000000</td>\n",
       "      <td>6.015038</td>\n",
       "      <td>0.000000</td>\n",
       "      <td>3.759398</td>\n",
       "      <td>0.000000</td>\n",
       "      <td>1.503759</td>\n",
       "      <td>0.000000</td>\n",
       "      <td>84.210526</td>\n",
       "    </tr>\n",
       "    <tr>\n",
       "      <th>$25,000 to $49,999</th>\n",
       "      <td>1.666667</td>\n",
       "      <td>3.333333</td>\n",
       "      <td>0.000000</td>\n",
       "      <td>4.444444</td>\n",
       "      <td>0.555556</td>\n",
       "      <td>2.222222</td>\n",
       "      <td>0.000000</td>\n",
       "      <td>80.000000</td>\n",
       "    </tr>\n",
       "    <tr>\n",
       "      <th>Prefer not to answer</th>\n",
       "      <td>1.470588</td>\n",
       "      <td>0.735294</td>\n",
       "      <td>0.735294</td>\n",
       "      <td>2.941176</td>\n",
       "      <td>1.470588</td>\n",
       "      <td>2.205882</td>\n",
       "      <td>0.735294</td>\n",
       "      <td>76.470588</td>\n",
       "    </tr>\n",
       "    <tr>\n",
       "      <th>$10,000 to $24,999</th>\n",
       "      <td>4.411765</td>\n",
       "      <td>5.882353</td>\n",
       "      <td>0.000000</td>\n",
       "      <td>4.411765</td>\n",
       "      <td>1.470588</td>\n",
       "      <td>2.941176</td>\n",
       "      <td>0.000000</td>\n",
       "      <td>69.117647</td>\n",
       "    </tr>\n",
       "    <tr>\n",
       "      <th>$0 to $9,999</th>\n",
       "      <td>3.030303</td>\n",
       "      <td>1.515152</td>\n",
       "      <td>3.030303</td>\n",
       "      <td>0.000000</td>\n",
       "      <td>4.545455</td>\n",
       "      <td>1.515152</td>\n",
       "      <td>0.000000</td>\n",
       "      <td>65.151515</td>\n",
       "    </tr>\n",
       "  </tbody>\n",
       "</table>\n",
       "</div>"
      ],
      "text/plain": [
       "What is typically the main dish at your Thanksgiving dinner?   Chicken  \\\n",
       "How much total combined money did all members o...                       \n",
       "$100,000 to $124,999                                          0.900901   \n",
       "$125,000 to $149,999                                          0.000000   \n",
       "$50,000 to $74,999                                            0.000000   \n",
       "$175,000 to $199,999                                          0.000000   \n",
       "$150,000 to $174,999                                          0.000000   \n",
       "$200,000 and up                                               1.250000   \n",
       "$75,000 to $99,999                                            0.000000   \n",
       "$25,000 to $49,999                                            1.666667   \n",
       "Prefer not to answer                                          1.470588   \n",
       "$10,000 to $24,999                                            4.411765   \n",
       "$0 to $9,999                                                  3.030303   \n",
       "\n",
       "What is typically the main dish at your Thanksgiving dinner?  Ham/Pork  \\\n",
       "How much total combined money did all members o...                       \n",
       "$100,000 to $124,999                                          1.801802   \n",
       "$125,000 to $149,999                                          2.040816   \n",
       "$50,000 to $74,999                                            1.481481   \n",
       "$175,000 to $199,999                                          0.000000   \n",
       "$150,000 to $174,999                                          2.500000   \n",
       "$200,000 and up                                               2.500000   \n",
       "$75,000 to $99,999                                            6.015038   \n",
       "$25,000 to $49,999                                            3.333333   \n",
       "Prefer not to answer                                          0.735294   \n",
       "$10,000 to $24,999                                            5.882353   \n",
       "$0 to $9,999                                                  1.515152   \n",
       "\n",
       "What is typically the main dish at your Thanksgiving dinner?  I don't know  \\\n",
       "How much total combined money did all members o...                           \n",
       "$100,000 to $124,999                                              0.000000   \n",
       "$125,000 to $149,999                                              0.000000   \n",
       "$50,000 to $74,999                                                0.740741   \n",
       "$175,000 to $199,999                                              0.000000   \n",
       "$150,000 to $174,999                                              0.000000   \n",
       "$200,000 and up                                                   0.000000   \n",
       "$75,000 to $99,999                                                0.000000   \n",
       "$25,000 to $49,999                                                0.000000   \n",
       "Prefer not to answer                                              0.735294   \n",
       "$10,000 to $24,999                                                0.000000   \n",
       "$0 to $9,999                                                      3.030303   \n",
       "\n",
       "What is typically the main dish at your Thanksgiving dinner?  Other (please specify)  \\\n",
       "How much total combined money did all members o...                                     \n",
       "$100,000 to $124,999                                                        3.603604   \n",
       "$125,000 to $149,999                                                        4.081633   \n",
       "$50,000 to $74,999                                                          2.222222   \n",
       "$175,000 to $199,999                                                        7.407407   \n",
       "$150,000 to $174,999                                                        5.000000   \n",
       "$200,000 and up                                                             2.500000   \n",
       "$75,000 to $99,999                                                          3.759398   \n",
       "$25,000 to $49,999                                                          4.444444   \n",
       "Prefer not to answer                                                        2.941176   \n",
       "$10,000 to $24,999                                                          4.411765   \n",
       "$0 to $9,999                                                                0.000000   \n",
       "\n",
       "What is typically the main dish at your Thanksgiving dinner?  Roast beef  \\\n",
       "How much total combined money did all members o...                         \n",
       "$100,000 to $124,999                                            0.000000   \n",
       "$125,000 to $149,999                                            0.000000   \n",
       "$50,000 to $74,999                                              1.481481   \n",
       "$175,000 to $199,999                                            0.000000   \n",
       "$150,000 to $174,999                                            2.500000   \n",
       "$200,000 and up                                                 0.000000   \n",
       "$75,000 to $99,999                                              0.000000   \n",
       "$25,000 to $49,999                                              0.555556   \n",
       "Prefer not to answer                                            1.470588   \n",
       "$10,000 to $24,999                                              1.470588   \n",
       "$0 to $9,999                                                    4.545455   \n",
       "\n",
       "What is typically the main dish at your Thanksgiving dinner?  Tofurkey  \\\n",
       "How much total combined money did all members o...                       \n",
       "$100,000 to $124,999                                          2.702703   \n",
       "$125,000 to $149,999                                          4.081633   \n",
       "$50,000 to $74,999                                            0.740741   \n",
       "$175,000 to $199,999                                          3.703704   \n",
       "$150,000 to $174,999                                          0.000000   \n",
       "$200,000 and up                                               1.250000   \n",
       "$75,000 to $99,999                                            1.503759   \n",
       "$25,000 to $49,999                                            2.222222   \n",
       "Prefer not to answer                                          2.205882   \n",
       "$10,000 to $24,999                                            2.941176   \n",
       "$0 to $9,999                                                  1.515152   \n",
       "\n",
       "What is typically the main dish at your Thanksgiving dinner?  Turducken  \\\n",
       "How much total combined money did all members o...                        \n",
       "$100,000 to $124,999                                           0.000000   \n",
       "$125,000 to $149,999                                           0.000000   \n",
       "$50,000 to $74,999                                             0.000000   \n",
       "$175,000 to $199,999                                           0.000000   \n",
       "$150,000 to $174,999                                           0.000000   \n",
       "$200,000 and up                                                2.500000   \n",
       "$75,000 to $99,999                                             0.000000   \n",
       "$25,000 to $49,999                                             0.000000   \n",
       "Prefer not to answer                                           0.735294   \n",
       "$10,000 to $24,999                                             0.000000   \n",
       "$0 to $9,999                                                   0.000000   \n",
       "\n",
       "What is typically the main dish at your Thanksgiving dinner?     Turkey  \n",
       "How much total combined money did all members o...                       \n",
       "$100,000 to $124,999                                          89.189189  \n",
       "$125,000 to $149,999                                          87.755102  \n",
       "$50,000 to $74,999                                            87.407407  \n",
       "$175,000 to $199,999                                          85.185185  \n",
       "$150,000 to $174,999                                          85.000000  \n",
       "$200,000 and up                                               85.000000  \n",
       "$75,000 to $99,999                                            84.210526  \n",
       "$25,000 to $49,999                                            80.000000  \n",
       "Prefer not to answer                                          76.470588  \n",
       "$10,000 to $24,999                                            69.117647  \n",
       "$0 to $9,999                                                  65.151515  "
      ]
     },
     "execution_count": 107,
     "metadata": {},
     "output_type": "execute_result"
    }
   ],
   "source": [
    "df_pattern"
   ]
  },
  {
   "cell_type": "markdown",
   "metadata": {},
   "source": [
    "#### Findings on Income to Dish pattern\n",
    "It is very evident, that groups with lower income tend not to have a traditional Turkey as their main Dish\n",
    "People with 50k+ income prefer a traditional Turkey dish during Thanksgiving."
   ]
  },
  {
   "cell_type": "code",
   "execution_count": null,
   "metadata": {
    "collapsed": true
   },
   "outputs": [],
   "source": []
  },
  {
   "cell_type": "code",
   "execution_count": null,
   "metadata": {
    "collapsed": true
   },
   "outputs": [],
   "source": []
  },
  {
   "cell_type": "markdown",
   "metadata": {},
   "source": [
    "#### Gender to Dish pattern"
   ]
  },
  {
   "cell_type": "code",
   "execution_count": 108,
   "metadata": {
    "collapsed": false
   },
   "outputs": [],
   "source": [
    "#Gender to Dish type pattern\n",
    "\n",
    "#Define colnames\n",
    "colnames = ['What is your gender?',\n",
    "    'What is typically the main dish at your Thanksgiving dinner?']\n",
    "\n",
    "#Make a crosstab\n",
    "df_per_dish_crosstab = pd.crosstab(data[colnames[0]],data[colnames[1]])"
   ]
  },
  {
   "cell_type": "code",
   "execution_count": 109,
   "metadata": {
    "collapsed": true
   },
   "outputs": [],
   "source": [
    "#Calculate dish percentage per group\n",
    "s_group_counts = data[colnames[0]].value_counts() # Returns Series with count of each value in a group\n",
    "df_per_dish = df_per_dish_crosstab # Assign dataframe to a new variable\n",
    "for groupname in s_group_counts.index.values:\n",
    "    df_per_dish.loc[groupname] = df_per_dish_crosstab.loc[groupname]/s_group_counts[groupname]*100"
   ]
  },
  {
   "cell_type": "code",
   "execution_count": 110,
   "metadata": {
    "collapsed": false,
    "scrolled": true
   },
   "outputs": [
    {
     "data": {
      "text/html": [
       "<div>\n",
       "<table border=\"1\" class=\"dataframe\">\n",
       "  <thead>\n",
       "    <tr style=\"text-align: right;\">\n",
       "      <th>What is typically the main dish at your Thanksgiving dinner?</th>\n",
       "      <th>Chicken</th>\n",
       "      <th>Ham/Pork</th>\n",
       "      <th>I don't know</th>\n",
       "      <th>Other (please specify)</th>\n",
       "      <th>Roast beef</th>\n",
       "      <th>Tofurkey</th>\n",
       "      <th>Turducken</th>\n",
       "      <th>Turkey</th>\n",
       "    </tr>\n",
       "    <tr>\n",
       "      <th>What is your gender?</th>\n",
       "      <th></th>\n",
       "      <th></th>\n",
       "      <th></th>\n",
       "      <th></th>\n",
       "      <th></th>\n",
       "      <th></th>\n",
       "      <th></th>\n",
       "      <th></th>\n",
       "    </tr>\n",
       "  </thead>\n",
       "  <tbody>\n",
       "    <tr>\n",
       "      <th>Female</th>\n",
       "      <td>1.102941</td>\n",
       "      <td>2.757353</td>\n",
       "      <td>0.367647</td>\n",
       "      <td>4.044118</td>\n",
       "      <td>0.735294</td>\n",
       "      <td>2.389706</td>\n",
       "      <td>0.183824</td>\n",
       "      <td>83.088235</td>\n",
       "    </tr>\n",
       "    <tr>\n",
       "      <th>Male</th>\n",
       "      <td>1.247401</td>\n",
       "      <td>2.702703</td>\n",
       "      <td>0.415800</td>\n",
       "      <td>2.702703</td>\n",
       "      <td>1.247401</td>\n",
       "      <td>1.455301</td>\n",
       "      <td>0.415800</td>\n",
       "      <td>79.625780</td>\n",
       "    </tr>\n",
       "  </tbody>\n",
       "</table>\n",
       "</div>"
      ],
      "text/plain": [
       "What is typically the main dish at your Thanksgiving dinner?   Chicken  \\\n",
       "What is your gender?                                                     \n",
       "Female                                                        1.102941   \n",
       "Male                                                          1.247401   \n",
       "\n",
       "What is typically the main dish at your Thanksgiving dinner?  Ham/Pork  \\\n",
       "What is your gender?                                                     \n",
       "Female                                                        2.757353   \n",
       "Male                                                          2.702703   \n",
       "\n",
       "What is typically the main dish at your Thanksgiving dinner?  I don't know  \\\n",
       "What is your gender?                                                         \n",
       "Female                                                            0.367647   \n",
       "Male                                                              0.415800   \n",
       "\n",
       "What is typically the main dish at your Thanksgiving dinner?  Other (please specify)  \\\n",
       "What is your gender?                                                                   \n",
       "Female                                                                      4.044118   \n",
       "Male                                                                        2.702703   \n",
       "\n",
       "What is typically the main dish at your Thanksgiving dinner?  Roast beef  \\\n",
       "What is your gender?                                                       \n",
       "Female                                                          0.735294   \n",
       "Male                                                            1.247401   \n",
       "\n",
       "What is typically the main dish at your Thanksgiving dinner?  Tofurkey  \\\n",
       "What is your gender?                                                     \n",
       "Female                                                        2.389706   \n",
       "Male                                                          1.455301   \n",
       "\n",
       "What is typically the main dish at your Thanksgiving dinner?  Turducken  \\\n",
       "What is your gender?                                                      \n",
       "Female                                                         0.183824   \n",
       "Male                                                           0.415800   \n",
       "\n",
       "What is typically the main dish at your Thanksgiving dinner?     Turkey  \n",
       "What is your gender?                                                     \n",
       "Female                                                        83.088235  \n",
       "Male                                                          79.625780  "
      ]
     },
     "execution_count": 110,
     "metadata": {},
     "output_type": "execute_result"
    }
   ],
   "source": [
    "#Sort by Turkey dish\n",
    "df_per_dish.sort_values(by='Turkey', ascending=False)"
   ]
  }
 ],
 "metadata": {
  "kernelspec": {
   "display_name": "Python 3",
   "language": "python",
   "name": "python3"
  },
  "language_info": {
   "codemirror_mode": {
    "name": "ipython",
    "version": 3
   },
   "file_extension": ".py",
   "mimetype": "text/x-python",
   "name": "python",
   "nbconvert_exporter": "python",
   "pygments_lexer": "ipython3",
   "version": "3.4.3"
  }
 },
 "nbformat": 4,
 "nbformat_minor": 0
}
