{
 "cells": [
  {
   "cell_type": "markdown",
   "metadata": {},
   "source": [
    "# NYC Schools Additional Exploration\n",
    "---\n",
    "Initially exploration was started following [Dataquest.io](https://www.dataquest.io) guidlines.\n",
    "\n",
    "However I got a bit obsessed and squeezed out quite some capabilities from matplotlib. The results are really nice. You can scroll to the very bottom to ensure!\n",
    "\n",
    "This research would address following questions:\n",
    " - Determing wheter there's a correlation between class size and SAT scores\n",
    " - Figuring out which neighborhoods have the best schools\n",
    "     - In combination with a dataset containing property values for NY districts, we could find the least expensive neighborhoods that have good schools.\n",
    " - Investigating the differences between parent, teacher, and student responses to surveys.\n",
    " - Assigning scores to schools based on sat_score and other attributes.\n",
    " \n",
    "Lets get started :)"
   ]
  },
  {
   "cell_type": "markdown",
   "metadata": {},
   "source": [
    "## Initialize all the data and libraries"
   ]
  },
  {
   "cell_type": "code",
   "execution_count": 1,
   "metadata": {
    "collapsed": true
   },
   "outputs": [],
   "source": [
    "import pandas\n",
    "import numpy\n",
    "import re\n",
    "import matplotlib.pyplot as plt\n",
    "\n",
    "data_files = [\n",
    "    \"ap_2010.csv\",\n",
    "    \"class_size.csv\",\n",
    "    \"demographics.csv\",\n",
    "    \"graduation.csv\",\n",
    "    \"hs_directory.csv\",\n",
    "    \"sat_results.csv\"\n",
    "]\n",
    "\n",
    "data = {}\n",
    "\n",
    "for f in data_files:\n",
    "    d = pandas.read_csv(\"schools/{0}\".format(f))\n",
    "    data[f.replace(\".csv\", \"\")] = d"
   ]
  },
  {
   "cell_type": "markdown",
   "metadata": {},
   "source": [
    "### Read in Surveys"
   ]
  },
  {
   "cell_type": "code",
   "execution_count": 2,
   "metadata": {
    "collapsed": true
   },
   "outputs": [],
   "source": [
    "all_survey = pandas.read_csv(\"schools/survey_all.txt\", delimiter=\"\\t\", encoding='windows-1252')\n",
    "d75_survey = pandas.read_csv(\"schools/survey_d75.txt\", delimiter=\"\\t\", encoding='windows-1252')\n",
    "survey = pandas.concat([all_survey, d75_survey], axis=0)\n",
    "\n",
    "survey[\"DBN\"] = survey[\"dbn\"]\n",
    "\n",
    "survey_fields = [\n",
    "    \"DBN\", \n",
    "    \"rr_s\", \n",
    "    \"rr_t\", \n",
    "    \"rr_p\", \n",
    "    \"N_s\", \n",
    "    \"N_t\", \n",
    "    \"N_p\", \n",
    "    \"saf_p_11\", \n",
    "    \"com_p_11\", \n",
    "    \"eng_p_11\", \n",
    "    \"aca_p_11\", \n",
    "    \"saf_t_11\", \n",
    "    \"com_t_11\", \n",
    "    \"eng_t_10\", \n",
    "    \"aca_t_11\", \n",
    "    \"saf_s_11\", \n",
    "    \"com_s_11\", \n",
    "    \"eng_s_11\", \n",
    "    \"aca_s_11\", \n",
    "    \"saf_tot_11\", \n",
    "    \"com_tot_11\", \n",
    "    \"eng_tot_11\",\n",
    "    \"aca_tot_11\",\n",
    "]\n",
    "survey = survey.loc[:,survey_fields]\n",
    "data[\"survey\"] = survey"
   ]
  },
  {
   "cell_type": "markdown",
   "metadata": {},
   "source": [
    "### Add DBN cols"
   ]
  },
  {
   "cell_type": "code",
   "execution_count": 3,
   "metadata": {
    "collapsed": true
   },
   "outputs": [],
   "source": [
    "data[\"hs_directory\"][\"DBN\"] = data[\"hs_directory\"][\"dbn\"]\n",
    "\n",
    "def pad_csd(num):\n",
    "    string_representation = str(num)\n",
    "    if len(string_representation) > 1:\n",
    "        return string_representation\n",
    "    else:\n",
    "        return \"0\" + string_representation\n",
    "    \n",
    "data[\"class_size\"][\"padded_csd\"] = data[\"class_size\"][\"CSD\"].apply(pad_csd)\n",
    "data[\"class_size\"][\"DBN\"] = data[\"class_size\"][\"padded_csd\"] + data[\"class_size\"][\"SCHOOL CODE\"]"
   ]
  },
  {
   "cell_type": "markdown",
   "metadata": {},
   "source": [
    "### Convert cols data to numeric"
   ]
  },
  {
   "cell_type": "code",
   "execution_count": 4,
   "metadata": {
    "collapsed": true
   },
   "outputs": [],
   "source": [
    "cols = ['SAT Math Avg. Score', 'SAT Critical Reading Avg. Score', 'SAT Writing Avg. Score']\n",
    "for c in cols:\n",
    "    data[\"sat_results\"][c] = pandas.to_numeric(data[\"sat_results\"][c], errors=\"coerce\")\n",
    "\n",
    "data['sat_results']['sat_score'] = data['sat_results'][cols[0]] + data['sat_results'][cols[1]] + data['sat_results'][cols[2]]\n",
    "\n",
    "def find_lat(loc):\n",
    "    coords = re.findall(\"\\(.+, .+\\)\", loc)\n",
    "    lat = coords[0].split(\",\")[0].replace(\"(\", \"\")\n",
    "    return lat\n",
    "\n",
    "def find_lon(loc):\n",
    "    coords = re.findall(\"\\(.+, .+\\)\", loc)\n",
    "    lon = coords[0].split(\",\")[1].replace(\")\", \"\").strip()\n",
    "    return lon\n",
    "\n",
    "data[\"hs_directory\"][\"lat\"] = data[\"hs_directory\"][\"Location 1\"].apply(find_lat)\n",
    "data[\"hs_directory\"][\"lon\"] = data[\"hs_directory\"][\"Location 1\"].apply(find_lon)\n",
    "\n",
    "data[\"hs_directory\"][\"lat\"] = pandas.to_numeric(data[\"hs_directory\"][\"lat\"], errors=\"coerce\")\n",
    "data[\"hs_directory\"][\"lon\"] = pandas.to_numeric(data[\"hs_directory\"][\"lon\"], errors=\"coerce\")"
   ]
  },
  {
   "cell_type": "markdown",
   "metadata": {},
   "source": [
    "### Condense dataset"
   ]
  },
  {
   "cell_type": "code",
   "execution_count": 5,
   "metadata": {
    "collapsed": true
   },
   "outputs": [],
   "source": [
    "class_size = data[\"class_size\"]\n",
    "class_size = class_size[class_size[\"GRADE \"] == \"09-12\"]\n",
    "class_size = class_size[class_size[\"PROGRAM TYPE\"] == \"GEN ED\"]\n",
    "\n",
    "class_size = class_size.groupby(\"DBN\").agg(numpy.mean)\n",
    "class_size.reset_index(inplace=True)\n",
    "data[\"class_size\"] = class_size\n",
    "\n",
    "data[\"demographics\"] = data[\"demographics\"][data[\"demographics\"][\"schoolyear\"] == 20112012]\n",
    "\n",
    "data[\"graduation\"] = data[\"graduation\"][data[\"graduation\"][\"Cohort\"] == \"2006\"]\n",
    "data[\"graduation\"] = data[\"graduation\"][data[\"graduation\"][\"Demographic\"] == \"Total Cohort\"]"
   ]
  },
  {
   "cell_type": "markdown",
   "metadata": {},
   "source": [
    "### Convert AP columns to numeric"
   ]
  },
  {
   "cell_type": "code",
   "execution_count": 6,
   "metadata": {
    "collapsed": true
   },
   "outputs": [],
   "source": [
    "cols = ['AP Test Takers ', 'Total Exams Taken', 'Number of Exams with scores 3 4 or 5']\n",
    "\n",
    "for col in cols:\n",
    "    data[\"ap_2010\"][col] = pandas.to_numeric(data[\"ap_2010\"][col], errors=\"coerce\")"
   ]
  },
  {
   "cell_type": "markdown",
   "metadata": {},
   "source": [
    "### Combine all datasets together"
   ]
  },
  {
   "cell_type": "code",
   "execution_count": 7,
   "metadata": {
    "collapsed": true
   },
   "outputs": [],
   "source": [
    "combined = data[\"sat_results\"]\n",
    "\n",
    "combined = combined.merge(data[\"ap_2010\"], on=\"DBN\", how=\"left\")\n",
    "combined = combined.merge(data[\"graduation\"], on=\"DBN\", how=\"left\")\n",
    "\n",
    "to_merge = [\"class_size\", \"demographics\", \"survey\", \"hs_directory\"]\n",
    "\n",
    "for m in to_merge:\n",
    "    combined = combined.merge(data[m], on=\"DBN\", how=\"inner\")\n",
    "\n",
    "combined = combined.fillna(combined.mean())\n",
    "combined = combined.fillna(0)"
   ]
  },
  {
   "cell_type": "markdown",
   "metadata": {},
   "source": [
    "### Add a school district column for mapping"
   ]
  },
  {
   "cell_type": "code",
   "execution_count": 8,
   "metadata": {
    "collapsed": true
   },
   "outputs": [],
   "source": [
    "def get_first_two_chars(dbn):\n",
    "    return dbn[0:2]\n",
    "\n",
    "combined[\"school_dist\"] = combined[\"DBN\"].apply(get_first_two_chars)"
   ]
  },
  {
   "cell_type": "markdown",
   "metadata": {},
   "source": [
    "### Find correlations\n",
    "*sat_score* correlation to all columns"
   ]
  },
  {
   "cell_type": "code",
   "execution_count": 9,
   "metadata": {},
   "outputs": [
    {
     "name": "stdout",
     "output_type": "stream",
     "text": [
      "0.38101433081\n"
     ]
    }
   ],
   "source": [
    "correlations = combined.corr()\n",
    "correlations = correlations[\"sat_score\"]\n",
    "print(correlations.loc['AVERAGE CLASS SIZE'])"
   ]
  },
  {
   "cell_type": "markdown",
   "metadata": {},
   "source": [
    "## Class size to SAT correlation"
   ]
  },
  {
   "cell_type": "code",
   "execution_count": 10,
   "metadata": {},
   "outputs": [
    {
     "name": "stdout",
     "output_type": "stream",
     "text": [
      "AVERAGE CLASS SIZE\n",
      "SIZE OF SMALLEST CLASS\n",
      "SIZE OF LARGEST CLASS\n"
     ]
    }
   ],
   "source": [
    "for col in combined.columns.values:\n",
    "    if 'CLASS' in col:\n",
    "        print(col)"
   ]
  },
  {
   "cell_type": "code",
   "execution_count": 11,
   "metadata": {},
   "outputs": [
    {
     "data": {
      "image/png": "[encoded data removed]",
      "text/plain": [
       "<matplotlib.figure.Figure at 0x233ce8eeeb8>"
      ]
     },
     "metadata": {},
     "output_type": "display_data"
    }
   ],
   "source": [
    "# Visualize relationship via scatterplot\n",
    "fig, ax = plt.subplots(figsize=(12,10))\n",
    "\n",
    "ax.scatter(combined['AVERAGE CLASS SIZE'],combined['sat_score'])\n",
    "ax.set_title('Class Size correlation to SAT: {:.3f}'.format(correlations.loc['AVERAGE CLASS SIZE']))\n",
    "ax.set_xlabel('Class Size')\n",
    "ax.set_ylabel('Sat score')\n",
    "  \n",
    "plt.show()"
   ]
  },
  {
   "cell_type": "markdown",
   "metadata": {},
   "source": [
    "### Findings\n",
    "There is evident positive correlation for class size and sat score. Which is quite counterintuitive.\n",
    "\n",
    "Also there is a small cluster of very low sat scores for class size approximately 24."
   ]
  },
  {
   "cell_type": "markdown",
   "metadata": {},
   "source": [
    "## Neighbours with best schools\n",
    "Via mapping averaged sat scores per district with colormap applied."
   ]
  },
  {
   "cell_type": "code",
   "execution_count": 171,
   "metadata": {},
   "outputs": [
    {
     "data": {
      "text/html": [
       "<div>\n",
       "<style>\n",
       "    .dataframe thead tr:only-child th {\n",
       "        text-align: right;\n",
       "    }\n",
       "\n",
       "    .dataframe thead th {\n",
       "        text-align: left;\n",
       "    }\n",
       "\n",
       "    .dataframe tbody tr th {\n",
       "        vertical-align: top;\n",
       "    }\n",
       "</style>\n",
       "<table border=\"1\" class=\"dataframe\">\n",
       "  <thead>\n",
       "    <tr style=\"text-align: right;\">\n",
       "      <th></th>\n",
       "      <th>DBN</th>\n",
       "      <th>SCHOOL NAME</th>\n",
       "      <th>Num of SAT Test Takers</th>\n",
       "      <th>SAT Critical Reading Avg. Score</th>\n",
       "      <th>SAT Math Avg. Score</th>\n",
       "      <th>SAT Writing Avg. Score</th>\n",
       "      <th>sat_score</th>\n",
       "      <th>SchoolName</th>\n",
       "      <th>AP Test Takers</th>\n",
       "      <th>Total Exams Taken</th>\n",
       "      <th>...</th>\n",
       "      <th>priority05</th>\n",
       "      <th>priority06</th>\n",
       "      <th>priority07</th>\n",
       "      <th>priority08</th>\n",
       "      <th>priority09</th>\n",
       "      <th>priority10</th>\n",
       "      <th>Location 1</th>\n",
       "      <th>lat</th>\n",
       "      <th>lon</th>\n",
       "      <th>school_dist</th>\n",
       "    </tr>\n",
       "  </thead>\n",
       "  <tbody>\n",
       "    <tr>\n",
       "      <th>0</th>\n",
       "      <td>01M292</td>\n",
       "      <td>HENRY STREET SCHOOL FOR INTERNATIONAL STUDIES</td>\n",
       "      <td>29</td>\n",
       "      <td>355.0</td>\n",
       "      <td>404.0</td>\n",
       "      <td>363.0</td>\n",
       "      <td>1122.0</td>\n",
       "      <td>0</td>\n",
       "      <td>129.028846</td>\n",
       "      <td>197.038462</td>\n",
       "      <td>...</td>\n",
       "      <td>Then to New York City residents</td>\n",
       "      <td>0</td>\n",
       "      <td>0</td>\n",
       "      <td>0</td>\n",
       "      <td>0</td>\n",
       "      <td>0</td>\n",
       "      <td>220 Henry Street\\nNew York, NY 10002\\n(40.7137...</td>\n",
       "      <td>40.713764</td>\n",
       "      <td>-73.985260</td>\n",
       "      <td>01</td>\n",
       "    </tr>\n",
       "    <tr>\n",
       "      <th>1</th>\n",
       "      <td>01M448</td>\n",
       "      <td>UNIVERSITY NEIGHBORHOOD HIGH SCHOOL</td>\n",
       "      <td>91</td>\n",
       "      <td>383.0</td>\n",
       "      <td>423.0</td>\n",
       "      <td>366.0</td>\n",
       "      <td>1172.0</td>\n",
       "      <td>UNIVERSITY NEIGHBORHOOD H.S.</td>\n",
       "      <td>39.000000</td>\n",
       "      <td>49.000000</td>\n",
       "      <td>...</td>\n",
       "      <td>0</td>\n",
       "      <td>0</td>\n",
       "      <td>0</td>\n",
       "      <td>0</td>\n",
       "      <td>0</td>\n",
       "      <td>0</td>\n",
       "      <td>200 Monroe Street\\nNew York, NY 10002\\n(40.712...</td>\n",
       "      <td>40.712332</td>\n",
       "      <td>-73.984797</td>\n",
       "      <td>01</td>\n",
       "    </tr>\n",
       "    <tr>\n",
       "      <th>2</th>\n",
       "      <td>01M450</td>\n",
       "      <td>EAST SIDE COMMUNITY SCHOOL</td>\n",
       "      <td>70</td>\n",
       "      <td>377.0</td>\n",
       "      <td>402.0</td>\n",
       "      <td>370.0</td>\n",
       "      <td>1149.0</td>\n",
       "      <td>EAST SIDE COMMUNITY HS</td>\n",
       "      <td>19.000000</td>\n",
       "      <td>21.000000</td>\n",
       "      <td>...</td>\n",
       "      <td>0</td>\n",
       "      <td>0</td>\n",
       "      <td>0</td>\n",
       "      <td>0</td>\n",
       "      <td>0</td>\n",
       "      <td>0</td>\n",
       "      <td>420 East 12 Street\\nNew York, NY 10009\\n(40.72...</td>\n",
       "      <td>40.729783</td>\n",
       "      <td>-73.983041</td>\n",
       "      <td>01</td>\n",
       "    </tr>\n",
       "    <tr>\n",
       "      <th>3</th>\n",
       "      <td>01M509</td>\n",
       "      <td>MARTA VALLE HIGH SCHOOL</td>\n",
       "      <td>44</td>\n",
       "      <td>390.0</td>\n",
       "      <td>433.0</td>\n",
       "      <td>384.0</td>\n",
       "      <td>1207.0</td>\n",
       "      <td>0</td>\n",
       "      <td>129.028846</td>\n",
       "      <td>197.038462</td>\n",
       "      <td>...</td>\n",
       "      <td>0</td>\n",
       "      <td>0</td>\n",
       "      <td>0</td>\n",
       "      <td>0</td>\n",
       "      <td>0</td>\n",
       "      <td>0</td>\n",
       "      <td>145 Stanton Street\\nNew York, NY 10002\\n(40.72...</td>\n",
       "      <td>40.720569</td>\n",
       "      <td>-73.985673</td>\n",
       "      <td>01</td>\n",
       "    </tr>\n",
       "    <tr>\n",
       "      <th>4</th>\n",
       "      <td>01M539</td>\n",
       "      <td>NEW EXPLORATIONS INTO SCIENCE, TECHNOLOGY AND ...</td>\n",
       "      <td>159</td>\n",
       "      <td>522.0</td>\n",
       "      <td>574.0</td>\n",
       "      <td>525.0</td>\n",
       "      <td>1621.0</td>\n",
       "      <td>NEW EXPLORATIONS SCI,TECH,MATH</td>\n",
       "      <td>255.000000</td>\n",
       "      <td>377.000000</td>\n",
       "      <td>...</td>\n",
       "      <td>0</td>\n",
       "      <td>0</td>\n",
       "      <td>0</td>\n",
       "      <td>0</td>\n",
       "      <td>0</td>\n",
       "      <td>0</td>\n",
       "      <td>111 Columbia Street\\nNew York, NY 10002\\n(40.7...</td>\n",
       "      <td>40.718725</td>\n",
       "      <td>-73.979426</td>\n",
       "      <td>01</td>\n",
       "    </tr>\n",
       "    <tr>\n",
       "      <th>5</th>\n",
       "      <td>01M696</td>\n",
       "      <td>BARD HIGH SCHOOL EARLY COLLEGE</td>\n",
       "      <td>130</td>\n",
       "      <td>624.0</td>\n",
       "      <td>604.0</td>\n",
       "      <td>628.0</td>\n",
       "      <td>1856.0</td>\n",
       "      <td>0</td>\n",
       "      <td>129.028846</td>\n",
       "      <td>197.038462</td>\n",
       "      <td>...</td>\n",
       "      <td>0</td>\n",
       "      <td>0</td>\n",
       "      <td>0</td>\n",
       "      <td>0</td>\n",
       "      <td>0</td>\n",
       "      <td>0</td>\n",
       "      <td>525 East Houston Street\\nNew York, NY 10002\\n(...</td>\n",
       "      <td>40.718962</td>\n",
       "      <td>-73.976066</td>\n",
       "      <td>01</td>\n",
       "    </tr>\n",
       "    <tr>\n",
       "      <th>6</th>\n",
       "      <td>02M047</td>\n",
       "      <td>47 THE AMERICAN SIGN LANGUAGE AND ENGLISH SECO...</td>\n",
       "      <td>16</td>\n",
       "      <td>395.0</td>\n",
       "      <td>400.0</td>\n",
       "      <td>387.0</td>\n",
       "      <td>1182.0</td>\n",
       "      <td>0</td>\n",
       "      <td>129.028846</td>\n",
       "      <td>197.038462</td>\n",
       "      <td>...</td>\n",
       "      <td>0</td>\n",
       "      <td>0</td>\n",
       "      <td>0</td>\n",
       "      <td>0</td>\n",
       "      <td>0</td>\n",
       "      <td>0</td>\n",
       "      <td>223 East 23 Street\\nNew York, NY 10010\\n(40.73...</td>\n",
       "      <td>40.738599</td>\n",
       "      <td>-73.982512</td>\n",
       "      <td>02</td>\n",
       "    </tr>\n",
       "    <tr>\n",
       "      <th>7</th>\n",
       "      <td>02M288</td>\n",
       "      <td>FOOD AND FINANCE HIGH SCHOOL</td>\n",
       "      <td>62</td>\n",
       "      <td>409.0</td>\n",
       "      <td>393.0</td>\n",
       "      <td>392.0</td>\n",
       "      <td>1194.0</td>\n",
       "      <td>0</td>\n",
       "      <td>129.028846</td>\n",
       "      <td>197.038462</td>\n",
       "      <td>...</td>\n",
       "      <td>0</td>\n",
       "      <td>0</td>\n",
       "      <td>0</td>\n",
       "      <td>0</td>\n",
       "      <td>0</td>\n",
       "      <td>0</td>\n",
       "      <td>525 West 50Th Street\\nNew York, NY 10019\\n(40....</td>\n",
       "      <td>40.765027</td>\n",
       "      <td>-73.992517</td>\n",
       "      <td>02</td>\n",
       "    </tr>\n",
       "    <tr>\n",
       "      <th>8</th>\n",
       "      <td>02M294</td>\n",
       "      <td>ESSEX STREET ACADEMY</td>\n",
       "      <td>53</td>\n",
       "      <td>394.0</td>\n",
       "      <td>384.0</td>\n",
       "      <td>378.0</td>\n",
       "      <td>1156.0</td>\n",
       "      <td>0</td>\n",
       "      <td>129.028846</td>\n",
       "      <td>197.038462</td>\n",
       "      <td>...</td>\n",
       "      <td>0</td>\n",
       "      <td>0</td>\n",
       "      <td>0</td>\n",
       "      <td>0</td>\n",
       "      <td>0</td>\n",
       "      <td>0</td>\n",
       "      <td>350 Grand Street\\nNew York, NY 10002\\n(40.7168...</td>\n",
       "      <td>40.716867</td>\n",
       "      <td>-73.989532</td>\n",
       "      <td>02</td>\n",
       "    </tr>\n",
       "    <tr>\n",
       "      <th>9</th>\n",
       "      <td>02M296</td>\n",
       "      <td>HIGH SCHOOL OF HOSPITALITY MANAGEMENT</td>\n",
       "      <td>58</td>\n",
       "      <td>374.0</td>\n",
       "      <td>375.0</td>\n",
       "      <td>362.0</td>\n",
       "      <td>1111.0</td>\n",
       "      <td>High School of Hospitality Management</td>\n",
       "      <td>129.028846</td>\n",
       "      <td>197.038462</td>\n",
       "      <td>...</td>\n",
       "      <td>0</td>\n",
       "      <td>0</td>\n",
       "      <td>0</td>\n",
       "      <td>0</td>\n",
       "      <td>0</td>\n",
       "      <td>0</td>\n",
       "      <td>525 West 50Th Street\\nNew York, NY 10019\\n(40....</td>\n",
       "      <td>40.765027</td>\n",
       "      <td>-73.992517</td>\n",
       "      <td>02</td>\n",
       "    </tr>\n",
       "  </tbody>\n",
       "</table>\n",
       "<p>10 rows × 160 columns</p>\n",
       "</div>"
      ],
      "text/plain": [
       "      DBN                                        SCHOOL NAME  \\\n",
       "0  01M292      HENRY STREET SCHOOL FOR INTERNATIONAL STUDIES   \n",
       "1  01M448                UNIVERSITY NEIGHBORHOOD HIGH SCHOOL   \n",
       "2  01M450                         EAST SIDE COMMUNITY SCHOOL   \n",
       "3  01M509                            MARTA VALLE HIGH SCHOOL   \n",
       "4  01M539  NEW EXPLORATIONS INTO SCIENCE, TECHNOLOGY AND ...   \n",
       "5  01M696                     BARD HIGH SCHOOL EARLY COLLEGE   \n",
       "6  02M047  47 THE AMERICAN SIGN LANGUAGE AND ENGLISH SECO...   \n",
       "7  02M288                       FOOD AND FINANCE HIGH SCHOOL   \n",
       "8  02M294                               ESSEX STREET ACADEMY   \n",
       "9  02M296              HIGH SCHOOL OF HOSPITALITY MANAGEMENT   \n",
       "\n",
       "  Num of SAT Test Takers  SAT Critical Reading Avg. Score  \\\n",
       "0                     29                            355.0   \n",
       "1                     91                            383.0   \n",
       "2                     70                            377.0   \n",
       "3                     44                            390.0   \n",
       "4                    159                            522.0   \n",
       "5                    130                            624.0   \n",
       "6                     16                            395.0   \n",
       "7                     62                            409.0   \n",
       "8                     53                            394.0   \n",
       "9                     58                            374.0   \n",
       "\n",
       "   SAT Math Avg. Score  SAT Writing Avg. Score  sat_score  \\\n",
       "0                404.0                   363.0     1122.0   \n",
       "1                423.0                   366.0     1172.0   \n",
       "2                402.0                   370.0     1149.0   \n",
       "3                433.0                   384.0     1207.0   \n",
       "4                574.0                   525.0     1621.0   \n",
       "5                604.0                   628.0     1856.0   \n",
       "6                400.0                   387.0     1182.0   \n",
       "7                393.0                   392.0     1194.0   \n",
       "8                384.0                   378.0     1156.0   \n",
       "9                375.0                   362.0     1111.0   \n",
       "\n",
       "                              SchoolName  AP Test Takers   Total Exams Taken  \\\n",
       "0                                      0       129.028846         197.038462   \n",
       "1           UNIVERSITY NEIGHBORHOOD H.S.        39.000000          49.000000   \n",
       "2                 EAST SIDE COMMUNITY HS        19.000000          21.000000   \n",
       "3                                      0       129.028846         197.038462   \n",
       "4         NEW EXPLORATIONS SCI,TECH,MATH       255.000000         377.000000   \n",
       "5                                      0       129.028846         197.038462   \n",
       "6                                      0       129.028846         197.038462   \n",
       "7                                      0       129.028846         197.038462   \n",
       "8                                      0       129.028846         197.038462   \n",
       "9  High School of Hospitality Management       129.028846         197.038462   \n",
       "\n",
       "      ...                           priority05 priority06 priority07  \\\n",
       "0     ...      Then to New York City residents          0          0   \n",
       "1     ...                                    0          0          0   \n",
       "2     ...                                    0          0          0   \n",
       "3     ...                                    0          0          0   \n",
       "4     ...                                    0          0          0   \n",
       "5     ...                                    0          0          0   \n",
       "6     ...                                    0          0          0   \n",
       "7     ...                                    0          0          0   \n",
       "8     ...                                    0          0          0   \n",
       "9     ...                                    0          0          0   \n",
       "\n",
       "  priority08  priority09 priority10  \\\n",
       "0          0           0          0   \n",
       "1          0           0          0   \n",
       "2          0           0          0   \n",
       "3          0           0          0   \n",
       "4          0           0          0   \n",
       "5          0           0          0   \n",
       "6          0           0          0   \n",
       "7          0           0          0   \n",
       "8          0           0          0   \n",
       "9          0           0          0   \n",
       "\n",
       "                                          Location 1        lat        lon  \\\n",
       "0  220 Henry Street\\nNew York, NY 10002\\n(40.7137...  40.713764 -73.985260   \n",
       "1  200 Monroe Street\\nNew York, NY 10002\\n(40.712...  40.712332 -73.984797   \n",
       "2  420 East 12 Street\\nNew York, NY 10009\\n(40.72...  40.729783 -73.983041   \n",
       "3  145 Stanton Street\\nNew York, NY 10002\\n(40.72...  40.720569 -73.985673   \n",
       "4  111 Columbia Street\\nNew York, NY 10002\\n(40.7...  40.718725 -73.979426   \n",
       "5  525 East Houston Street\\nNew York, NY 10002\\n(...  40.718962 -73.976066   \n",
       "6  223 East 23 Street\\nNew York, NY 10010\\n(40.73...  40.738599 -73.982512   \n",
       "7  525 West 50Th Street\\nNew York, NY 10019\\n(40....  40.765027 -73.992517   \n",
       "8  350 Grand Street\\nNew York, NY 10002\\n(40.7168...  40.716867 -73.989532   \n",
       "9  525 West 50Th Street\\nNew York, NY 10019\\n(40....  40.765027 -73.992517   \n",
       "\n",
       "  school_dist  \n",
       "0          01  \n",
       "1          01  \n",
       "2          01  \n",
       "3          01  \n",
       "4          01  \n",
       "5          01  \n",
       "6          02  \n",
       "7          02  \n",
       "8          02  \n",
       "9          02  \n",
       "\n",
       "[10 rows x 160 columns]"
      ]
     },
     "execution_count": 171,
     "metadata": {},
     "output_type": "execute_result"
    }
   ],
   "source": [
    "combined.head(10)"
   ]
  },
  {
   "cell_type": "code",
   "execution_count": 173,
   "metadata": {},
   "outputs": [
    {
     "data": {
      "text/html": [
       "<div>\n",
       "<style>\n",
       "    .dataframe thead tr:only-child th {\n",
       "        text-align: right;\n",
       "    }\n",
       "\n",
       "    .dataframe thead th {\n",
       "        text-align: left;\n",
       "    }\n",
       "\n",
       "    .dataframe tbody tr th {\n",
       "        vertical-align: top;\n",
       "    }\n",
       "</style>\n",
       "<table border=\"1\" class=\"dataframe\">\n",
       "  <thead>\n",
       "    <tr style=\"text-align: right;\">\n",
       "      <th></th>\n",
       "      <th>school_dist</th>\n",
       "      <th>SAT Critical Reading Avg. Score</th>\n",
       "      <th>SAT Math Avg. Score</th>\n",
       "      <th>SAT Writing Avg. Score</th>\n",
       "      <th>sat_score</th>\n",
       "      <th>AP Test Takers</th>\n",
       "      <th>Total Exams Taken</th>\n",
       "      <th>Number of Exams with scores 3 4 or 5</th>\n",
       "      <th>Total Cohort</th>\n",
       "      <th>CSD</th>\n",
       "      <th>...</th>\n",
       "      <th>grade_span_max</th>\n",
       "      <th>expgrade_span_max</th>\n",
       "      <th>zip</th>\n",
       "      <th>total_students</th>\n",
       "      <th>number_programs</th>\n",
       "      <th>priority08</th>\n",
       "      <th>priority09</th>\n",
       "      <th>priority10</th>\n",
       "      <th>lat</th>\n",
       "      <th>lon</th>\n",
       "    </tr>\n",
       "  </thead>\n",
       "  <tbody>\n",
       "    <tr>\n",
       "      <th>0</th>\n",
       "      <td>01</td>\n",
       "      <td>441.833333</td>\n",
       "      <td>473.333333</td>\n",
       "      <td>439.333333</td>\n",
       "      <td>1354.500000</td>\n",
       "      <td>116.681090</td>\n",
       "      <td>173.019231</td>\n",
       "      <td>135.800000</td>\n",
       "      <td>93.500000</td>\n",
       "      <td>1</td>\n",
       "      <td>...</td>\n",
       "      <td>12</td>\n",
       "      <td>12.0</td>\n",
       "      <td>10003.166667</td>\n",
       "      <td>659.500000</td>\n",
       "      <td>1.333333</td>\n",
       "      <td>0</td>\n",
       "      <td>0</td>\n",
       "      <td>0</td>\n",
       "      <td>40.719022</td>\n",
       "      <td>-73.982377</td>\n",
       "    </tr>\n",
       "    <tr>\n",
       "      <th>1</th>\n",
       "      <td>02</td>\n",
       "      <td>418.242910</td>\n",
       "      <td>434.223507</td>\n",
       "      <td>415.949403</td>\n",
       "      <td>1268.890821</td>\n",
       "      <td>101.140144</td>\n",
       "      <td>150.320192</td>\n",
       "      <td>109.922500</td>\n",
       "      <td>131.202419</td>\n",
       "      <td>2</td>\n",
       "      <td>...</td>\n",
       "      <td>12</td>\n",
       "      <td>12.0</td>\n",
       "      <td>10014.825000</td>\n",
       "      <td>518.650000</td>\n",
       "      <td>1.200000</td>\n",
       "      <td>0</td>\n",
       "      <td>0</td>\n",
       "      <td>0</td>\n",
       "      <td>40.740311</td>\n",
       "      <td>-73.992663</td>\n",
       "    </tr>\n",
       "    <tr>\n",
       "      <th>2</th>\n",
       "      <td>03</td>\n",
       "      <td>420.935821</td>\n",
       "      <td>431.297015</td>\n",
       "      <td>416.998806</td>\n",
       "      <td>1268.131642</td>\n",
       "      <td>117.220192</td>\n",
       "      <td>168.726923</td>\n",
       "      <td>152.105000</td>\n",
       "      <td>150.061290</td>\n",
       "      <td>3</td>\n",
       "      <td>...</td>\n",
       "      <td>12</td>\n",
       "      <td>12.0</td>\n",
       "      <td>10023.600000</td>\n",
       "      <td>551.200000</td>\n",
       "      <td>1.700000</td>\n",
       "      <td>0</td>\n",
       "      <td>0</td>\n",
       "      <td>0</td>\n",
       "      <td>40.780456</td>\n",
       "      <td>-73.978664</td>\n",
       "    </tr>\n",
       "    <tr>\n",
       "      <th>3</th>\n",
       "      <td>04</td>\n",
       "      <td>402.142857</td>\n",
       "      <td>416.285714</td>\n",
       "      <td>405.714286</td>\n",
       "      <td>1224.142857</td>\n",
       "      <td>129.016484</td>\n",
       "      <td>183.879121</td>\n",
       "      <td>151.035714</td>\n",
       "      <td>113.857143</td>\n",
       "      <td>4</td>\n",
       "      <td>...</td>\n",
       "      <td>12</td>\n",
       "      <td>12.0</td>\n",
       "      <td>10029.857143</td>\n",
       "      <td>580.857143</td>\n",
       "      <td>1.142857</td>\n",
       "      <td>0</td>\n",
       "      <td>0</td>\n",
       "      <td>0</td>\n",
       "      <td>40.793449</td>\n",
       "      <td>-73.943215</td>\n",
       "    </tr>\n",
       "    <tr>\n",
       "      <th>4</th>\n",
       "      <td>05</td>\n",
       "      <td>427.159915</td>\n",
       "      <td>438.236674</td>\n",
       "      <td>419.666098</td>\n",
       "      <td>1285.062687</td>\n",
       "      <td>85.722527</td>\n",
       "      <td>115.725275</td>\n",
       "      <td>142.464286</td>\n",
       "      <td>143.677419</td>\n",
       "      <td>5</td>\n",
       "      <td>...</td>\n",
       "      <td>12</td>\n",
       "      <td>12.0</td>\n",
       "      <td>10030.142857</td>\n",
       "      <td>609.857143</td>\n",
       "      <td>1.142857</td>\n",
       "      <td>0</td>\n",
       "      <td>0</td>\n",
       "      <td>0</td>\n",
       "      <td>40.817077</td>\n",
       "      <td>-73.949251</td>\n",
       "    </tr>\n",
       "  </tbody>\n",
       "</table>\n",
       "<p>5 rows × 68 columns</p>\n",
       "</div>"
      ],
      "text/plain": [
       "  school_dist  SAT Critical Reading Avg. Score  SAT Math Avg. Score  \\\n",
       "0          01                       441.833333           473.333333   \n",
       "1          02                       418.242910           434.223507   \n",
       "2          03                       420.935821           431.297015   \n",
       "3          04                       402.142857           416.285714   \n",
       "4          05                       427.159915           438.236674   \n",
       "\n",
       "   SAT Writing Avg. Score    sat_score  AP Test Takers   Total Exams Taken  \\\n",
       "0              439.333333  1354.500000       116.681090         173.019231   \n",
       "1              415.949403  1268.890821       101.140144         150.320192   \n",
       "2              416.998806  1268.131642       117.220192         168.726923   \n",
       "3              405.714286  1224.142857       129.016484         183.879121   \n",
       "4              419.666098  1285.062687        85.722527         115.725275   \n",
       "\n",
       "   Number of Exams with scores 3 4 or 5  Total Cohort  CSD    ...      \\\n",
       "0                            135.800000     93.500000    1    ...       \n",
       "1                            109.922500    131.202419    2    ...       \n",
       "2                            152.105000    150.061290    3    ...       \n",
       "3                            151.035714    113.857143    4    ...       \n",
       "4                            142.464286    143.677419    5    ...       \n",
       "\n",
       "   grade_span_max  expgrade_span_max           zip  total_students  \\\n",
       "0              12               12.0  10003.166667      659.500000   \n",
       "1              12               12.0  10014.825000      518.650000   \n",
       "2              12               12.0  10023.600000      551.200000   \n",
       "3              12               12.0  10029.857143      580.857143   \n",
       "4              12               12.0  10030.142857      609.857143   \n",
       "\n",
       "   number_programs  priority08  priority09  priority10        lat        lon  \n",
       "0         1.333333           0           0           0  40.719022 -73.982377  \n",
       "1         1.200000           0           0           0  40.740311 -73.992663  \n",
       "2         1.700000           0           0           0  40.780456 -73.978664  \n",
       "3         1.142857           0           0           0  40.793449 -73.943215  \n",
       "4         1.142857           0           0           0  40.817077 -73.949251  \n",
       "\n",
       "[5 rows x 68 columns]"
      ]
     },
     "execution_count": 173,
     "metadata": {},
     "output_type": "execute_result"
    }
   ],
   "source": [
    "import numpy\n",
    "from scipy import stats\n",
    "\n",
    "def calc_trim_mean(series):\n",
    "    trimmed_mean = stats.trim_mean(series, proportiontocut=0.1)\n",
    "    return trimmed_mean\n",
    "\n",
    "districts = combined.groupby('school_dist').agg(calc_trim_mean)\n",
    "districts.reset_index(inplace=True)\n",
    "districts.head(5)"
   ]
  },
  {
   "cell_type": "code",
   "execution_count": 175,
   "metadata": {},
   "outputs": [
    {
     "data": {
      "image/png": "[encoded data removed]",
      "text/plain": [
       "<matplotlib.figure.Figure at 0x23442bd9470>"
      ]
     },
     "metadata": {},
     "output_type": "display_data"
    }
   ],
   "source": [
    "from mpl_toolkits.basemap import Basemap\n",
    "\n",
    "fig, ax = plt.subplots(figsize=(10,10))\n",
    "m = Basemap(\n",
    "    projection='merc', \n",
    "    llcrnrlat=40.496044, \n",
    "    urcrnrlat=40.915256, \n",
    "    llcrnrlon=-74.255735, \n",
    "    urcrnrlon=-73.700272,\n",
    "    resolution='i'\n",
    ")\n",
    "\n",
    "longitudes = districts['lon'].tolist()\n",
    "latitudes = districts['lat'].tolist()\n",
    "\n",
    "m.scatter(longitudes,latitudes,\n",
    "          s=100,\n",
    "          zorder=2, \n",
    "          latlon=True,\n",
    "          c=districts['sat_score'], cmap='YlOrRd')\n",
    "\n",
    "m.drawmapboundary(fill_color='#46bcec') # Make your map into any style you like\n",
    "m.fillcontinents(color='#f2f2f2',lake_color='#46bcec') # Make your map into any style you like\n",
    "m.drawcoastlines()\n",
    "m.drawrivers(color='#0089E0') # Default colour is black but it can be customized\n",
    "m.drawcountries()\n",
    "\n",
    "ax.set_title('Schools SAT per district')\n",
    "\n",
    "#ax.colorbar()\n",
    "plt.show()"
   ]
  },
  {
   "cell_type": "markdown",
   "metadata": {},
   "source": [
    "### Findings\n",
    "_The darker the color - the better the score._\n",
    "\n",
    "According to the mapped data, Brookly has by far the best performing schools.\n",
    "\n",
    "Other districts with high-sat schools are: Staten Island, Queens and South Manhattan\n",
    "\n",
    "About Boroughs - [Geographical districts of NYC](http://www.nycgo.com/boroughs-neighborhoods)"
   ]
  },
  {
   "cell_type": "markdown",
   "metadata": {},
   "source": [
    "## Neighbours with best schools and property values\n",
    "---\n",
    "It would be great to find districts with not very expensive property and fairly decent schools. Lets visualize it!\n",
    "\n",
    "How to accomplish this? I can imagine we need to highlight NYC districts, filling it using colormap according to the average property price. Then sprinkle those districts with scatterplot sat scores. Hmm, sounds like a plan!"
   ]
  },
  {
   "cell_type": "markdown",
   "metadata": {},
   "source": [
    "### Contents"
   ]
  },
  {
   "cell_type": "markdown",
   "metadata": {},
   "source": [
    "\n",
    "\n",
    "\n",
    "First, you'll need a number of packages to be installed!\n",
    "If you have Windows I recommend develop via excellent [Anaconda](https://www.anaconda.com/)!\n",
    "\n",
    "There is conda-forge repository of conda recipes. Which makes it easy to fetch all required libraries ([as explained on conda-forge](https://conda-forge.org/#about):\n",
    "\n",
    ">The built distributions are uploaded to anaconda.org/conda-forge and can be installed with conda. For example, to install a >conda-forge package into an existing conda environment:\n",
    "\n",
    ">`conda config --add channels conda-forge`\n",
    ">`conda install <package-name>`\n",
    "\n",
    "Run `conda install <package_name>` from your `.../Anaconda3/Scripts` folder for each module we'll be using here.\n",
    "\n",
    "_Additionally, in case there is a problem with `basemap` module installation, try the following command:\n",
    "`conda install basemap --allow-external basemap --allow-unverified basemap`_"
   ]
  },
  {
   "cell_type": "code",
   "execution_count": 176,
   "metadata": {
    "collapsed": true
   },
   "outputs": [],
   "source": [
    "# Import modules\n",
    "import pandas as pd\n",
    "import numpy as np\n",
    "import matplotlib\n",
    "import matplotlib.pyplot as plt\n",
    "import matplotlib.cm as cm\n",
    "from matplotlib.colors import Normalize\n",
    "from matplotlib.collections import PatchCollection\n",
    "from mpl_toolkits.basemap import Basemap\n",
    "from shapely.geometry import Point, Polygon, MultiPoint, MultiPolygon\n",
    "from shapely.prepared import prep\n",
    "from pysal.esda.mapclassify import Natural_Breaks as nb\n",
    "from descartes import PolygonPatch\n",
    "import fiona\n",
    "from itertools import chain\n",
    "import pysal.esda.mapclassify as mapclassify"
   ]
  },
  {
   "cell_type": "markdown",
   "metadata": {},
   "source": [
    "Now let's get actual data.\n",
    "\n",
    "To highlight districts onto map we'll use shapefiles. As internet explains:\n",
    ">A shapefile is an ESRI vector data storage format for storing the location, shape, and attributes of geographic features. It is stored as a set of related files and contains one feature class.\n",
    "\n",
    "I'm getting School District shapefiles from [NYC planning website](http://www1.nyc.gov/assets/planning/download/zip/data-maps/open-data/nysd_17c.zip).\n",
    "This is how those NYC School District shapefiles look when rendered: [renderer 1](http://www1.nyc.gov/site/planning/data-maps/open-data/districts-download-metadata.page), [renderer 2](https://data.cityofnewyork.us/Education/School-Districts/r8nu-ymqj/data)\n",
    "\n",
    "Also for property values I'll mine [Final Property Assesement data](http://www1.nyc.gov/site/finance/taxes/property-assessments.page)\n",
    "\n",
    "So far we have:\n",
    "- combined dataframe with sat scores, `school district number (1-32)` and `zip codes`\n",
    "- shapefiles, with `school district number (1-32)`\n",
    "- property values with `zip codes`\n",
    "\n",
    "Great, we can combine that data using `zip codes` and `school district numbers`!\n",
    "\n",
    "However we need to explore, clean and select data properly."
   ]
  },
  {
   "cell_type": "code",
   "execution_count": 177,
   "metadata": {
    "collapsed": true
   },
   "outputs": [],
   "source": [
    "df_prop_value = pd.read_csv('schools/property_value_NYC_by_school_dist.csv')"
   ]
  },
  {
   "cell_type": "code",
   "execution_count": 178,
   "metadata": {},
   "outputs": [
    {
     "name": "stdout",
     "output_type": "stream",
     "text": [
      "The dataset is huge with over million entries: 1110058\n"
     ]
    }
   ],
   "source": [
    "print('The dataset is huge with over million entries: {}'.format(len(df_prop_value)))"
   ]
  },
  {
   "cell_type": "markdown",
   "metadata": {},
   "source": [
    "Property value dataset contains prices for all types of buildings including warehouses, garages, administrative buildings etc. Lets filter only for those suitable for families. According to [property description page 6](http://www1.nyc.gov/assets/finance/downloads/tar/tarfieldcodes.pdf) we can choose entries with tax class: 1A, 1C, 2A, 2B, 2C.\n",
    "Double checking building types.\n",
    "\n",
    "Also we might need to reference [building classes](http://www1.nyc.gov/assets/finance/jump/hlpbldgcode.html).\n",
    "\n",
    "Ok, cool, lets prepare tidy property-value-dataset: choose columns, filter and clean from nulls."
   ]
  },
  {
   "cell_type": "code",
   "execution_count": 179,
   "metadata": {
    "collapsed": true
   },
   "outputs": [],
   "source": [
    "# Columns of interest\n",
    "cols = ['B','BLOCK','BLDGCL','TAXCLASS','FULLVAL','STADDR','ZIP']\n",
    "\n",
    "# Leave out only relevant columns\n",
    "df_prop_value = df_prop_value[cols]\n",
    "df_prop_value.rename(columns={'B':'borough'}, inplace=True)\n",
    "# Drop entries with empty cells\n",
    "df_prop_value.dropna(inplace=True)"
   ]
  },
  {
   "cell_type": "code",
   "execution_count": 180,
   "metadata": {},
   "outputs": [
    {
     "name": "stdout",
     "output_type": "stream",
     "text": [
      "Now our dataset is smaller: 94936\n"
     ]
    }
   ],
   "source": [
    "# Filter out proper taxclass buildings\n",
    "df_prop_value = df_prop_value[df_prop_value['TAXCLASS'].isin(['1A', '1C', '2A', '2B', '2C'])]\n",
    "print('Now our dataset is smaller: {}'.format(len(df_prop_value)))"
   ]
  },
  {
   "cell_type": "code",
   "execution_count": 181,
   "metadata": {},
   "outputs": [
    {
     "data": {
      "text/html": [
       "<div>\n",
       "<style>\n",
       "    .dataframe thead tr:only-child th {\n",
       "        text-align: right;\n",
       "    }\n",
       "\n",
       "    .dataframe thead th {\n",
       "        text-align: left;\n",
       "    }\n",
       "\n",
       "    .dataframe tbody tr th {\n",
       "        vertical-align: top;\n",
       "    }\n",
       "</style>\n",
       "<table border=\"1\" class=\"dataframe\">\n",
       "  <thead>\n",
       "    <tr style=\"text-align: right;\">\n",
       "      <th></th>\n",
       "      <th>borough</th>\n",
       "      <th>BLOCK</th>\n",
       "      <th>BLDGCL</th>\n",
       "      <th>TAXCLASS</th>\n",
       "      <th>FULLVAL</th>\n",
       "      <th>STADDR</th>\n",
       "      <th>ZIP</th>\n",
       "    </tr>\n",
       "  </thead>\n",
       "  <tbody>\n",
       "    <tr>\n",
       "      <th>86</th>\n",
       "      <td>1</td>\n",
       "      <td>7</td>\n",
       "      <td>S9</td>\n",
       "      <td>2A</td>\n",
       "      <td>4938000.0</td>\n",
       "      <td>60 PEARL STREET</td>\n",
       "      <td>10004.0</td>\n",
       "    </tr>\n",
       "    <tr>\n",
       "      <th>89</th>\n",
       "      <td>1</td>\n",
       "      <td>7</td>\n",
       "      <td>R8</td>\n",
       "      <td>2C</td>\n",
       "      <td>4215000.0</td>\n",
       "      <td>32 WATER STREET</td>\n",
       "      <td>10004.0</td>\n",
       "    </tr>\n",
       "    <tr>\n",
       "      <th>90</th>\n",
       "      <td>1</td>\n",
       "      <td>7</td>\n",
       "      <td>R1</td>\n",
       "      <td>2C</td>\n",
       "      <td>4910000.0</td>\n",
       "      <td>32 WATER STREET</td>\n",
       "      <td>10004.0</td>\n",
       "    </tr>\n",
       "    <tr>\n",
       "      <th>114</th>\n",
       "      <td>1</td>\n",
       "      <td>11</td>\n",
       "      <td>S5</td>\n",
       "      <td>2B</td>\n",
       "      <td>5560000.0</td>\n",
       "      <td>20 BEAVER STREET</td>\n",
       "      <td>10004.0</td>\n",
       "    </tr>\n",
       "    <tr>\n",
       "      <th>123</th>\n",
       "      <td>1</td>\n",
       "      <td>11</td>\n",
       "      <td>R8</td>\n",
       "      <td>2C</td>\n",
       "      <td>3560000.0</td>\n",
       "      <td>15 STONE STREET</td>\n",
       "      <td>10004.0</td>\n",
       "    </tr>\n",
       "  </tbody>\n",
       "</table>\n",
       "</div>"
      ],
      "text/plain": [
       "     borough  BLOCK BLDGCL TAXCLASS    FULLVAL            STADDR      ZIP\n",
       "86         1      7     S9       2A  4938000.0   60 PEARL STREET  10004.0\n",
       "89         1      7     R8       2C  4215000.0   32 WATER STREET  10004.0\n",
       "90         1      7     R1       2C  4910000.0   32 WATER STREET  10004.0\n",
       "114        1     11     S5       2B  5560000.0  20 BEAVER STREET  10004.0\n",
       "123        1     11     R8       2C  3560000.0   15 STONE STREET  10004.0"
      ]
     },
     "execution_count": 181,
     "metadata": {},
     "output_type": "execute_result"
    }
   ],
   "source": [
    "df_prop_value.head()"
   ]
  },
  {
   "cell_type": "markdown",
   "metadata": {},
   "source": [
    "Map School Districts ids to zip code values.\n",
    "\n",
    "I'ce gathered this data MANUALLY. Using these tools: [School Districts](http://www.arcgis.com/home/webmap/viewer.html?url=http://services5.arcgis.com/GfwWNkhOj9bNBqoJ/ArcGIS/rest/services/nysd/FeatureServer/0&source=sd), [Zip codes](http://www.usnaviguide.com/)\n",
    "1. I could not find zip values for school districts on the web.\n",
    "2. It could be somehow automated, but requires advanced approach, such as get boundaries for the district and superpose those boundaries onto shapefile with zip codes.\n",
    "\n",
    "Took me an hour."
   ]
  },
  {
   "cell_type": "code",
   "execution_count": 182,
   "metadata": {
    "collapsed": true
   },
   "outputs": [],
   "source": [
    "districts_zips = {1:[10002, 10009, 10038],\n",
    "                  2:[10162, 10128, 10028, 10075, 10021, 10065, 10022, 10172, 10165, 10176, 10175, 10170, 10017, 10199, 10118, 10122, 10119, 10018, 10001, 10010, 10016, 10011, 10003, 10009, 10014, 10012, 10013, 10278, 10007, 10006, 10281, 10282, 10280, 10004, 10005, 10038, 10036],\n",
    "                  3:[2017, 10026, 10025, 10024, 10069, 10023, 10019],\n",
    "                  4:[10029, 10035],\n",
    "                  5:[10035, 10037, 10027, 10030, 10039],\n",
    "                  6:[2017, 10034, 10040, 10033, 10032, 10031, 10030],\n",
    "                  7:[2017, 10454, 11370, 10459, 10455, 10456, 10452, 10451],\n",
    "                 8:[2017, 10461, 10462, 10472, 10455, 10474, 10473, 10465],\n",
    "                 9:[10453, 10457, 10456, 10452],\n",
    "                 10:[10467, 10470, 10705, 10471, 10463, 10458, 10468],\n",
    "                 11:[10464, 10462, 10461, 10475, 10469, 10466, 10470, 10467],\n",
    "                 12:[2017, 10457, 10459, 10460, 10472],\n",
    "                 13:[11213, 11216, 11205, 11201],\n",
    "                 14:[2017, 11222, 11206, 11211],\n",
    "                 15:[11232, 11217, 11215, 11231],\n",
    "                 16:[2017, 11206, 11221, 11216],\n",
    "                 17:[11225, 2017, 11213, 11203, 11226, 11238, 11225],\n",
    "                 18:[11225, 2017, 11207, 11234, 11212, 11203, 11236],\n",
    "                 19:[11225, 2017, 11208, 11207, 11239],\n",
    "                 20:[11225, 2017, 11209, 11228, 11220, 11219],\n",
    "                 21:[11225, 2017, 11218, 11230, 11204, 11214, 11223, 11224],\n",
    "                 22:[11225, 2017, 11203, 11226, 11230, 11210, 11234, 11229, 11235],\n",
    "                 23:[11233, 11212],\n",
    "                 24:[11372, 11368, 11374, 11373, 11378, 11377, 11379, 11385],\n",
    "                 25:[11225, 2017, 11355, 11357, 11356, 11354, 11358],\n",
    "                 26:[11005, 11427, 11426, 11004, 11360, 11361, 11364, 11362, 11363, 11365, 11001],\n",
    "                 27:[11697, 11694, 11692, 11691, 11096, 11693, 11430, 11415, 11434, 11419, 11418, 11421, 11436, 11422, 11420, 11417, 11414, 11416],\n",
    "                 28:[11413, 11367, 11412, 11434, 11432, 11435, 11433, 11415, 11379, 11375, 11374],\n",
    "                 29:[11432, 11366, 11423, 11429, 11411, 11412, 11413, 11422, 11428],\n",
    "                 30:[11101,11106,11102,11105,11377,11372,11369,11371,11103, 11109, 11104],\n",
    "                 31:[10307,10309,10312,10311,10303,10314,10308,10302,10313,10310,10306,10304,10301,10305],\n",
    "                 32:[11221, 11237, 11238,]}"
   ]
  },
  {
   "cell_type": "markdown",
   "metadata": {},
   "source": [
    "Create a column for `prop_val_df` dataframe with school district id. `apply()` and `lambda` would be of use here."
   ]
  },
  {
   "cell_type": "code",
   "execution_count": 183,
   "metadata": {},
   "outputs": [
    {
     "data": {
      "text/html": [
       "<div>\n",
       "<style>\n",
       "    .dataframe thead tr:only-child th {\n",
       "        text-align: right;\n",
       "    }\n",
       "\n",
       "    .dataframe thead th {\n",
       "        text-align: left;\n",
       "    }\n",
       "\n",
       "    .dataframe tbody tr th {\n",
       "        vertical-align: top;\n",
       "    }\n",
       "</style>\n",
       "<table border=\"1\" class=\"dataframe\">\n",
       "  <thead>\n",
       "    <tr style=\"text-align: right;\">\n",
       "      <th></th>\n",
       "      <th>borough</th>\n",
       "      <th>BLOCK</th>\n",
       "      <th>BLDGCL</th>\n",
       "      <th>TAXCLASS</th>\n",
       "      <th>FULLVAL</th>\n",
       "      <th>STADDR</th>\n",
       "      <th>ZIP</th>\n",
       "      <th>school_dist</th>\n",
       "    </tr>\n",
       "  </thead>\n",
       "  <tbody>\n",
       "    <tr>\n",
       "      <th>86</th>\n",
       "      <td>1</td>\n",
       "      <td>7</td>\n",
       "      <td>S9</td>\n",
       "      <td>2A</td>\n",
       "      <td>4938000.0</td>\n",
       "      <td>60 PEARL STREET</td>\n",
       "      <td>10004.0</td>\n",
       "      <td>2.0</td>\n",
       "    </tr>\n",
       "    <tr>\n",
       "      <th>89</th>\n",
       "      <td>1</td>\n",
       "      <td>7</td>\n",
       "      <td>R8</td>\n",
       "      <td>2C</td>\n",
       "      <td>4215000.0</td>\n",
       "      <td>32 WATER STREET</td>\n",
       "      <td>10004.0</td>\n",
       "      <td>2.0</td>\n",
       "    </tr>\n",
       "    <tr>\n",
       "      <th>90</th>\n",
       "      <td>1</td>\n",
       "      <td>7</td>\n",
       "      <td>R1</td>\n",
       "      <td>2C</td>\n",
       "      <td>4910000.0</td>\n",
       "      <td>32 WATER STREET</td>\n",
       "      <td>10004.0</td>\n",
       "      <td>2.0</td>\n",
       "    </tr>\n",
       "    <tr>\n",
       "      <th>114</th>\n",
       "      <td>1</td>\n",
       "      <td>11</td>\n",
       "      <td>S5</td>\n",
       "      <td>2B</td>\n",
       "      <td>5560000.0</td>\n",
       "      <td>20 BEAVER STREET</td>\n",
       "      <td>10004.0</td>\n",
       "      <td>2.0</td>\n",
       "    </tr>\n",
       "    <tr>\n",
       "      <th>123</th>\n",
       "      <td>1</td>\n",
       "      <td>11</td>\n",
       "      <td>R8</td>\n",
       "      <td>2C</td>\n",
       "      <td>3560000.0</td>\n",
       "      <td>15 STONE STREET</td>\n",
       "      <td>10004.0</td>\n",
       "      <td>2.0</td>\n",
       "    </tr>\n",
       "  </tbody>\n",
       "</table>\n",
       "</div>"
      ],
      "text/plain": [
       "     borough  BLOCK BLDGCL TAXCLASS    FULLVAL            STADDR      ZIP  \\\n",
       "86         1      7     S9       2A  4938000.0   60 PEARL STREET  10004.0   \n",
       "89         1      7     R8       2C  4215000.0   32 WATER STREET  10004.0   \n",
       "90         1      7     R1       2C  4910000.0   32 WATER STREET  10004.0   \n",
       "114        1     11     S5       2B  5560000.0  20 BEAVER STREET  10004.0   \n",
       "123        1     11     R8       2C  3560000.0   15 STONE STREET  10004.0   \n",
       "\n",
       "     school_dist  \n",
       "86           2.0  \n",
       "89           2.0  \n",
       "90           2.0  \n",
       "114          2.0  \n",
       "123          2.0  "
      ]
     },
     "execution_count": 183,
     "metadata": {},
     "output_type": "execute_result"
    }
   ],
   "source": [
    "# Function that returns district id, if it corresponds to a zip code\n",
    "def assign_school_district(zip_code):\n",
    "    for dist_id, zip_code_list in districts_zips.items():\n",
    "        if zip_code in zip_code_list:  \n",
    "            return int(dist_id)\n",
    "\n",
    "df_prop_value['school_dist'] = df_prop_value['ZIP'].apply(assign_school_district)\n",
    "df_prop_value.dropna(inplace=True)\n",
    "df_prop_value.head()"
   ]
  },
  {
   "cell_type": "markdown",
   "metadata": {},
   "source": [
    "### Exploring distributions\n",
    "Lets explore price distributions **per borough** and **per school district**.\n",
    "\n",
    "Visual of [trimmed mean](https://docs.scipy.org/doc/scipy/reference/generated/scipy.stats.trim_mean.html) prices for each district would be a great start.\n",
    "Trimmed mean - gives a robust representation, excluding outliers (10% lowest and 10% highest) that otherwise could've skewed data too much.\n",
    "\n",
    "Also take into account Boro [codes dictionary](http://www1.nyc.gov/assets/finance/downloads/tar/tarfieldcodes.pdf)."
   ]
  },
  {
   "cell_type": "code",
   "execution_count": 184,
   "metadata": {
    "collapsed": true
   },
   "outputs": [],
   "source": [
    "from scipy import stats\n",
    "\n",
    "def calc_trim_mean(series):\n",
    "    trimmed_mean = stats.trim_mean(series, proportiontocut=0.1)\n",
    "    return trimmed_mean\n",
    "\n",
    "borough_trimmean = df_prop_value.groupby('borough').agg(calc_trim_mean)\n",
    "\n",
    "borough_trimmean.reset_index(inplace=True)\n",
    "    "
   ]
  },
  {
   "cell_type": "code",
   "execution_count": 185,
   "metadata": {
    "scrolled": false
   },
   "outputs": [
    {
     "data": {
      "image/png": "[encoded data removed]",
      "text/plain": [
       "<matplotlib.figure.Figure at 0x23447f70e80>"
      ]
     },
     "metadata": {},
     "output_type": "display_data"
    }
   ],
   "source": [
    "borough_labels = ['MANHATTAN', 'BRONX', 'BROOKLYN', 'QUEENS', 'STATEN ISLAND']\n",
    "\n",
    "#plt.figure(figsize=(10,8));\n",
    "ax = borough_trimmean.plot.bar('borough','FULLVAL', label='Apartment Avg Price', figsize=(10,8));\n",
    "\n",
    "ax.set_title('NYC Apartment price per Borough', alpha=0.8)\n",
    "ax.set_xticklabels(borough_labels)\n",
    "ax.set_ylabel('Avg Price $', alpha = 0.7)\n",
    "ax.set_xlabel('Borough', alpha = 0.7)\n",
    "plt.xticks(rotation=70)\n",
    "ax.set_xticklabels(borough_labels)\n",
    "\n",
    "ax.tick_params(axis='both', top='off', bottom='off', left='on', right='off',\n",
    "               labelleft='on', labelbottom='on',\n",
    "               color='#404040',\n",
    "               labelcolor='#404040')\n",
    "for i,spine in enumerate(ax.spines.values()):\n",
    "    spine.set_visible(False)\n",
    "\n",
    "#\n",
    "bars = [rect for rect in ax.get_children() if isinstance(rect, matplotlib.patches.Rectangle)]\n",
    "for bar in bars:\n",
    "    height = bar.get_height();\n",
    "    price = height/1000\n",
    "    ax.text(bar.get_x() + bar.get_width()/2, (height-80000), '$ {}k'.format(int(price)),\n",
    "                 ha='center', color='white', fontsize=10, alpha=0.95);\n",
    "\n",
    "plt.show();\n"
   ]
  },
  {
   "cell_type": "markdown",
   "metadata": {},
   "source": [
    "Evidently Manhattan is the most expensive area to buy an appartment."
   ]
  },
  {
   "cell_type": "code",
   "execution_count": 186,
   "metadata": {
    "collapsed": true
   },
   "outputs": [],
   "source": [
    "school_dist_trimmean = df_prop_value.groupby('school_dist').agg(calc_trim_mean)\n",
    "school_dist_trimmean.reset_index(inplace=True)"
   ]
  },
  {
   "cell_type": "code",
   "execution_count": 187,
   "metadata": {},
   "outputs": [
    {
     "data": {
      "image/png": "[encoded data removed]",
      "text/plain": [
       "<matplotlib.figure.Figure at 0x23447f98978>"
      ]
     },
     "metadata": {},
     "output_type": "display_data"
    }
   ],
   "source": [
    "school_dist_labels = [val+1 for val in list(range(32))]\n",
    "\n",
    "#plt.figure(figsize=(10,8));\n",
    "ax = school_dist_trimmean.plot.bar('school_dist','FULLVAL', label='Apartment Avg Price', figsize=(16,12));\n",
    "\n",
    "ax.set_title('NYC Apartment price per School District', alpha=0.8)\n",
    "ax.set_xticklabels(borough_labels)\n",
    "ax.set_ylabel('Avg Price $', alpha = 0.8)\n",
    "ax.set_xlabel('School District', alpha = 0.8)\n",
    "ax.set_xticks(range(32))\n",
    "plt.xticks(rotation=0)\n",
    "ax.set_xticklabels(school_dist_labels)\n",
    "\n",
    "ax.tick_params(axis='both', top='off', bottom='off', left='on', right='off',\n",
    "               labelleft='on', labelbottom='on',\n",
    "               color='#404040',\n",
    "               labelcolor='#404040')\n",
    "for i,spine in enumerate(ax.spines.values()):\n",
    "    spine.set_visible(False)\n",
    "\n",
    "#\n",
    "bars = [rect for rect in ax.get_children() if isinstance(rect, matplotlib.patches.Rectangle)]\n",
    "for bar in bars:\n",
    "    height = bar.get_height();\n",
    "    price = height/1000\n",
    "    ax.text(bar.get_x() + bar.get_width()/2, (height+30000), '$ {}k'.format(int(price)),\n",
    "                 ha='center', color='black', fontsize=10, alpha=0.95);\n",
    "\n",
    "plt.show();"
   ]
  },
  {
   "cell_type": "markdown",
   "metadata": {},
   "source": [
    "Ok, it is clearly seen that Manhattan is super expensive while Staten Island property is much most affordable.\n",
    "\n",
    "To see each School District on a map: [School Districts](http://www.arcgis.com/home/webmap/viewer.html?url=http://services5.arcgis.com/GfwWNkhOj9bNBqoJ/ArcGIS/rest/services/nysd/FeatureServer/0&source=sd)"
   ]
  },
  {
   "cell_type": "markdown",
   "metadata": {},
   "source": [
    "### Loading Shapefiles\n",
    "\n",
    "\n",
    "Note that when you download your shapefile you might get multiple shapefile sets. NYC School District shapefile from [Open Data City of New York](https://data.cityofnewyork.us/Education/School-Districts/r8nu-ymqj/data) I downloaded contained several files. Actual shapefile has .shp extension: *nysd.shp*\n",
    "\n",
    "So what's in a shapefile? A shapefile is really a set of files that needs to remain together (in the same folder). At minimum, the file should contain .shp, .shx, and .dbf files. The .shp and .shx files define the shapes themselves while the .dbf file will contain metadata on the shape polygons (e.g. state names). The .prj file defines the projection. Those files can be created and edited using awesome, open source [QGIS](http://www.qgis.org/en/site/).\n",
    "\n",
    "**You absolutely will need to make sure that within the .dbf file the states or districts have the same spelling conventions as in your data set!** You can open .dbf (which is a delimited-data file, just like .csv) with the editor of your choice: Microsoft Excel or via a free [Apache's Open Office](https://www.openoffice.org/). Those programs will let you open and inspect the .dbf file. Don't change it though; it's much easier to change your data file.\n",
    "\n",
    "Now lets, continue with loading shapefiles.\n",
    "\n",
    "We'll import it using *fiona*. Also set some variables which define the boundaries of the map area. One way to think about it is that the shapefile you pass to fiona has some bounds which are defined by 2 latitude, longitude pairs: the first defines the lower left (ll) corner of the map and the second defines the upper right (ur) corner of the map.\n",
    "\n",
    "By subtracting the left edge longitude from the right edge longitude we can determine the width (w) for the map. We can do the same with the latitutde to get the height of the map."
   ]
  },
  {
   "cell_type": "code",
   "execution_count": 188,
   "metadata": {
    "collapsed": true
   },
   "outputs": [],
   "source": [
    "#load the shape file as shp. Here I have saved my shapefile in the folder 'schools/nysd_17c' within my working directory.\n",
    "#your shapefile should end in .shp\n",
    "#shp = fiona.open('schools/nysd_17c/nysd.shp')\n",
    "shp = fiona.open('schools/SchoolDistricts/geo_export_714c55bc-0b01-4c93-84b3-11b4b2716d8f.shp')\n",
    "\n",
    "#we can access the boundaries (the 2 lat,long pairs) using shp.bounds\n",
    "bds = shp.bounds\n",
    "\n",
    "#close the shp file\n",
    "shp.close()\n",
    "\n",
    "#define a variable called extra which we will use for padding the map when we display it (in this case I've selected a 10% pad)\n",
    "extra = 0.1\n",
    "\n",
    "#define the lower left hand boundary (longitude, latitude)\n",
    "ll = (bds[0], bds[1])\n",
    "\n",
    "#define the upper right hand boundary (longitude, latitude)\n",
    "ur = (bds[2], bds[3])\n",
    "\n",
    "#concatenate the lower left and upper right into a variable called coordinates\n",
    "coords = list(chain(ll, ur))\n",
    "\n",
    "#define variables for the width and the height of the map\n",
    "w, h = coords[2] - coords[0], coords[3] - coords[1]"
   ]
  },
  {
   "cell_type": "markdown",
   "metadata": {},
   "source": [
    "### Creating Basemap\n",
    "Below I create the basemap, defined by the variable m. Note that we need to set the lat and long (lon_0, lat_0) so that it is roughly in the center of what your map. It can be picked just by using Google Maps to figure out where the center is. Here, let's take the average (the midpoint) between the lower and upper longitude and the lower and upper latitude to center.\n",
    "\n",
    "If you're interested in learning about the Basemap API check out the matplotlib [Basemap documentation here](http://matplotlib.org/basemap/api/basemap_api.html)."
   ]
  },
  {
   "cell_type": "code",
   "execution_count": 261,
   "metadata": {},
   "outputs": [
    {
     "data": {
      "image/png": "[encoded data removed]",
      "text/plain": [
       "<matplotlib.figure.Figure at 0x2360a5c5dd8>"
      ]
     },
     "metadata": {},
     "output_type": "display_data"
    }
   ],
   "source": [
    "m = Basemap(\n",
    "    #set projection to 'tmerc' which is apparently less distorting when close-in\n",
    "    projection='tmerc',\n",
    "\n",
    "    #set longitude as average of lower, upper longitude bounds\n",
    "    lon_0 = np.average([bds[0],bds[2]]),\n",
    "\n",
    "    #set latitude as average of lower,upper latitude bounds\n",
    "    lat_0 = np.average([bds[1],bds[3]]),\n",
    "\n",
    "    #string describing ellipsoid (‘GRS80’ or ‘WGS84’, for example). Not sure what this does...\n",
    "    ellps = 'WGS84',\n",
    "    \n",
    "    #set the map boundaries. Note that we use the extra variable to provide a 10% buffer around the map\n",
    "    llcrnrlon=coords[0] - extra * w,\n",
    "    llcrnrlat=coords[1] - extra + 0.01 * h,\n",
    "    urcrnrlon=coords[2] + extra * w,\n",
    "    urcrnrlat=coords[3] + extra + 0.01 * h,\n",
    "\n",
    "    #provide latitude of 'true scale.' Not sure what this means, I would check the Basemap API if you are a GIS guru\n",
    "    lat_ts=0,\n",
    "\n",
    "    #resolution of boundary database to use. Can be c (crude), l (low), i (intermediate), h (high), f (full) or None.\n",
    "    resolution='i',\n",
    "    \n",
    "    #don't show the axis ticks automatically\n",
    "    suppress_ticks=True);\n",
    "\n",
    "m.readshapefile(\n",
    "    #provide the path to the shapefile, but leave off the .shp extension\n",
    "    'schools/SchoolDistricts/geo_export_714c55bc-0b01-4c93-84b3-11b4b2716d8f',\n",
    "\n",
    "    #name your map something useful (I named this 'srilanka')\n",
    "    'school_districts',\n",
    "\n",
    "    #set the default shape boundary coloring (default is black) and the zorder (layer order)\n",
    "    color='none',\n",
    "    zorder=2);"
   ]
  },
  {
   "cell_type": "markdown",
   "metadata": {},
   "source": [
    "We can access the m object by passing m.whatever_shape_name. Each item in m.school_districts is a matrixa 2 x n matrix defining the polygon shape. I believe they are the locations of each point. If you want to take a look at the first polygon in m.srilanka execute:"
   ]
  },
  {
   "cell_type": "markdown",
   "metadata": {},
   "source": [
    "    In: m.school_districts[0]"
   ]
  },
  {
   "cell_type": "code",
   "execution_count": 190,
   "metadata": {
    "scrolled": false
   },
   "outputs": [
    {
     "name": "stdout",
     "output_type": "stream",
     "text": [
      "m.school_districts is a <class 'list'> object.\n",
      "It contains 122 items.\n",
      "The first list item itself contains 488 items.\n"
     ]
    }
   ],
   "source": [
    "print('m.school_districts is a ' + str(type(m.school_districts)) + ' object.')\n",
    "print('It contains ' + str(len(m.school_districts)) + ' items.')\n",
    "print('The first list item itself contains ' + str(len(m.school_districts[0])) + ' items.')"
   ]
  },
  {
   "cell_type": "markdown",
   "metadata": {},
   "source": [
    "Notice, that even though we have 32 nominal districts, the basemap object actually shows 122 items! And as an example first item has 488 within - point. Looks like each district has complex structure and presented with several patches.\n",
    "\n",
    "We can also access the info feature of the polygon to get the metadata. Note that RINGNUM and SHAPENUM were added. I'll be using `school_dis` to merge this with my data as this contains the district number."
   ]
  },
  {
   "cell_type": "code",
   "execution_count": 191,
   "metadata": {},
   "outputs": [
    {
     "data": {
      "text/plain": [
       "{'RINGNUM': 1,\n",
       " 'SHAPENUM': 1,\n",
       " 'school_dis': 20.0,\n",
       " 'shape_area': 242723008.904,\n",
       " 'shape_leng': 95513.4860103}"
      ]
     },
     "execution_count": 191,
     "metadata": {},
     "output_type": "execute_result"
    }
   ],
   "source": [
    "m.school_districts_info[0]"
   ]
  },
  {
   "cell_type": "markdown",
   "metadata": {},
   "source": [
    "### Setting up the DataFrame\n",
    "Next, we need to take the information from m.srilanka and get it into a nice Panda's dataframe. Shapely's Polygon class would help to convert the x,y information contained in the m.srilanka list to create a defined polygon. More on [Shapely here](http://toblerity.org/shapely/manual.html)."
   ]
  },
  {
   "cell_type": "code",
   "execution_count": 192,
   "metadata": {
    "collapsed": true
   },
   "outputs": [],
   "source": [
    "# set up a map dataframe\n",
    "df_map = pd.DataFrame({\n",
    "\n",
    "    #access the x,y coords and define a polygon for each item in m.srilanka\n",
    "    'poly': [Polygon(xy) for xy in m.school_districts],\n",
    "    #conver NAME_1 to a column called 'district'\n",
    "    'school_district': [district['school_dis'] for district in m.school_districts_info]})\n",
    "\n",
    "#add the polygon area\n",
    "df_map['area_m'] = df_map['poly'].map(lambda x: x.area/1000)\n",
    "\n",
    "#convert meters to miles\n",
    "df_map['area_miles'] = df_map['area_m'] * 0.000621371"
   ]
  },
  {
   "cell_type": "code",
   "execution_count": 193,
   "metadata": {},
   "outputs": [
    {
     "data": {
      "text/html": [
       "<div>\n",
       "<style>\n",
       "    .dataframe thead tr:only-child th {\n",
       "        text-align: right;\n",
       "    }\n",
       "\n",
       "    .dataframe thead th {\n",
       "        text-align: left;\n",
       "    }\n",
       "\n",
       "    .dataframe tbody tr th {\n",
       "        vertical-align: top;\n",
       "    }\n",
       "</style>\n",
       "<table border=\"1\" class=\"dataframe\">\n",
       "  <thead>\n",
       "    <tr style=\"text-align: right;\">\n",
       "      <th></th>\n",
       "      <th>poly</th>\n",
       "      <th>school_district</th>\n",
       "      <th>area_m</th>\n",
       "      <th>area_miles</th>\n",
       "    </tr>\n",
       "  </thead>\n",
       "  <tbody>\n",
       "    <tr>\n",
       "      <th>0</th>\n",
       "      <td>POLYGON ((24262.28400464167 27838.73793329428,...</td>\n",
       "      <td>20.0</td>\n",
       "      <td>22549.695846</td>\n",
       "      <td>14.011727</td>\n",
       "    </tr>\n",
       "    <tr>\n",
       "      <th>1</th>\n",
       "      <td>POLYGON ((32075.61727346742 32759.41118080938,...</td>\n",
       "      <td>16.0</td>\n",
       "      <td>4344.509584</td>\n",
       "      <td>2.699552</td>\n",
       "    </tr>\n",
       "    <tr>\n",
       "      <th>2</th>\n",
       "      <td>POLYGON ((48082.1420714914 41940.85143518099, ...</td>\n",
       "      <td>26.0</td>\n",
       "      <td>39475.679444</td>\n",
       "      <td>24.529042</td>\n",
       "    </tr>\n",
       "    <tr>\n",
       "      <th>3</th>\n",
       "      <td>POLYGON ((33876.24782532706 33609.37493672247,...</td>\n",
       "      <td>32.0</td>\n",
       "      <td>4821.572429</td>\n",
       "      <td>2.995985</td>\n",
       "    </tr>\n",
       "    <tr>\n",
       "      <th>4</th>\n",
       "      <td>POLYGON ((36306.56079673166 49645.21019755617,...</td>\n",
       "      <td>12.0</td>\n",
       "      <td>6414.468478</td>\n",
       "      <td>3.985765</td>\n",
       "    </tr>\n",
       "  </tbody>\n",
       "</table>\n",
       "</div>"
      ],
      "text/plain": [
       "                                                poly  school_district  \\\n",
       "0  POLYGON ((24262.28400464167 27838.73793329428,...             20.0   \n",
       "1  POLYGON ((32075.61727346742 32759.41118080938,...             16.0   \n",
       "2  POLYGON ((48082.1420714914 41940.85143518099, ...             26.0   \n",
       "3  POLYGON ((33876.24782532706 33609.37493672247,...             32.0   \n",
       "4  POLYGON ((36306.56079673166 49645.21019755617,...             12.0   \n",
       "\n",
       "         area_m  area_miles  \n",
       "0  22549.695846   14.011727  \n",
       "1   4344.509584    2.699552  \n",
       "2  39475.679444   24.529042  \n",
       "3   4821.572429    2.995985  \n",
       "4   6414.468478    3.985765  "
      ]
     },
     "execution_count": 193,
     "metadata": {},
     "output_type": "execute_result"
    }
   ],
   "source": [
    "df_map.head()"
   ]
  },
  {
   "cell_type": "markdown",
   "metadata": {},
   "source": [
    "### Merging datasets into one\n",
    "\n",
    "The data we want to merge: `school_dist_trimmean` and `df_map` dataframes\n",
    "\n",
    "School districts would be the matching ids we merge on."
   ]
  },
  {
   "cell_type": "code",
   "execution_count": 194,
   "metadata": {
    "collapsed": true
   },
   "outputs": [],
   "source": [
    "# First rename the column, so that both dataframe column names match.\n",
    "df_map.rename(columns={'school_district':'school_dist'}, inplace=True)"
   ]
  },
  {
   "cell_type": "code",
   "execution_count": 195,
   "metadata": {
    "scrolled": false
   },
   "outputs": [
    {
     "data": {
      "text/html": [
       "<div>\n",
       "<style>\n",
       "    .dataframe thead tr:only-child th {\n",
       "        text-align: right;\n",
       "    }\n",
       "\n",
       "    .dataframe thead th {\n",
       "        text-align: left;\n",
       "    }\n",
       "\n",
       "    .dataframe tbody tr th {\n",
       "        vertical-align: top;\n",
       "    }\n",
       "</style>\n",
       "<table border=\"1\" class=\"dataframe\">\n",
       "  <thead>\n",
       "    <tr style=\"text-align: right;\">\n",
       "      <th></th>\n",
       "      <th>poly</th>\n",
       "      <th>school_dist</th>\n",
       "      <th>area_m</th>\n",
       "      <th>area_miles</th>\n",
       "      <th>borough</th>\n",
       "      <th>BLOCK</th>\n",
       "      <th>FULLVAL</th>\n",
       "      <th>ZIP</th>\n",
       "    </tr>\n",
       "  </thead>\n",
       "  <tbody>\n",
       "    <tr>\n",
       "      <th>0</th>\n",
       "      <td>POLYGON ((24262.28400464167 27838.73793329428,...</td>\n",
       "      <td>20.0</td>\n",
       "      <td>22549.695846</td>\n",
       "      <td>14.011727</td>\n",
       "      <td>3</td>\n",
       "      <td>5180.267077</td>\n",
       "      <td>602679.685333</td>\n",
       "      <td>11218.628308</td>\n",
       "    </tr>\n",
       "    <tr>\n",
       "      <th>1</th>\n",
       "      <td>POLYGON ((32075.61727346742 32759.41118080938,...</td>\n",
       "      <td>16.0</td>\n",
       "      <td>4344.509584</td>\n",
       "      <td>2.699552</td>\n",
       "      <td>3</td>\n",
       "      <td>2269.089753</td>\n",
       "      <td>439545.145849</td>\n",
       "      <td>11221.000000</td>\n",
       "    </tr>\n",
       "    <tr>\n",
       "      <th>2</th>\n",
       "      <td>POLYGON ((48082.1420714914 41940.85143518099, ...</td>\n",
       "      <td>26.0</td>\n",
       "      <td>39475.679444</td>\n",
       "      <td>24.529042</td>\n",
       "      <td>4</td>\n",
       "      <td>6985.513953</td>\n",
       "      <td>533311.811628</td>\n",
       "      <td>11361.947442</td>\n",
       "    </tr>\n",
       "    <tr>\n",
       "      <th>3</th>\n",
       "      <td>POLYGON ((33876.24782532706 33609.37493672247,...</td>\n",
       "      <td>32.0</td>\n",
       "      <td>4821.572429</td>\n",
       "      <td>2.995985</td>\n",
       "      <td>3</td>\n",
       "      <td>3259.812201</td>\n",
       "      <td>671501.978469</td>\n",
       "      <td>11237.000000</td>\n",
       "    </tr>\n",
       "    <tr>\n",
       "      <th>4</th>\n",
       "      <td>POLYGON ((36306.56079673166 49645.21019755617,...</td>\n",
       "      <td>12.0</td>\n",
       "      <td>6414.468478</td>\n",
       "      <td>3.985765</td>\n",
       "      <td>2</td>\n",
       "      <td>3643.409639</td>\n",
       "      <td>533621.518072</td>\n",
       "      <td>10460.000000</td>\n",
       "    </tr>\n",
       "  </tbody>\n",
       "</table>\n",
       "</div>"
      ],
      "text/plain": [
       "                                                poly  school_dist  \\\n",
       "0  POLYGON ((24262.28400464167 27838.73793329428,...         20.0   \n",
       "1  POLYGON ((32075.61727346742 32759.41118080938,...         16.0   \n",
       "2  POLYGON ((48082.1420714914 41940.85143518099, ...         26.0   \n",
       "3  POLYGON ((33876.24782532706 33609.37493672247,...         32.0   \n",
       "4  POLYGON ((36306.56079673166 49645.21019755617,...         12.0   \n",
       "\n",
       "         area_m  area_miles  borough        BLOCK        FULLVAL           ZIP  \n",
       "0  22549.695846   14.011727        3  5180.267077  602679.685333  11218.628308  \n",
       "1   4344.509584    2.699552        3  2269.089753  439545.145849  11221.000000  \n",
       "2  39475.679444   24.529042        4  6985.513953  533311.811628  11361.947442  \n",
       "3   4821.572429    2.995985        3  3259.812201  671501.978469  11237.000000  \n",
       "4   6414.468478    3.985765        2  3643.409639  533621.518072  10460.000000  "
      ]
     },
     "execution_count": 195,
     "metadata": {},
     "output_type": "execute_result"
    }
   ],
   "source": [
    "value_by_school_dist_df = pd.merge(df_map, school_dist_trimmean, on='school_dist')\n",
    "value_by_school_dist_df.head()"
   ]
  },
  {
   "cell_type": "markdown",
   "metadata": {},
   "source": [
    "Looks nice!"
   ]
  },
  {
   "cell_type": "markdown",
   "metadata": {},
   "source": [
    "### Binning the data\n",
    "Next, we need to decide how we want to split up the data. For a filled map, we need to decide how many bins we want (call this k) and where to split the bins.\n",
    "\n",
    "Here are two options:\n",
    "- use Jenks natural breaks\n",
    "- define our own breaks\n",
    "\n",
    "[Jenks natural breaks](http://en.wikipedia.org/wiki/Jenks_natural_breaks_optimization) defines optimal breakpoints for the data using a clustering algorithm.\n",
    "\n",
    "Defining our own breaks (like the example I provided above) is useful for when you want to create a set of maps using the same basemap but plotting different variables. In this case, you generally want to have your data plotted on the same scale for ease of comparison.\n",
    "\n",
    "Below, toggle the variable Jenks to True if you want to use Jenks bins and False if you want to define your own.\n",
    "\n",
    "#### Set the bins"
   ]
  },
  {
   "cell_type": "code",
   "execution_count": 196,
   "metadata": {
    "collapsed": true
   },
   "outputs": [],
   "source": [
    "# change False to True to use Jenks binning\n",
    "jenks = True"
   ]
  },
  {
   "cell_type": "markdown",
   "metadata": {},
   "source": [
    "Next, set the variable you would like to plot. This should be the column name in df_map that you would like to analyze. I have set it to 'Tamils_pct' for the purpose of the walkthrough.\n",
    "\n",
    "#### Set the variable to plot"
   ]
  },
  {
   "cell_type": "code",
   "execution_count": 197,
   "metadata": {
    "collapsed": true
   },
   "outputs": [],
   "source": [
    "# change 'Tamils_pct' to the column name of what you want to plot (e.g. 'Total_pop' for total population)\n",
    "var_2_analyze = 'FULLVAL'"
   ]
  },
  {
   "cell_type": "markdown",
   "metadata": {},
   "source": [
    "#### Bin the data"
   ]
  },
  {
   "cell_type": "code",
   "execution_count": 198,
   "metadata": {
    "collapsed": true
   },
   "outputs": [],
   "source": [
    "if jenks == True:\n",
    "    # Calculate Jenks natural breaks for each polygon\n",
    "    breaks = nb(\n",
    "        # set the data to use\n",
    "        value_by_school_dist_df[var_2_analyze].values,\n",
    "\n",
    "        # since this is an optimization function we need to give it a number of initial solutions to find. \n",
    "        # you can adjust this number if you are unsatisfied with the bin results\n",
    "        initial=1,\n",
    "\n",
    "        # k is the number of natural breaks you would like to apply. I've set it to 10, but you can change.\n",
    "        k=10)\n",
    "\n",
    "else:\n",
    "    # Define my own breaks [even split each 20 percentage points] Note that the bins are the top range so >20, >40, etc\n",
    "    # you can change the bins to whatever you like, though they should be based on the data you are analyzing\n",
    "    # since I am going to plot data on a 0 to 100 scale, I chose these break points\n",
    "    my_bins = [20,40,60,80,100]\n",
    "    \n",
    "    # Calculate the user defined breaks for our defined bins\n",
    "    breaks = mapclassify.User_Defined(\n",
    "               \n",
    "            # set the data to use \n",
    "            value_by_school_dist_df[value_by_school_dist_df[var_2_analyze].notnull()][var_2_analyze].values,\n",
    "            \n",
    "            #use my bins\n",
    "            my_bins)"
   ]
  },
  {
   "cell_type": "markdown",
   "metadata": {},
   "source": [
    "Note that the output of our **breaks** variable from `pysal.esda.mapclassify` has two attributes we can access: `breaks.y` and `breaks.yb`\n",
    "- *breaks.y* has the actual data that we broke on\n",
    "- *breaks.yb* has the bin that is output\n",
    "\n",
    "You can take a look at this if you're interested by executing:\n",
    "\n",
    "    In: breaks.y\n",
    "    In: breaks.yb"
   ]
  },
  {
   "cell_type": "markdown",
   "metadata": {},
   "source": [
    "#### Add Breaks to the DataFrame as bins"
   ]
  },
  {
   "cell_type": "code",
   "execution_count": 199,
   "metadata": {
    "collapsed": true
   },
   "outputs": [],
   "source": [
    "# check if 'bins' already exists and drop it if it does so that we can recreate it using our new break information\n",
    "if 'bins' in value_by_school_dist_df.columns:\n",
    "    value_by_school_dist_df = value_by_school_dist_df.drop('bins',1)\n",
    "    print('Bins column already existed, so we dropped the bins column')\n",
    "\n",
    "\n",
    "# the notnull method lets us match indices when joining\n",
    "# b is a dataframe of the bins with the var_2_analyze index#\n",
    "b = pd.DataFrame({'bins': breaks.yb}, index=value_by_school_dist_df[value_by_school_dist_df[var_2_analyze].notnull()].index)\n",
    "\n",
    "# join b back to df_map\n",
    "value_by_school_dist_df = value_by_school_dist_df.join(b)\n",
    "\n",
    "# and handle our NA's if there are any\n",
    "value_by_school_dist_df.bins.fillna(-1, inplace=True)"
   ]
  },
  {
   "cell_type": "markdown",
   "metadata": {},
   "source": [
    "#### Create labels for the legend"
   ]
  },
  {
   "cell_type": "code",
   "execution_count": 200,
   "metadata": {},
   "outputs": [
    {
     "name": "stdout",
     "output_type": "stream",
     "text": [
      "Here are the bin labels:\n",
      "< $286234\n",
      "< $303148\n",
      "< $441535\n",
      "< $472451\n",
      "< $556758\n",
      "< $705035\n",
      "< $950044\n",
      "< $1515608\n",
      "< $2453464\n"
     ]
    }
   ],
   "source": [
    "\n",
    "# check if this is a jenks or user-defined break\n",
    "if jenks == True:\n",
    "    \n",
    "    # if jenks, use these labels\n",
    "    bin_labels = [\"< $%0.0f\" % b for b in breaks.bins]\n",
    "else: \n",
    "    \n",
    "    # if user defined, use these ones\n",
    "    bin_labels = [\"< $%0.0f\" % b for b in breaks.bins]\n",
    "    \n",
    "print('Here are the bin labels:')\n",
    "for label in bin_labels:\n",
    "    print(label)"
   ]
  },
  {
   "cell_type": "markdown",
   "metadata": {},
   "source": [
    "### Set up the colors\n",
    "\n",
    "Following useful functions originates from [Stephan Hügel's guide](http://sensitivecities.com/so-youd-like-to-make-a-map-using-python-EN.html#.VNZHhVXF8kR) to mapping with Python. He does a very nice job defining reusable functions for mapping numbers to colors.\n",
    "\n",
    "We now have each polygon bucketed within a bin. We just want to ensure that we evenly split our color scale across the bins. These functions help us do that using some of matplotlib's built in functionality."
   ]
  },
  {
   "cell_type": "code",
   "execution_count": 201,
   "metadata": {
    "collapsed": true
   },
   "outputs": [],
   "source": [
    "# Convenience functions for working with color ramps and bars\n",
    "def colorbar_index(ncolors, cmap, labels=None, **kwargs):\n",
    "    \"\"\"\n",
    "    This is a convenience function to stop you making off-by-one errors\n",
    "    Takes a standard colour ramp, and discretizes it,\n",
    "    then draws a colour bar with correctly aligned labels\n",
    "    \"\"\"\n",
    "    #cmap = cmap_discretize(cmap, ncolors)\n",
    "    if type(cmap) == str:\n",
    "        cmap = get_cmap(cmap)\n",
    "    mappable = cm.ScalarMappable(cmap=cmap)\n",
    "    mappable.set_array([])\n",
    "    mappable.set_clim(-0.5, ncolors+0.5)\n",
    "    colorbar = plt.colorbar(mappable, **kwargs)\n",
    "    colorbar.set_ticks(np.linspace(0, ncolors, ncolors))\n",
    "    colorbar.set_ticklabels(range(ncolors))\n",
    "    if labels:\n",
    "        colorbar.set_ticklabels(labels)\n",
    "    return colorbar\n",
    "\n",
    "def cmap_discretize(cmap, N):\n",
    "    \"\"\"\n",
    "    Return a discrete colormap from the continuous colormap cmap.\n",
    "\n",
    "        cmap: colormap instance, eg. cm.jet. \n",
    "        N: number of colors.\n",
    "\n",
    "    Example\n",
    "        x = resize(arange(100), (5,100))\n",
    "        djet = cmap_discretize(cm.jet, 5)\n",
    "        imshow(x, cmap=djet)\n",
    "\n",
    "    \"\"\"\n",
    "    if type(cmap) == str:\n",
    "        cmap = get_cmap(cmap)\n",
    "    colors_i = np.concatenate((np.linspace(0, 1., N), (0., 0., 0., 0.)))\n",
    "    colors_rgba = cmap(colors_i)\n",
    "    indices = np.linspace(0, 1., N + 1)\n",
    "    cdict = {}\n",
    "    for ki, key in enumerate(('red', 'green', 'blue')):\n",
    "        cdict[key] = [(indices[i], colors_rgba[i - 1, ki], colors_rgba[i, ki]) for i in np.arange(N)+1]\n",
    "    return matplotlib.colors.LinearSegmentedColormap(cmap.name + \"_%d\" % N, cdict, 1024)"
   ]
  },
  {
   "cell_type": "markdown",
   "metadata": {},
   "source": [
    "### Now Let's plot the actual Map!\n",
    "\n",
    "All the actual drawing will be done by matplotlib.\n",
    "\n",
    "It is worth mentioning is that you can customize the colors with any of the matplotlib color maps. Here is a list ofoptions available in the [reference document here](http://matplotlib.org/examples/color/colormaps_reference.html). For creating a filled map you should stick to the **sequential** color maps."
   ]
  },
  {
   "cell_type": "code",
   "execution_count": 259,
   "metadata": {
    "scrolled": false
   },
   "outputs": [
    {
     "data": {
      "text/plain": [
       "<matplotlib.figure.Figure at 0x2345ad28320>"
      ]
     },
     "metadata": {},
     "output_type": "display_data"
    },
    {
     "data": {
      "image/png": "[encoded data removed]",
      "text/plain": [
       "<matplotlib.figure.Figure at 0x2345ab674a8>"
      ]
     },
     "metadata": {},
     "output_type": "display_data"
    }
   ],
   "source": [
    "%matplotlib inline\n",
    "\n",
    "# Following two imports would be useful to creat a thumbnail image of NYC on top of our main graph.\n",
    "import mpl_toolkits.axes_grid1.inset_locator as mpl_il\n",
    "import matplotlib.image as mpimg\n",
    "\n",
    "# initialize the plot\n",
    "plt.clf();\n",
    "\n",
    "# define the figure and set the facecolor (e.g. background) to white\n",
    "fig = plt.figure(facecolor='white');\n",
    "\n",
    "# ad a subplot called 'ax'\n",
    "ax = fig.add_subplot(111, frame_on=False);\n",
    "\n",
    "# use a blue colour ramp ('Blues') - we'll be converting it to a map using cmap()\n",
    "# you could also use 'Oranges' or 'Greens' \n",
    "cmap = plt.get_cmap('Blues')\n",
    "#cmap = plt.get_cmap('coolwarm')\n",
    "\n",
    "\n",
    "# draw district with grey outlines\n",
    "value_by_school_dist_df['patches'] = value_by_school_dist_df['poly'].map(lambda x: PolygonPatch(x, ec='#555555', lw=.2, alpha=1., zorder=4))\n",
    "\n",
    "\n",
    "# set the PatchCollection with our defined 'patches'\n",
    "pc = PatchCollection(value_by_school_dist_df['patches'], match_original=True)\n",
    "\n",
    "# normalize our bins between the min and max values within the bins\n",
    "norm = Normalize(vmin=value_by_school_dist_df['bins'].min(), vmax=value_by_school_dist_df['bins'].max())\n",
    "\n",
    "# impose our color map onto the patch collection\n",
    "pc.set_facecolor(cmap(norm(value_by_school_dist_df['bins'].values)))\n",
    "ax.add_collection(pc)\n",
    "\n",
    "# Add a color bar which has our bin_labels applied\n",
    "cb = colorbar_index(ncolors=len(bin_labels), cmap=cmap, shrink=0.5, labels=bin_labels)\n",
    "# set the font size of the labels (set to size 10 here)\n",
    "cb.ax.tick_params(labelsize=12)\n",
    "\n",
    "# Create a bit of small print\n",
    "# smallprint = ax.text(\n",
    "#     # set the x,y location of the smallprint\n",
    "#     1, 1,\n",
    "#     # add whatever text you would like to appear\n",
    "#     'This is a map of New York with School Districts highlighted by its average\\nProperty Prices and School Performance',\n",
    "#     # set the horizontal/vertical alignment\n",
    "#     ha='center', va='bottom',\n",
    "#     # set the size and the color\n",
    "#     size=14,\n",
    "#     color='#777777',\n",
    "#     transform=ax.transAxes)\n",
    "\n",
    "# Draw a map scale\n",
    "m.drawmapscale(\n",
    "    #set the coordinates where the scale should appear\n",
    "    coords[0] + 0.08, coords[1] + 0.215,\n",
    "    coords[0], coords[1],\n",
    "    # what is the max value of the scale (here it's set to 25 for 25 miles)\n",
    "    10.,\n",
    "    barstyle='fancy', labelstyle='simple',\n",
    "    fillcolor1='w', fillcolor2='#555555',\n",
    "    fontcolor='#555555',\n",
    "    zorder=5,\n",
    "    # what units would you like to use. Defaults to km\n",
    "    #units='mi'\n",
    ")\n",
    "\n",
    "# Map School SAT scores per district\n",
    "m.scatter(longitudes,latitudes,\n",
    "          s=120,\n",
    "          zorder=5, \n",
    "          latlon=True,\n",
    "          c=districts['sat_score'], cmap='Oranges')\n",
    "\n",
    "# set the layout to maximally fit the bounding area\n",
    "plt.tight_layout()\n",
    "\n",
    "# define the size of the figure\n",
    "fig.set_size_inches(16,16)\n",
    "\n",
    "\n",
    "ax.set_title('This is a map of New York with School Districts highlighted by its average\\nProperty Prices and School Performance', alpha=0.8)\n",
    "\n",
    "# Add text annotations for most interesting findings.\n",
    "dist_22_longitude = districts[districts['school_dist']=='22']['lon'].values[0]\n",
    "dist_22_lattitude = districts[districts['school_dist']=='22']['lat'].values[0]\n",
    "\n",
    "\n",
    "ax.annotate(\"Staten Islands, district: 31,\\nAverage sat scores: 1380\",\n",
    "            xy=(12000, 20000), xycoords='data',\n",
    "            xytext=(4000, 23500), textcoords='data',\n",
    "            size=12, va=\"center\", ha=\"center\",\n",
    "            arrowprops=dict(arrowstyle=\"->\",\n",
    "                            connectionstyle=\"arc3,rad=-0.2\", alpha=0.7),\n",
    "            alpha=0.8\n",
    "            )\n",
    "\n",
    "ax.annotate(\"Brooklyn, district: 22,\\nAverage sat scores: 1450\",\n",
    "            xy=(31000, 22500), xycoords='data',\n",
    "            xytext=(25000, 15500), textcoords='data',\n",
    "            size=12, va=\"center\", ha=\"center\",\n",
    "            arrowprops=dict(arrowstyle=\"->\",\n",
    "                            connectionstyle=\"arc3,rad=0.2\", alpha=0.7),\n",
    "            alpha=0.8\n",
    "            )\n",
    "\n",
    "ax.annotate(\"Manhattan, districts: 1, 2, 3,\\nAverage sat scores: 1310\",\n",
    "            xy=(25100, 36500), xycoords='data',\n",
    "            xytext=(18000, 40000), textcoords='data',\n",
    "            size=12, va=\"center\", ha=\"center\",\n",
    "            arrowprops=dict(arrowstyle=\"->\",\n",
    "                            connectionstyle=\"arc3,rad=0.2\", alpha=0.7),\n",
    "            alpha=0.8\n",
    "            )\n",
    "\n",
    "ax.annotate(\"Queens, districts: 25-26,\\nAverage sat scores: 1360\",\n",
    "            xy=(44000, 39000), xycoords='data',\n",
    "            xytext=(52000, 45000), textcoords='data',\n",
    "            size=12, va=\"center\", ha=\"center\",\n",
    "            arrowprops=dict(arrowstyle=\"->\",\n",
    "                            connectionstyle=\"arc3,rad=0.2\", alpha=0.7),\n",
    "            alpha=0.8\n",
    "            )\n",
    "\n",
    "\n",
    "# Overlay axis on top of another and display an image of NYC Boroughs!\n",
    "image = mpimg.imread(\"schools/NYC_boroughs.png\")\n",
    "ax2 = mpl_il.inset_axes(plt.gca(), width='40%', height='40%', loc=2)\n",
    "ax2.imshow(image)\n",
    "ax2.margins(x=0.5)\n",
    "ax2.axis(\"off\")\n",
    "\n",
    "\n",
    "# save the figure. Increase the dpi to increase the quality of the output .png. For example, dpi=1000 is super high quality\n",
    "# note that the figure will be saved as 'sri_lanka_' then the name of the variable under analysis\n",
    "# you can change this to whatever you want\n",
    "plt.savefig('schools/school_district_' + var_2_analyze + '.png', dpi=100, alpha=True)\n",
    "\n",
    "# display the plot\n",
    "plt.show();"
   ]
  },
  {
   "cell_type": "markdown",
   "metadata": {},
   "source": [
    "Now, that looks better!\n",
    "\n",
    "Kind reminder to [reference NYC school districts](https://data.cityofnewyork.us/Education/School-Districts/r8nu-ymqj/data)."
   ]
  },
  {
   "cell_type": "markdown",
   "metadata": {},
   "source": [
    "### Findings\n",
    "---\n",
    "\n",
    "Manhattan is by far the most expensive Borough in NYC in terms of apartment price, while schools SAT scores may be decent, but not so impressive.\n",
    "\n",
    "**Now, the main question**: which School Districts are not so expensive to live in NYC and have decent schools according to the SAT score?\n",
    "\n",
    "1. **Brooklyn** is by far the best according to the map. Apartments are ranging on a lower price spectrum, and SAT score is the highest.\n",
    "2. **Staten Island** seems to be a 'School haven'! With least estate prices, the Schools in Staten Island hit the upper SAT score level!\n",
    "3. Some Districts in **Queens** Borough are a fairly good choice. With apartments price OK, and schools with nice performance."
   ]
  },
  {
   "cell_type": "markdown",
   "metadata": {},
   "source": [
    "### Wrap up\n",
    "\n",
    "*Thanks for checking out this article!*\n",
    "\n",
    "It was more of an exploration of matplotlib, basemap capabilities and those shapefiles. I think the result is quite nice, though there is so much room for improvement.\n",
    "\n",
    "It is absolutely true, that such graph a better to be built automatically with other libraries or even online tools! Which would be much faster and even provide interactivity for the graphs."
   ]
  },
  {
   "cell_type": "markdown",
   "metadata": {},
   "source": [
    "Sources:\n",
    "- http://brandonrose.org/pythonmap (thanks!)\n",
    "- http://sensitivecities.com/so-youd-like-to-make-a-map-using-python-EN.html#.Wb-9Z8gjFaR\n",
    "- http://shallowsky.com/blog/programming/plotting-election-data-basemap.html\n",
    "- https://data.cityofnewyork.us/Education/School-Districts/r8nu-ymqj/data"
   ]
  }
 ],
 "metadata": {
  "kernelspec": {
   "display_name": "Python 3",
   "language": "python",
   "name": "python3"
  },
  "language_info": {
   "codemirror_mode": {
    "name": "ipython",
    "version": 3
   },
   "file_extension": ".py",
   "mimetype": "text/x-python",
   "name": "python",
   "nbconvert_exporter": "python",
   "pygments_lexer": "ipython3",
   "version": "3.6.1"
  }
 },
 "nbformat": 4,
 "nbformat_minor": 2
}
