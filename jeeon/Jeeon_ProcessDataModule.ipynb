{
 "cells": [
  {
   "cell_type": "markdown",
   "metadata": {},
   "source": [
    "This notebook describes design of Jeeon data preprocess module."
   ]
  },
  {
   "cell_type": "markdown",
   "metadata": {},
   "source": [
    "## Idea\n",
    "Jeeon has several json data files with nested medical data and we assume all these files are typical in their structure. So, we would build a module that allows transform this files into dataframes ready for further data analysis.\n",
    "\n",
    "Anyone should be able to import our module, feed in the json file, and get nice dataframes as an output.\n",
    "\n",
    "Here is an example of how it may look like:\n",
    "\n",
    "\n",
    "```\n",
    "import jeeon\n",
    "\n",
    "jeeon.read_json('prescription-corpus-full-2012-12-08.json')\n",
    "\n",
    ">> Prescription corpus is being processed (might take X min)... Done\n",
    ">>\n",
    ">> Available Dataframes to retrieve\n",
    ">> \n",
    ">> Prescription corpus:\n",
    ">> appointment\n",
    ">> doctor\n",
    ">> feedback\n",
    ">> patient\n",
    ">> prescription:\n",
    ">>     medicines\n",
    ">>     advices\n",
    ">>     complaints\n",
    ">>     diff_diagnoses\n",
    ">>     provisional_diagnoses\n",
    "...\n",
    ">> rmp\n",
    "\n",
    ">> To retrieve data run as following:\n",
    ">> jeeon.get_df.doctor - that would return doctor dataframe\n",
    ">> jeeon.get_csv.doctor - that would write doctor_{timestamp}.csv into current folder.\n",
    "\n",
    "doctor_df = jeeon.get.doctor\n",
    "```"
   ]
  },
  {
   "cell_type": "markdown",
   "metadata": {},
   "source": [
    "## Technical Implementation\n",
    "We'll use modular approach which has excellent coverage in [dataquest course on modules](https://www.dataquest.io/course/python-programming-intermediate).\n",
    "\n",
    "Here are high-level notes on what would happen under the hood:\n",
    "\n",
    "- jeeon module would automatically recognize json file by it's internal structure, be it prescription corpus, prescription survey or survey feedback. If not recognized - proper message appears.\n",
    "- the module would process then data to dataframes and assign to variables: i.e. appointment, doctor, feedback etc.\n",
    "- functions get_df and get_csv would return dataframe and write to csv (with timestamp) respectively.\n",
    "- the module would retain data for different types of json files, and therefore print out all \"Available dataframes to retrieve\" so far. Sure, if the same type of json file is been processed again - data would be overwritten.\n",
    "- optional and nice get_info method that prints out documentation for the dataframe of choice."
   ]
  },
  {
   "cell_type": "markdown",
   "metadata": {},
   "source": [
    "Should be cool, really :)"
   ]
  }
 ],
 "metadata": {
  "kernelspec": {
   "display_name": "Python 3",
   "language": "python",
   "name": "python3"
  },
  "language_info": {
   "codemirror_mode": {
    "name": "ipython",
    "version": 3
   },
   "file_extension": ".py",
   "mimetype": "text/x-python",
   "name": "python",
   "nbconvert_exporter": "python",
   "pygments_lexer": "ipython3",
   "version": "3.6.1"
  }
 },
 "nbformat": 4,
 "nbformat_minor": 2
}
